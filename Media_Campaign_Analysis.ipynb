{
  "nbformat": 4,
  "nbformat_minor": 0,
  "metadata": {
    "colab": {
      "provenance": [],
      "toc_visible": true
    },
    "kernelspec": {
      "name": "python3",
      "display_name": "Python 3"
    },
    "language_info": {
      "name": "python"
    }
  },
  "cells": [
    {
      "cell_type": "markdown",
      "source": [
        "# Media Campaign Analysis\n",
        "\n",
        "  Author: Joshua Guillen\n",
        "\n",
        "___\n"
      ],
      "metadata": {
        "id": "Mh-pMD0gYdiQ"
      }
    },
    {
      "cell_type": "markdown",
      "source": [
        "## Background\n",
        "___"
      ],
      "metadata": {
        "id": "sKGbaAub9s9J"
      }
    },
    {
      "cell_type": "markdown",
      "source": [
        "## Analysis\n",
        "___"
      ],
      "metadata": {
        "id": "yjjxjNLl9zYz"
      }
    },
    {
      "cell_type": "markdown",
      "source": [
        "## Table of Contents\n",
        "___"
      ],
      "metadata": {
        "id": "aEM67rg892LW"
      }
    },
    {
      "cell_type": "markdown",
      "source": [
        "## 0. Setup / Dependencies\n",
        "---"
      ],
      "metadata": {
        "id": "4AfHJqzbY8JH"
      }
    },
    {
      "cell_type": "markdown",
      "source": [
        "Importing Google goodness"
      ],
      "metadata": {
        "id": "_saiflD2ZC-N"
      }
    },
    {
      "cell_type": "code",
      "execution_count": null,
      "metadata": {
        "id": "CnDa3DY3H8AQ"
      },
      "outputs": [],
      "source": [
        "!pip install google-cloud\n",
        "!pip install google-cloud-storage\n",
        "!pip install google-cloud-bigquery[pandas]"
      ]
    },
    {
      "cell_type": "code",
      "source": [
        "from google.colab import auth\n",
        "auth.authenticate_user()"
      ],
      "metadata": {
        "id": "2oTfgcV8UfVF"
      },
      "execution_count": null,
      "outputs": []
    },
    {
      "cell_type": "markdown",
      "source": [
        "Connecting to my project's data warehouse in BigQuery."
      ],
      "metadata": {
        "id": "KF9L6ByDZJAm"
      }
    },
    {
      "cell_type": "code",
      "source": [
        "from google.cloud import bigquery\n",
        "client = bigquery.Client(project='sfda-capstone-project')"
      ],
      "metadata": {
        "id": "2-iutFNuQxjG"
      },
      "execution_count": null,
      "outputs": []
    },
    {
      "cell_type": "markdown",
      "source": [
        "Importing Audience Reporting, Device Location Creative Reporting, and Inventory Viewing Data Sets.\n"
      ],
      "metadata": {
        "id": "W5y3U53z-2yf"
      }
    },
    {
      "cell_type": "code",
      "source": [
        "# QUERY = \"\"\"\n",
        "# SELECT *\n",
        "# FROM sfda-capstone-project.datasets.device_location_creative_reporting\n",
        "# \"\"\"\n",
        "# results = client.query(QUERY)\n",
        "# device_location_creative = results.to_dataframe()\n"
      ],
      "metadata": {
        "id": "3TRFZw-_6X6H",
        "colab": {
          "base_uri": "https://localhost:8080/",
          "height": 236
        },
        "outputId": "92630177-49ec-4c0e-d18e-979ff451cb7c"
      },
      "execution_count": 1,
      "outputs": [
        {
          "output_type": "error",
          "ename": "NameError",
          "evalue": "ignored",
          "traceback": [
            "\u001b[0;31m---------------------------------------------------------------------------\u001b[0m",
            "\u001b[0;31mNameError\u001b[0m                                 Traceback (most recent call last)",
            "\u001b[0;32m<ipython-input-1-120bd940d90e>\u001b[0m in \u001b[0;36m<cell line: 5>\u001b[0;34m()\u001b[0m\n\u001b[1;32m      3\u001b[0m \u001b[0mFROM\u001b[0m \u001b[0msfda\u001b[0m\u001b[0;34m-\u001b[0m\u001b[0mcapstone\u001b[0m\u001b[0;34m-\u001b[0m\u001b[0mproject\u001b[0m\u001b[0;34m.\u001b[0m\u001b[0mdatasets\u001b[0m\u001b[0;34m.\u001b[0m\u001b[0mdevice_location_creative_reporting\u001b[0m\u001b[0;34m\u001b[0m\u001b[0;34m\u001b[0m\u001b[0m\n\u001b[1;32m      4\u001b[0m \"\"\"\n\u001b[0;32m----> 5\u001b[0;31m \u001b[0mresults\u001b[0m \u001b[0;34m=\u001b[0m \u001b[0mclient\u001b[0m\u001b[0;34m.\u001b[0m\u001b[0mquery\u001b[0m\u001b[0;34m(\u001b[0m\u001b[0mQUERY\u001b[0m\u001b[0;34m)\u001b[0m\u001b[0;34m\u001b[0m\u001b[0;34m\u001b[0m\u001b[0m\n\u001b[0m\u001b[1;32m      6\u001b[0m \u001b[0mdevice_location_creative\u001b[0m \u001b[0;34m=\u001b[0m \u001b[0mresults\u001b[0m\u001b[0;34m.\u001b[0m\u001b[0mto_dataframe\u001b[0m\u001b[0;34m(\u001b[0m\u001b[0;34m)\u001b[0m\u001b[0;34m\u001b[0m\u001b[0;34m\u001b[0m\u001b[0m\n",
            "\u001b[0;31mNameError\u001b[0m: name 'client' is not defined"
          ]
        }
      ]
    },
    {
      "cell_type": "code",
      "source": [
        "# QUERY = \"\"\"\n",
        "# SELECT *\n",
        "# FROM sfda-capstone-project.datasets.inventory_viewability_reporting\n",
        "# \"\"\"\n",
        "# results = client.query(QUERY)\n",
        "# inventory_viewability = results.to_dataframe()"
      ],
      "metadata": {
        "id": "dbShBXXR7p9E"
      },
      "execution_count": null,
      "outputs": []
    }
  ]
}