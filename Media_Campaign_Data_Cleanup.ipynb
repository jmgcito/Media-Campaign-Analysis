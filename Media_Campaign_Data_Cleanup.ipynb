{
  "nbformat": 4,
  "nbformat_minor": 0,
  "metadata": {
    "colab": {
      "provenance": [],
      "collapsed_sections": [
        "VChT6wjVHzBA"
      ],
      "toc_visible": true
    },
    "kernelspec": {
      "name": "python3",
      "display_name": "Python 3"
    },
    "language_info": {
      "name": "python"
    }
  },
  "cells": [
    {
      "cell_type": "markdown",
      "source": [
        "# Media Campaign Data Cleanup\n",
        "\n",
        "  Author: Joshua Guillen\n",
        "\n",
        "___\n"
      ],
      "metadata": {
        "id": "Mh-pMD0gYdiQ"
      }
    },
    {
      "cell_type": "markdown",
      "source": [
        "## Background\n",
        "___"
      ],
      "metadata": {
        "id": "sKGbaAub9s9J"
      }
    },
    {
      "cell_type": "markdown",
      "source": [
        "As the Data Manager for this Media Campaign data project, my key responsibility is to clean and manage two significant datasets: the Device Location and Inventory Viewability datasets. These large datasets are stored in Google Cloud and BigQuery. My role involves meticulously preparing and organizing this raw data, which encompasses tasks such as removing duplicates, handling missing values, and ensuring overall data consistency."
      ],
      "metadata": {
        "id": "cPY8BRYscTuz"
      }
    },
    {
      "cell_type": "markdown",
      "source": [
        "## Summary\n",
        "___"
      ],
      "metadata": {
        "id": "yjjxjNLl9zYz"
      }
    },
    {
      "cell_type": "markdown",
      "source": [
        "Device Location Creative Dataset:\n",
        "\n",
        "* Removed null values and duplicates.\n",
        "* Examined unique values across various columns.\n",
        "* Dropped the 'Device_Model' column due to many unknown entries.\n",
        "* Reformulated the Strategy column for clarity.\n",
        "* Created a new 'Conversions_Revenue' column.\n",
        "* Removed duplicates\n",
        "\n",
        "Inventory Viewability Dataset:\n",
        "* Eliminated rows with null values.\n",
        "* Removed the 'Brand_Company_Name' column due to redundancy.\n",
        "* Reformatted the Strategy column to improve readability. This resulted in a new Strategy Device column.\n",
        "* Decided to retain negative values in the 'Measurable_Impressions' column, as they indicated invalid activity."
      ],
      "metadata": {
        "id": "5fbYvo1Dd4J_"
      }
    },
    {
      "cell_type": "markdown",
      "source": [
        "## Table of Contents\n",
        "___"
      ],
      "metadata": {
        "id": "aEM67rg892LW"
      }
    },
    {
      "cell_type": "markdown",
      "source": [
        "0. Setup / Dependencies\n",
        "1. Device Location Creative Reporting\n",
        "    * Initialization\n",
        "    * Unique Values\n",
        "    * Exploring Unknown Values\n",
        "    * Reformatting Strategy Column\n",
        "    * Adding Conversion Value\n",
        "    * Exporting Clean CSV\n",
        "2. Inventory Viewability Reporting\n",
        "    * Initialization\n",
        "    * Null Values\n",
        "    * Dropping Brand Company Name Column\n",
        "    * Reformatting Strategy Column\n",
        "    * Negative Measurable Impression Values\n",
        "    * Duplicates\n",
        "    * Exporting Clean CSV\n"
      ],
      "metadata": {
        "id": "jnsxr2bcPw99"
      }
    },
    {
      "cell_type": "markdown",
      "source": [
        "## 0. Setup / Dependencies\n",
        "---"
      ],
      "metadata": {
        "id": "4AfHJqzbY8JH"
      }
    },
    {
      "cell_type": "markdown",
      "source": [
        "Importing Google goodness"
      ],
      "metadata": {
        "id": "_saiflD2ZC-N"
      }
    },
    {
      "cell_type": "code",
      "execution_count": null,
      "metadata": {
        "id": "CnDa3DY3H8AQ"
      },
      "outputs": [],
      "source": [
        "!pip install google-cloud\n",
        "!pip install google-cloud-storage\n",
        "!pip install google-cloud-bigquery[pandas]"
      ]
    },
    {
      "cell_type": "code",
      "source": [
        "from google.colab import auth\n",
        "auth.authenticate_user()"
      ],
      "metadata": {
        "id": "2oTfgcV8UfVF"
      },
      "execution_count": 3,
      "outputs": []
    },
    {
      "cell_type": "markdown",
      "source": [
        "Connecting to my project's data warehouse in BigQuery."
      ],
      "metadata": {
        "id": "KF9L6ByDZJAm"
      }
    },
    {
      "cell_type": "code",
      "source": [
        "from google.cloud import bigquery\n",
        "client = bigquery.Client(project='sfda-capstone-project')"
      ],
      "metadata": {
        "id": "2-iutFNuQxjG"
      },
      "execution_count": 4,
      "outputs": []
    },
    {
      "cell_type": "markdown",
      "source": [
        "Importing Audience Reporting, Device Location Creative Reporting, and Inventory Viewing Data Sets.\n"
      ],
      "metadata": {
        "id": "W5y3U53z-2yf"
      }
    },
    {
      "cell_type": "code",
      "source": [
        "QUERY = \"\"\"\n",
        "SELECT *\n",
        "FROM sfda-capstone-project.datasets.device_location_creative_reporting\n",
        "\"\"\"\n",
        "results = client.query(QUERY)\n",
        "device_location = results.to_dataframe()\n"
      ],
      "metadata": {
        "id": "3TRFZw-_6X6H"
      },
      "execution_count": 5,
      "outputs": []
    },
    {
      "cell_type": "code",
      "source": [
        "QUERY = \"\"\"\n",
        "SELECT *\n",
        "FROM sfda-capstone-project.datasets.inventory_viewability_reporting\n",
        "\"\"\"\n",
        "results = client.query(QUERY)\n",
        "inventory_viewability = results.to_dataframe()"
      ],
      "metadata": {
        "id": "dbShBXXR7p9E"
      },
      "execution_count": 6,
      "outputs": []
    },
    {
      "cell_type": "markdown",
      "source": [
        "## 1. Device Location Creative Reporting\n",
        "___"
      ],
      "metadata": {
        "id": "hHqXK1UgCQ9Y"
      }
    },
    {
      "cell_type": "markdown",
      "source": [
        "### Initialization"
      ],
      "metadata": {
        "id": "8eInKOBIn2v1"
      }
    },
    {
      "cell_type": "markdown",
      "source": [
        "Making copy of raw query for cleaning."
      ],
      "metadata": {
        "id": "L81Vj1aTCtnu"
      }
    },
    {
      "cell_type": "code",
      "source": [
        "device_location_clean = device_location.copy()"
      ],
      "metadata": {
        "id": "3YchknMLCya5"
      },
      "execution_count": 7,
      "outputs": []
    },
    {
      "cell_type": "code",
      "source": [
        "device_location_clean.head()"
      ],
      "metadata": {
        "colab": {
          "base_uri": "https://localhost:8080/",
          "height": 348
        },
        "id": "5muoz3MXheDB",
        "outputId": "4f3e8211-1b4a-4b38-c1cb-d3e0a4b9c95a"
      },
      "execution_count": 8,
      "outputs": [
        {
          "output_type": "execute_result",
          "data": {
            "text/plain": [
              "                                        Strategy  \\\n",
              "0                                           None   \n",
              "1               Mobile_2P_Custom Intent/Affinity   \n",
              "2  Mobile_2P_In Market_Business Services or ISPs   \n",
              "3                  Mobile_2P_Business Contextual   \n",
              "4               Mobile_2P_Custom Intent/Affinity   \n",
              "\n",
              "                        DMA_Name        Browser Operating_System  \\\n",
              "0                           None           None             None   \n",
              "1  Miami-Ft. Lauderdale, Florida  Google Chrome      Android 4.4   \n",
              "2  Miami-Ft. Lauderdale, Florida  Google Chrome      Android 4.4   \n",
              "3  Miami-Ft. Lauderdale, Florida         Yandex      Android 8.1   \n",
              "4              Chicago, Illinois  Google Chrome      Android 8.1   \n",
              "\n",
              "  Creative_Size  Device_Type      Device_Make Device_Model  Impressions  \\\n",
              "0          None         None             None         None         <NA>   \n",
              "1       300x250  Smart Phone  BQ (All Models)      Unknown            1   \n",
              "2       300x250  Smart Phone  BQ (All Models)      Unknown            1   \n",
              "3        320x50  Smart Phone  BQ (All Models)      Unknown            1   \n",
              "4        320x50  Smart Phone  BQ (All Models)      Unknown            1   \n",
              "\n",
              "   Clicks  Total_Conversions  Gross_Cost  Net_Cost  \n",
              "0    <NA>               <NA>         NaN       NaN  \n",
              "1       0                  0    0.000974  0.000313  \n",
              "2       0                  0    0.000583  0.000187  \n",
              "3       0                  0    0.000662  0.000213  \n",
              "4       0                  0    0.001402  0.000450  "
            ],
            "text/html": [
              "\n",
              "  <div id=\"df-3c1d10da-f0c2-4faf-9562-6394e04dc2f0\" class=\"colab-df-container\">\n",
              "    <div>\n",
              "<style scoped>\n",
              "    .dataframe tbody tr th:only-of-type {\n",
              "        vertical-align: middle;\n",
              "    }\n",
              "\n",
              "    .dataframe tbody tr th {\n",
              "        vertical-align: top;\n",
              "    }\n",
              "\n",
              "    .dataframe thead th {\n",
              "        text-align: right;\n",
              "    }\n",
              "</style>\n",
              "<table border=\"1\" class=\"dataframe\">\n",
              "  <thead>\n",
              "    <tr style=\"text-align: right;\">\n",
              "      <th></th>\n",
              "      <th>Strategy</th>\n",
              "      <th>DMA_Name</th>\n",
              "      <th>Browser</th>\n",
              "      <th>Operating_System</th>\n",
              "      <th>Creative_Size</th>\n",
              "      <th>Device_Type</th>\n",
              "      <th>Device_Make</th>\n",
              "      <th>Device_Model</th>\n",
              "      <th>Impressions</th>\n",
              "      <th>Clicks</th>\n",
              "      <th>Total_Conversions</th>\n",
              "      <th>Gross_Cost</th>\n",
              "      <th>Net_Cost</th>\n",
              "    </tr>\n",
              "  </thead>\n",
              "  <tbody>\n",
              "    <tr>\n",
              "      <th>0</th>\n",
              "      <td>None</td>\n",
              "      <td>None</td>\n",
              "      <td>None</td>\n",
              "      <td>None</td>\n",
              "      <td>None</td>\n",
              "      <td>None</td>\n",
              "      <td>None</td>\n",
              "      <td>None</td>\n",
              "      <td>&lt;NA&gt;</td>\n",
              "      <td>&lt;NA&gt;</td>\n",
              "      <td>&lt;NA&gt;</td>\n",
              "      <td>NaN</td>\n",
              "      <td>NaN</td>\n",
              "    </tr>\n",
              "    <tr>\n",
              "      <th>1</th>\n",
              "      <td>Mobile_2P_Custom Intent/Affinity</td>\n",
              "      <td>Miami-Ft. Lauderdale, Florida</td>\n",
              "      <td>Google Chrome</td>\n",
              "      <td>Android 4.4</td>\n",
              "      <td>300x250</td>\n",
              "      <td>Smart Phone</td>\n",
              "      <td>BQ (All Models)</td>\n",
              "      <td>Unknown</td>\n",
              "      <td>1</td>\n",
              "      <td>0</td>\n",
              "      <td>0</td>\n",
              "      <td>0.000974</td>\n",
              "      <td>0.000313</td>\n",
              "    </tr>\n",
              "    <tr>\n",
              "      <th>2</th>\n",
              "      <td>Mobile_2P_In Market_Business Services or ISPs</td>\n",
              "      <td>Miami-Ft. Lauderdale, Florida</td>\n",
              "      <td>Google Chrome</td>\n",
              "      <td>Android 4.4</td>\n",
              "      <td>300x250</td>\n",
              "      <td>Smart Phone</td>\n",
              "      <td>BQ (All Models)</td>\n",
              "      <td>Unknown</td>\n",
              "      <td>1</td>\n",
              "      <td>0</td>\n",
              "      <td>0</td>\n",
              "      <td>0.000583</td>\n",
              "      <td>0.000187</td>\n",
              "    </tr>\n",
              "    <tr>\n",
              "      <th>3</th>\n",
              "      <td>Mobile_2P_Business Contextual</td>\n",
              "      <td>Miami-Ft. Lauderdale, Florida</td>\n",
              "      <td>Yandex</td>\n",
              "      <td>Android 8.1</td>\n",
              "      <td>320x50</td>\n",
              "      <td>Smart Phone</td>\n",
              "      <td>BQ (All Models)</td>\n",
              "      <td>Unknown</td>\n",
              "      <td>1</td>\n",
              "      <td>0</td>\n",
              "      <td>0</td>\n",
              "      <td>0.000662</td>\n",
              "      <td>0.000213</td>\n",
              "    </tr>\n",
              "    <tr>\n",
              "      <th>4</th>\n",
              "      <td>Mobile_2P_Custom Intent/Affinity</td>\n",
              "      <td>Chicago, Illinois</td>\n",
              "      <td>Google Chrome</td>\n",
              "      <td>Android 8.1</td>\n",
              "      <td>320x50</td>\n",
              "      <td>Smart Phone</td>\n",
              "      <td>BQ (All Models)</td>\n",
              "      <td>Unknown</td>\n",
              "      <td>1</td>\n",
              "      <td>0</td>\n",
              "      <td>0</td>\n",
              "      <td>0.001402</td>\n",
              "      <td>0.000450</td>\n",
              "    </tr>\n",
              "  </tbody>\n",
              "</table>\n",
              "</div>\n",
              "    <div class=\"colab-df-buttons\">\n",
              "\n",
              "  <div class=\"colab-df-container\">\n",
              "    <button class=\"colab-df-convert\" onclick=\"convertToInteractive('df-3c1d10da-f0c2-4faf-9562-6394e04dc2f0')\"\n",
              "            title=\"Convert this dataframe to an interactive table.\"\n",
              "            style=\"display:none;\">\n",
              "\n",
              "  <svg xmlns=\"http://www.w3.org/2000/svg\" height=\"24px\" viewBox=\"0 -960 960 960\">\n",
              "    <path d=\"M120-120v-720h720v720H120Zm60-500h600v-160H180v160Zm220 220h160v-160H400v160Zm0 220h160v-160H400v160ZM180-400h160v-160H180v160Zm440 0h160v-160H620v160ZM180-180h160v-160H180v160Zm440 0h160v-160H620v160Z\"/>\n",
              "  </svg>\n",
              "    </button>\n",
              "\n",
              "  <style>\n",
              "    .colab-df-container {\n",
              "      display:flex;\n",
              "      gap: 12px;\n",
              "    }\n",
              "\n",
              "    .colab-df-convert {\n",
              "      background-color: #E8F0FE;\n",
              "      border: none;\n",
              "      border-radius: 50%;\n",
              "      cursor: pointer;\n",
              "      display: none;\n",
              "      fill: #1967D2;\n",
              "      height: 32px;\n",
              "      padding: 0 0 0 0;\n",
              "      width: 32px;\n",
              "    }\n",
              "\n",
              "    .colab-df-convert:hover {\n",
              "      background-color: #E2EBFA;\n",
              "      box-shadow: 0px 1px 2px rgba(60, 64, 67, 0.3), 0px 1px 3px 1px rgba(60, 64, 67, 0.15);\n",
              "      fill: #174EA6;\n",
              "    }\n",
              "\n",
              "    .colab-df-buttons div {\n",
              "      margin-bottom: 4px;\n",
              "    }\n",
              "\n",
              "    [theme=dark] .colab-df-convert {\n",
              "      background-color: #3B4455;\n",
              "      fill: #D2E3FC;\n",
              "    }\n",
              "\n",
              "    [theme=dark] .colab-df-convert:hover {\n",
              "      background-color: #434B5C;\n",
              "      box-shadow: 0px 1px 3px 1px rgba(0, 0, 0, 0.15);\n",
              "      filter: drop-shadow(0px 1px 2px rgba(0, 0, 0, 0.3));\n",
              "      fill: #FFFFFF;\n",
              "    }\n",
              "  </style>\n",
              "\n",
              "    <script>\n",
              "      const buttonEl =\n",
              "        document.querySelector('#df-3c1d10da-f0c2-4faf-9562-6394e04dc2f0 button.colab-df-convert');\n",
              "      buttonEl.style.display =\n",
              "        google.colab.kernel.accessAllowed ? 'block' : 'none';\n",
              "\n",
              "      async function convertToInteractive(key) {\n",
              "        const element = document.querySelector('#df-3c1d10da-f0c2-4faf-9562-6394e04dc2f0');\n",
              "        const dataTable =\n",
              "          await google.colab.kernel.invokeFunction('convertToInteractive',\n",
              "                                                    [key], {});\n",
              "        if (!dataTable) return;\n",
              "\n",
              "        const docLinkHtml = 'Like what you see? Visit the ' +\n",
              "          '<a target=\"_blank\" href=https://colab.research.google.com/notebooks/data_table.ipynb>data table notebook</a>'\n",
              "          + ' to learn more about interactive tables.';\n",
              "        element.innerHTML = '';\n",
              "        dataTable['output_type'] = 'display_data';\n",
              "        await google.colab.output.renderOutput(dataTable, element);\n",
              "        const docLink = document.createElement('div');\n",
              "        docLink.innerHTML = docLinkHtml;\n",
              "        element.appendChild(docLink);\n",
              "      }\n",
              "    </script>\n",
              "  </div>\n",
              "\n",
              "\n",
              "<div id=\"df-e0dbdf99-aa8e-454f-890a-95ee29a87f90\">\n",
              "  <button class=\"colab-df-quickchart\" onclick=\"quickchart('df-e0dbdf99-aa8e-454f-890a-95ee29a87f90')\"\n",
              "            title=\"Suggest charts\"\n",
              "            style=\"display:none;\">\n",
              "\n",
              "<svg xmlns=\"http://www.w3.org/2000/svg\" height=\"24px\"viewBox=\"0 0 24 24\"\n",
              "     width=\"24px\">\n",
              "    <g>\n",
              "        <path d=\"M19 3H5c-1.1 0-2 .9-2 2v14c0 1.1.9 2 2 2h14c1.1 0 2-.9 2-2V5c0-1.1-.9-2-2-2zM9 17H7v-7h2v7zm4 0h-2V7h2v10zm4 0h-2v-4h2v4z\"/>\n",
              "    </g>\n",
              "</svg>\n",
              "  </button>\n",
              "\n",
              "<style>\n",
              "  .colab-df-quickchart {\n",
              "      --bg-color: #E8F0FE;\n",
              "      --fill-color: #1967D2;\n",
              "      --hover-bg-color: #E2EBFA;\n",
              "      --hover-fill-color: #174EA6;\n",
              "      --disabled-fill-color: #AAA;\n",
              "      --disabled-bg-color: #DDD;\n",
              "  }\n",
              "\n",
              "  [theme=dark] .colab-df-quickchart {\n",
              "      --bg-color: #3B4455;\n",
              "      --fill-color: #D2E3FC;\n",
              "      --hover-bg-color: #434B5C;\n",
              "      --hover-fill-color: #FFFFFF;\n",
              "      --disabled-bg-color: #3B4455;\n",
              "      --disabled-fill-color: #666;\n",
              "  }\n",
              "\n",
              "  .colab-df-quickchart {\n",
              "    background-color: var(--bg-color);\n",
              "    border: none;\n",
              "    border-radius: 50%;\n",
              "    cursor: pointer;\n",
              "    display: none;\n",
              "    fill: var(--fill-color);\n",
              "    height: 32px;\n",
              "    padding: 0;\n",
              "    width: 32px;\n",
              "  }\n",
              "\n",
              "  .colab-df-quickchart:hover {\n",
              "    background-color: var(--hover-bg-color);\n",
              "    box-shadow: 0 1px 2px rgba(60, 64, 67, 0.3), 0 1px 3px 1px rgba(60, 64, 67, 0.15);\n",
              "    fill: var(--button-hover-fill-color);\n",
              "  }\n",
              "\n",
              "  .colab-df-quickchart-complete:disabled,\n",
              "  .colab-df-quickchart-complete:disabled:hover {\n",
              "    background-color: var(--disabled-bg-color);\n",
              "    fill: var(--disabled-fill-color);\n",
              "    box-shadow: none;\n",
              "  }\n",
              "\n",
              "  .colab-df-spinner {\n",
              "    border: 2px solid var(--fill-color);\n",
              "    border-color: transparent;\n",
              "    border-bottom-color: var(--fill-color);\n",
              "    animation:\n",
              "      spin 1s steps(1) infinite;\n",
              "  }\n",
              "\n",
              "  @keyframes spin {\n",
              "    0% {\n",
              "      border-color: transparent;\n",
              "      border-bottom-color: var(--fill-color);\n",
              "      border-left-color: var(--fill-color);\n",
              "    }\n",
              "    20% {\n",
              "      border-color: transparent;\n",
              "      border-left-color: var(--fill-color);\n",
              "      border-top-color: var(--fill-color);\n",
              "    }\n",
              "    30% {\n",
              "      border-color: transparent;\n",
              "      border-left-color: var(--fill-color);\n",
              "      border-top-color: var(--fill-color);\n",
              "      border-right-color: var(--fill-color);\n",
              "    }\n",
              "    40% {\n",
              "      border-color: transparent;\n",
              "      border-right-color: var(--fill-color);\n",
              "      border-top-color: var(--fill-color);\n",
              "    }\n",
              "    60% {\n",
              "      border-color: transparent;\n",
              "      border-right-color: var(--fill-color);\n",
              "    }\n",
              "    80% {\n",
              "      border-color: transparent;\n",
              "      border-right-color: var(--fill-color);\n",
              "      border-bottom-color: var(--fill-color);\n",
              "    }\n",
              "    90% {\n",
              "      border-color: transparent;\n",
              "      border-bottom-color: var(--fill-color);\n",
              "    }\n",
              "  }\n",
              "</style>\n",
              "\n",
              "  <script>\n",
              "    async function quickchart(key) {\n",
              "      const quickchartButtonEl =\n",
              "        document.querySelector('#' + key + ' button');\n",
              "      quickchartButtonEl.disabled = true;  // To prevent multiple clicks.\n",
              "      quickchartButtonEl.classList.add('colab-df-spinner');\n",
              "      try {\n",
              "        const charts = await google.colab.kernel.invokeFunction(\n",
              "            'suggestCharts', [key], {});\n",
              "      } catch (error) {\n",
              "        console.error('Error during call to suggestCharts:', error);\n",
              "      }\n",
              "      quickchartButtonEl.classList.remove('colab-df-spinner');\n",
              "      quickchartButtonEl.classList.add('colab-df-quickchart-complete');\n",
              "    }\n",
              "    (() => {\n",
              "      let quickchartButtonEl =\n",
              "        document.querySelector('#df-e0dbdf99-aa8e-454f-890a-95ee29a87f90 button');\n",
              "      quickchartButtonEl.style.display =\n",
              "        google.colab.kernel.accessAllowed ? 'block' : 'none';\n",
              "    })();\n",
              "  </script>\n",
              "</div>\n",
              "    </div>\n",
              "  </div>\n"
            ]
          },
          "metadata": {},
          "execution_count": 8
        }
      ]
    },
    {
      "cell_type": "markdown",
      "source": [
        "Removing Nulls on 0th Row"
      ],
      "metadata": {
        "id": "_15qGJF7C2ly"
      }
    },
    {
      "cell_type": "code",
      "source": [
        "device_location_clean = device_location_clean.drop(0).reset_index(drop=True)"
      ],
      "metadata": {
        "id": "x6hbjHRwC2mD"
      },
      "execution_count": 9,
      "outputs": []
    },
    {
      "cell_type": "markdown",
      "source": [
        "Checking for NULL values"
      ],
      "metadata": {
        "id": "E6UOMnwSh6GQ"
      }
    },
    {
      "cell_type": "code",
      "source": [
        "device_location_clean.isna().sum()"
      ],
      "metadata": {
        "colab": {
          "base_uri": "https://localhost:8080/"
        },
        "id": "zmulJZNW0-xO",
        "outputId": "9e15fe33-d31a-4d38-cd79-35818fd83da8"
      },
      "execution_count": 10,
      "outputs": [
        {
          "output_type": "execute_result",
          "data": {
            "text/plain": [
              "Strategy             0\n",
              "DMA_Name             0\n",
              "Browser              0\n",
              "Operating_System     0\n",
              "Creative_Size        0\n",
              "Device_Type          0\n",
              "Device_Make          0\n",
              "Device_Model         0\n",
              "Impressions          0\n",
              "Clicks               0\n",
              "Total_Conversions    0\n",
              "Gross_Cost           0\n",
              "Net_Cost             0\n",
              "dtype: int64"
            ]
          },
          "metadata": {},
          "execution_count": 10
        }
      ]
    },
    {
      "cell_type": "markdown",
      "source": [
        "Dataframe Info"
      ],
      "metadata": {
        "id": "esSCFI_8n_2O"
      }
    },
    {
      "cell_type": "code",
      "source": [
        "device_location_clean.info()"
      ],
      "metadata": {
        "colab": {
          "base_uri": "https://localhost:8080/"
        },
        "id": "-upmVKFVoBnn",
        "outputId": "7e3dfc9c-a602-4d94-e0ec-5343a2c80d9e"
      },
      "execution_count": 11,
      "outputs": [
        {
          "output_type": "stream",
          "name": "stdout",
          "text": [
            "<class 'pandas.core.frame.DataFrame'>\n",
            "RangeIndex: 464433 entries, 0 to 464432\n",
            "Data columns (total 13 columns):\n",
            " #   Column             Non-Null Count   Dtype  \n",
            "---  ------             --------------   -----  \n",
            " 0   Strategy           464433 non-null  object \n",
            " 1   DMA_Name           464433 non-null  object \n",
            " 2   Browser            464433 non-null  object \n",
            " 3   Operating_System   464433 non-null  object \n",
            " 4   Creative_Size      464433 non-null  object \n",
            " 5   Device_Type        464433 non-null  object \n",
            " 6   Device_Make        464433 non-null  object \n",
            " 7   Device_Model       464433 non-null  object \n",
            " 8   Impressions        464433 non-null  Int64  \n",
            " 9   Clicks             464433 non-null  Int64  \n",
            " 10  Total_Conversions  464433 non-null  Int64  \n",
            " 11  Gross_Cost         464433 non-null  float64\n",
            " 12  Net_Cost           464433 non-null  float64\n",
            "dtypes: Int64(3), float64(2), object(8)\n",
            "memory usage: 47.4+ MB\n"
          ]
        }
      ]
    },
    {
      "cell_type": "code",
      "source": [
        "device_location_clean.describe(include=\"all\")"
      ],
      "metadata": {
        "colab": {
          "base_uri": "https://localhost:8080/",
          "height": 432
        },
        "id": "RmtFcPJWCiCl",
        "outputId": "6b845c8d-0391-4d2d-e8e9-0e7da5157c8a"
      },
      "execution_count": 12,
      "outputs": [
        {
          "output_type": "execute_result",
          "data": {
            "text/plain": [
              "          Strategy           DMA_Name        Browser Operating_System  \\\n",
              "count       464433             464433         464433           464433   \n",
              "unique           6                121              4               71   \n",
              "top     Mobile_RON  Chicago, Illinois  Google Chrome     Android 13.0   \n",
              "freq        116148              28992         424958           118923   \n",
              "mean           NaN                NaN            NaN              NaN   \n",
              "std            NaN                NaN            NaN              NaN   \n",
              "min            NaN                NaN            NaN              NaN   \n",
              "25%            NaN                NaN            NaN              NaN   \n",
              "50%            NaN                NaN            NaN              NaN   \n",
              "75%            NaN                NaN            NaN              NaN   \n",
              "max            NaN                NaN            NaN              NaN   \n",
              "\n",
              "       Creative_Size  Device_Type           Device_Make Device_Model  \\\n",
              "count         464433       464433                464433       464433   \n",
              "unique             3            2                   100         1891   \n",
              "top           320x50  Smart Phone  Samsung (All Models)      Unknown   \n",
              "freq          194390       406553                225662        67488   \n",
              "mean             NaN          NaN                   NaN          NaN   \n",
              "std              NaN          NaN                   NaN          NaN   \n",
              "min              NaN          NaN                   NaN          NaN   \n",
              "25%              NaN          NaN                   NaN          NaN   \n",
              "50%              NaN          NaN                   NaN          NaN   \n",
              "75%              NaN          NaN                   NaN          NaN   \n",
              "max              NaN          NaN                   NaN          NaN   \n",
              "\n",
              "        Impressions    Clicks  Total_Conversions     Gross_Cost       Net_Cost  \n",
              "count      464433.0  464433.0           464433.0  464433.000000  464433.000000  \n",
              "unique         <NA>      <NA>               <NA>            NaN            NaN  \n",
              "top            <NA>      <NA>               <NA>            NaN            NaN  \n",
              "freq           <NA>      <NA>               <NA>            NaN            NaN  \n",
              "mean     153.023939  0.072351           0.002915       0.263574       0.084607  \n",
              "std     3474.842331  1.316353           0.146267       5.918069       1.899700  \n",
              "min             0.0       0.0                0.0       0.000000       0.000000  \n",
              "25%             1.0       0.0                0.0       0.001619       0.000520  \n",
              "50%             4.0       0.0                0.0       0.005172       0.001660  \n",
              "75%            16.0       0.0                0.0       0.024769       0.007951  \n",
              "max        968206.0     364.0               32.0    1790.812313     574.850752  "
            ],
            "text/html": [
              "\n",
              "  <div id=\"df-7705d246-82f0-480e-85b9-491debd21aa5\" class=\"colab-df-container\">\n",
              "    <div>\n",
              "<style scoped>\n",
              "    .dataframe tbody tr th:only-of-type {\n",
              "        vertical-align: middle;\n",
              "    }\n",
              "\n",
              "    .dataframe tbody tr th {\n",
              "        vertical-align: top;\n",
              "    }\n",
              "\n",
              "    .dataframe thead th {\n",
              "        text-align: right;\n",
              "    }\n",
              "</style>\n",
              "<table border=\"1\" class=\"dataframe\">\n",
              "  <thead>\n",
              "    <tr style=\"text-align: right;\">\n",
              "      <th></th>\n",
              "      <th>Strategy</th>\n",
              "      <th>DMA_Name</th>\n",
              "      <th>Browser</th>\n",
              "      <th>Operating_System</th>\n",
              "      <th>Creative_Size</th>\n",
              "      <th>Device_Type</th>\n",
              "      <th>Device_Make</th>\n",
              "      <th>Device_Model</th>\n",
              "      <th>Impressions</th>\n",
              "      <th>Clicks</th>\n",
              "      <th>Total_Conversions</th>\n",
              "      <th>Gross_Cost</th>\n",
              "      <th>Net_Cost</th>\n",
              "    </tr>\n",
              "  </thead>\n",
              "  <tbody>\n",
              "    <tr>\n",
              "      <th>count</th>\n",
              "      <td>464433</td>\n",
              "      <td>464433</td>\n",
              "      <td>464433</td>\n",
              "      <td>464433</td>\n",
              "      <td>464433</td>\n",
              "      <td>464433</td>\n",
              "      <td>464433</td>\n",
              "      <td>464433</td>\n",
              "      <td>464433.0</td>\n",
              "      <td>464433.0</td>\n",
              "      <td>464433.0</td>\n",
              "      <td>464433.000000</td>\n",
              "      <td>464433.000000</td>\n",
              "    </tr>\n",
              "    <tr>\n",
              "      <th>unique</th>\n",
              "      <td>6</td>\n",
              "      <td>121</td>\n",
              "      <td>4</td>\n",
              "      <td>71</td>\n",
              "      <td>3</td>\n",
              "      <td>2</td>\n",
              "      <td>100</td>\n",
              "      <td>1891</td>\n",
              "      <td>&lt;NA&gt;</td>\n",
              "      <td>&lt;NA&gt;</td>\n",
              "      <td>&lt;NA&gt;</td>\n",
              "      <td>NaN</td>\n",
              "      <td>NaN</td>\n",
              "    </tr>\n",
              "    <tr>\n",
              "      <th>top</th>\n",
              "      <td>Mobile_RON</td>\n",
              "      <td>Chicago, Illinois</td>\n",
              "      <td>Google Chrome</td>\n",
              "      <td>Android 13.0</td>\n",
              "      <td>320x50</td>\n",
              "      <td>Smart Phone</td>\n",
              "      <td>Samsung (All Models)</td>\n",
              "      <td>Unknown</td>\n",
              "      <td>&lt;NA&gt;</td>\n",
              "      <td>&lt;NA&gt;</td>\n",
              "      <td>&lt;NA&gt;</td>\n",
              "      <td>NaN</td>\n",
              "      <td>NaN</td>\n",
              "    </tr>\n",
              "    <tr>\n",
              "      <th>freq</th>\n",
              "      <td>116148</td>\n",
              "      <td>28992</td>\n",
              "      <td>424958</td>\n",
              "      <td>118923</td>\n",
              "      <td>194390</td>\n",
              "      <td>406553</td>\n",
              "      <td>225662</td>\n",
              "      <td>67488</td>\n",
              "      <td>&lt;NA&gt;</td>\n",
              "      <td>&lt;NA&gt;</td>\n",
              "      <td>&lt;NA&gt;</td>\n",
              "      <td>NaN</td>\n",
              "      <td>NaN</td>\n",
              "    </tr>\n",
              "    <tr>\n",
              "      <th>mean</th>\n",
              "      <td>NaN</td>\n",
              "      <td>NaN</td>\n",
              "      <td>NaN</td>\n",
              "      <td>NaN</td>\n",
              "      <td>NaN</td>\n",
              "      <td>NaN</td>\n",
              "      <td>NaN</td>\n",
              "      <td>NaN</td>\n",
              "      <td>153.023939</td>\n",
              "      <td>0.072351</td>\n",
              "      <td>0.002915</td>\n",
              "      <td>0.263574</td>\n",
              "      <td>0.084607</td>\n",
              "    </tr>\n",
              "    <tr>\n",
              "      <th>std</th>\n",
              "      <td>NaN</td>\n",
              "      <td>NaN</td>\n",
              "      <td>NaN</td>\n",
              "      <td>NaN</td>\n",
              "      <td>NaN</td>\n",
              "      <td>NaN</td>\n",
              "      <td>NaN</td>\n",
              "      <td>NaN</td>\n",
              "      <td>3474.842331</td>\n",
              "      <td>1.316353</td>\n",
              "      <td>0.146267</td>\n",
              "      <td>5.918069</td>\n",
              "      <td>1.899700</td>\n",
              "    </tr>\n",
              "    <tr>\n",
              "      <th>min</th>\n",
              "      <td>NaN</td>\n",
              "      <td>NaN</td>\n",
              "      <td>NaN</td>\n",
              "      <td>NaN</td>\n",
              "      <td>NaN</td>\n",
              "      <td>NaN</td>\n",
              "      <td>NaN</td>\n",
              "      <td>NaN</td>\n",
              "      <td>0.0</td>\n",
              "      <td>0.0</td>\n",
              "      <td>0.0</td>\n",
              "      <td>0.000000</td>\n",
              "      <td>0.000000</td>\n",
              "    </tr>\n",
              "    <tr>\n",
              "      <th>25%</th>\n",
              "      <td>NaN</td>\n",
              "      <td>NaN</td>\n",
              "      <td>NaN</td>\n",
              "      <td>NaN</td>\n",
              "      <td>NaN</td>\n",
              "      <td>NaN</td>\n",
              "      <td>NaN</td>\n",
              "      <td>NaN</td>\n",
              "      <td>1.0</td>\n",
              "      <td>0.0</td>\n",
              "      <td>0.0</td>\n",
              "      <td>0.001619</td>\n",
              "      <td>0.000520</td>\n",
              "    </tr>\n",
              "    <tr>\n",
              "      <th>50%</th>\n",
              "      <td>NaN</td>\n",
              "      <td>NaN</td>\n",
              "      <td>NaN</td>\n",
              "      <td>NaN</td>\n",
              "      <td>NaN</td>\n",
              "      <td>NaN</td>\n",
              "      <td>NaN</td>\n",
              "      <td>NaN</td>\n",
              "      <td>4.0</td>\n",
              "      <td>0.0</td>\n",
              "      <td>0.0</td>\n",
              "      <td>0.005172</td>\n",
              "      <td>0.001660</td>\n",
              "    </tr>\n",
              "    <tr>\n",
              "      <th>75%</th>\n",
              "      <td>NaN</td>\n",
              "      <td>NaN</td>\n",
              "      <td>NaN</td>\n",
              "      <td>NaN</td>\n",
              "      <td>NaN</td>\n",
              "      <td>NaN</td>\n",
              "      <td>NaN</td>\n",
              "      <td>NaN</td>\n",
              "      <td>16.0</td>\n",
              "      <td>0.0</td>\n",
              "      <td>0.0</td>\n",
              "      <td>0.024769</td>\n",
              "      <td>0.007951</td>\n",
              "    </tr>\n",
              "    <tr>\n",
              "      <th>max</th>\n",
              "      <td>NaN</td>\n",
              "      <td>NaN</td>\n",
              "      <td>NaN</td>\n",
              "      <td>NaN</td>\n",
              "      <td>NaN</td>\n",
              "      <td>NaN</td>\n",
              "      <td>NaN</td>\n",
              "      <td>NaN</td>\n",
              "      <td>968206.0</td>\n",
              "      <td>364.0</td>\n",
              "      <td>32.0</td>\n",
              "      <td>1790.812313</td>\n",
              "      <td>574.850752</td>\n",
              "    </tr>\n",
              "  </tbody>\n",
              "</table>\n",
              "</div>\n",
              "    <div class=\"colab-df-buttons\">\n",
              "\n",
              "  <div class=\"colab-df-container\">\n",
              "    <button class=\"colab-df-convert\" onclick=\"convertToInteractive('df-7705d246-82f0-480e-85b9-491debd21aa5')\"\n",
              "            title=\"Convert this dataframe to an interactive table.\"\n",
              "            style=\"display:none;\">\n",
              "\n",
              "  <svg xmlns=\"http://www.w3.org/2000/svg\" height=\"24px\" viewBox=\"0 -960 960 960\">\n",
              "    <path d=\"M120-120v-720h720v720H120Zm60-500h600v-160H180v160Zm220 220h160v-160H400v160Zm0 220h160v-160H400v160ZM180-400h160v-160H180v160Zm440 0h160v-160H620v160ZM180-180h160v-160H180v160Zm440 0h160v-160H620v160Z\"/>\n",
              "  </svg>\n",
              "    </button>\n",
              "\n",
              "  <style>\n",
              "    .colab-df-container {\n",
              "      display:flex;\n",
              "      gap: 12px;\n",
              "    }\n",
              "\n",
              "    .colab-df-convert {\n",
              "      background-color: #E8F0FE;\n",
              "      border: none;\n",
              "      border-radius: 50%;\n",
              "      cursor: pointer;\n",
              "      display: none;\n",
              "      fill: #1967D2;\n",
              "      height: 32px;\n",
              "      padding: 0 0 0 0;\n",
              "      width: 32px;\n",
              "    }\n",
              "\n",
              "    .colab-df-convert:hover {\n",
              "      background-color: #E2EBFA;\n",
              "      box-shadow: 0px 1px 2px rgba(60, 64, 67, 0.3), 0px 1px 3px 1px rgba(60, 64, 67, 0.15);\n",
              "      fill: #174EA6;\n",
              "    }\n",
              "\n",
              "    .colab-df-buttons div {\n",
              "      margin-bottom: 4px;\n",
              "    }\n",
              "\n",
              "    [theme=dark] .colab-df-convert {\n",
              "      background-color: #3B4455;\n",
              "      fill: #D2E3FC;\n",
              "    }\n",
              "\n",
              "    [theme=dark] .colab-df-convert:hover {\n",
              "      background-color: #434B5C;\n",
              "      box-shadow: 0px 1px 3px 1px rgba(0, 0, 0, 0.15);\n",
              "      filter: drop-shadow(0px 1px 2px rgba(0, 0, 0, 0.3));\n",
              "      fill: #FFFFFF;\n",
              "    }\n",
              "  </style>\n",
              "\n",
              "    <script>\n",
              "      const buttonEl =\n",
              "        document.querySelector('#df-7705d246-82f0-480e-85b9-491debd21aa5 button.colab-df-convert');\n",
              "      buttonEl.style.display =\n",
              "        google.colab.kernel.accessAllowed ? 'block' : 'none';\n",
              "\n",
              "      async function convertToInteractive(key) {\n",
              "        const element = document.querySelector('#df-7705d246-82f0-480e-85b9-491debd21aa5');\n",
              "        const dataTable =\n",
              "          await google.colab.kernel.invokeFunction('convertToInteractive',\n",
              "                                                    [key], {});\n",
              "        if (!dataTable) return;\n",
              "\n",
              "        const docLinkHtml = 'Like what you see? Visit the ' +\n",
              "          '<a target=\"_blank\" href=https://colab.research.google.com/notebooks/data_table.ipynb>data table notebook</a>'\n",
              "          + ' to learn more about interactive tables.';\n",
              "        element.innerHTML = '';\n",
              "        dataTable['output_type'] = 'display_data';\n",
              "        await google.colab.output.renderOutput(dataTable, element);\n",
              "        const docLink = document.createElement('div');\n",
              "        docLink.innerHTML = docLinkHtml;\n",
              "        element.appendChild(docLink);\n",
              "      }\n",
              "    </script>\n",
              "  </div>\n",
              "\n",
              "\n",
              "<div id=\"df-f4f95be8-f271-4a7e-869e-3cbca60e5509\">\n",
              "  <button class=\"colab-df-quickchart\" onclick=\"quickchart('df-f4f95be8-f271-4a7e-869e-3cbca60e5509')\"\n",
              "            title=\"Suggest charts\"\n",
              "            style=\"display:none;\">\n",
              "\n",
              "<svg xmlns=\"http://www.w3.org/2000/svg\" height=\"24px\"viewBox=\"0 0 24 24\"\n",
              "     width=\"24px\">\n",
              "    <g>\n",
              "        <path d=\"M19 3H5c-1.1 0-2 .9-2 2v14c0 1.1.9 2 2 2h14c1.1 0 2-.9 2-2V5c0-1.1-.9-2-2-2zM9 17H7v-7h2v7zm4 0h-2V7h2v10zm4 0h-2v-4h2v4z\"/>\n",
              "    </g>\n",
              "</svg>\n",
              "  </button>\n",
              "\n",
              "<style>\n",
              "  .colab-df-quickchart {\n",
              "      --bg-color: #E8F0FE;\n",
              "      --fill-color: #1967D2;\n",
              "      --hover-bg-color: #E2EBFA;\n",
              "      --hover-fill-color: #174EA6;\n",
              "      --disabled-fill-color: #AAA;\n",
              "      --disabled-bg-color: #DDD;\n",
              "  }\n",
              "\n",
              "  [theme=dark] .colab-df-quickchart {\n",
              "      --bg-color: #3B4455;\n",
              "      --fill-color: #D2E3FC;\n",
              "      --hover-bg-color: #434B5C;\n",
              "      --hover-fill-color: #FFFFFF;\n",
              "      --disabled-bg-color: #3B4455;\n",
              "      --disabled-fill-color: #666;\n",
              "  }\n",
              "\n",
              "  .colab-df-quickchart {\n",
              "    background-color: var(--bg-color);\n",
              "    border: none;\n",
              "    border-radius: 50%;\n",
              "    cursor: pointer;\n",
              "    display: none;\n",
              "    fill: var(--fill-color);\n",
              "    height: 32px;\n",
              "    padding: 0;\n",
              "    width: 32px;\n",
              "  }\n",
              "\n",
              "  .colab-df-quickchart:hover {\n",
              "    background-color: var(--hover-bg-color);\n",
              "    box-shadow: 0 1px 2px rgba(60, 64, 67, 0.3), 0 1px 3px 1px rgba(60, 64, 67, 0.15);\n",
              "    fill: var(--button-hover-fill-color);\n",
              "  }\n",
              "\n",
              "  .colab-df-quickchart-complete:disabled,\n",
              "  .colab-df-quickchart-complete:disabled:hover {\n",
              "    background-color: var(--disabled-bg-color);\n",
              "    fill: var(--disabled-fill-color);\n",
              "    box-shadow: none;\n",
              "  }\n",
              "\n",
              "  .colab-df-spinner {\n",
              "    border: 2px solid var(--fill-color);\n",
              "    border-color: transparent;\n",
              "    border-bottom-color: var(--fill-color);\n",
              "    animation:\n",
              "      spin 1s steps(1) infinite;\n",
              "  }\n",
              "\n",
              "  @keyframes spin {\n",
              "    0% {\n",
              "      border-color: transparent;\n",
              "      border-bottom-color: var(--fill-color);\n",
              "      border-left-color: var(--fill-color);\n",
              "    }\n",
              "    20% {\n",
              "      border-color: transparent;\n",
              "      border-left-color: var(--fill-color);\n",
              "      border-top-color: var(--fill-color);\n",
              "    }\n",
              "    30% {\n",
              "      border-color: transparent;\n",
              "      border-left-color: var(--fill-color);\n",
              "      border-top-color: var(--fill-color);\n",
              "      border-right-color: var(--fill-color);\n",
              "    }\n",
              "    40% {\n",
              "      border-color: transparent;\n",
              "      border-right-color: var(--fill-color);\n",
              "      border-top-color: var(--fill-color);\n",
              "    }\n",
              "    60% {\n",
              "      border-color: transparent;\n",
              "      border-right-color: var(--fill-color);\n",
              "    }\n",
              "    80% {\n",
              "      border-color: transparent;\n",
              "      border-right-color: var(--fill-color);\n",
              "      border-bottom-color: var(--fill-color);\n",
              "    }\n",
              "    90% {\n",
              "      border-color: transparent;\n",
              "      border-bottom-color: var(--fill-color);\n",
              "    }\n",
              "  }\n",
              "</style>\n",
              "\n",
              "  <script>\n",
              "    async function quickchart(key) {\n",
              "      const quickchartButtonEl =\n",
              "        document.querySelector('#' + key + ' button');\n",
              "      quickchartButtonEl.disabled = true;  // To prevent multiple clicks.\n",
              "      quickchartButtonEl.classList.add('colab-df-spinner');\n",
              "      try {\n",
              "        const charts = await google.colab.kernel.invokeFunction(\n",
              "            'suggestCharts', [key], {});\n",
              "      } catch (error) {\n",
              "        console.error('Error during call to suggestCharts:', error);\n",
              "      }\n",
              "      quickchartButtonEl.classList.remove('colab-df-spinner');\n",
              "      quickchartButtonEl.classList.add('colab-df-quickchart-complete');\n",
              "    }\n",
              "    (() => {\n",
              "      let quickchartButtonEl =\n",
              "        document.querySelector('#df-f4f95be8-f271-4a7e-869e-3cbca60e5509 button');\n",
              "      quickchartButtonEl.style.display =\n",
              "        google.colab.kernel.accessAllowed ? 'block' : 'none';\n",
              "    })();\n",
              "  </script>\n",
              "</div>\n",
              "    </div>\n",
              "  </div>\n"
            ]
          },
          "metadata": {},
          "execution_count": 12
        }
      ]
    },
    {
      "cell_type": "markdown",
      "source": [
        "### Unique Values"
      ],
      "metadata": {
        "id": "CPaODPkkmvsC"
      }
    },
    {
      "cell_type": "markdown",
      "source": [
        "Looking at unique values in Strategy category. It seems every audience is a 2nd party mobile custom audience, except for RON, which means 'Run of Network', which we could categorize as a custom audience. These labels would benefit from some better formatting such as removing the 'Mobile 2P' and the underscores."
      ],
      "metadata": {
        "id": "pyC3AVZIi66y"
      }
    },
    {
      "cell_type": "code",
      "source": [
        "device_location_clean.Strategy.unique()"
      ],
      "metadata": {
        "colab": {
          "base_uri": "https://localhost:8080/"
        },
        "id": "IpOd6W7Oi48n",
        "outputId": "3f5eb4c6-abd0-46ef-ade2-3da9710e75e4"
      },
      "execution_count": 13,
      "outputs": [
        {
          "output_type": "execute_result",
          "data": {
            "text/plain": [
              "array(['Mobile_2P_Custom Intent/Affinity',\n",
              "       'Mobile_2P_In Market_Business Services or ISPs',\n",
              "       'Mobile_2P_Business Contextual', 'Mobile_RON',\n",
              "       'Mobile_2P_Pixel Converters_Optimized Targeting',\n",
              "       'Mobile_2P_Affinity Categories'], dtype=object)"
            ]
          },
          "metadata": {},
          "execution_count": 13
        }
      ]
    },
    {
      "cell_type": "markdown",
      "source": [
        "Looking at unique values in Device Model. Note: One of the common values is 'Unknown' which requires some more exploration to determine what to do that data."
      ],
      "metadata": {
        "id": "L9BJSe3TjSbR"
      }
    },
    {
      "cell_type": "code",
      "source": [
        "device_location_clean.Device_Model.unique()"
      ],
      "metadata": {
        "colab": {
          "base_uri": "https://localhost:8080/"
        },
        "id": "N5iEYXQHj7xS",
        "outputId": "52a93434-dc3f-4394-cc26-c8428a3a50ef"
      },
      "execution_count": 14,
      "outputs": [
        {
          "output_type": "execute_result",
          "data": {
            "text/plain": [
              "array(['Unknown', 'bq AQUARIS X', 'LG V60 ThinQ 5G (LM-V600)', ...,\n",
              "       'General Mobile GM 5 PLUS D', 'General Mobile GM8 GO',\n",
              "       'General Mobile GM 8 D'], dtype=object)"
            ]
          },
          "metadata": {},
          "execution_count": 14
        }
      ]
    },
    {
      "cell_type": "markdown",
      "source": [
        "Unique values in device type."
      ],
      "metadata": {
        "id": "7_aLmakIkazI"
      }
    },
    {
      "cell_type": "code",
      "source": [
        "device_location_clean.Device_Type.unique()"
      ],
      "metadata": {
        "colab": {
          "base_uri": "https://localhost:8080/"
        },
        "id": "42NoKT16kUcR",
        "outputId": "291df51a-cd2d-474d-e4fa-554dc89d7711"
      },
      "execution_count": 15,
      "outputs": [
        {
          "output_type": "execute_result",
          "data": {
            "text/plain": [
              "array(['Smart Phone', 'Tablet'], dtype=object)"
            ]
          },
          "metadata": {},
          "execution_count": 15
        }
      ]
    },
    {
      "cell_type": "markdown",
      "source": [
        "Unique values in Browser"
      ],
      "metadata": {
        "id": "iV8gnNW8lWHj"
      }
    },
    {
      "cell_type": "code",
      "source": [
        "device_location_clean.iloc[:, 2].unique()"
      ],
      "metadata": {
        "colab": {
          "base_uri": "https://localhost:8080/"
        },
        "id": "qK5NVKZ5knTU",
        "outputId": "7496c775-2bc6-44a7-d239-6ec7f1b18e12"
      },
      "execution_count": 16,
      "outputs": [
        {
          "output_type": "execute_result",
          "data": {
            "text/plain": [
              "array(['Google Chrome', 'Yandex', 'Microsoft Edge', 'Android Browser'],\n",
              "      dtype=object)"
            ]
          },
          "metadata": {},
          "execution_count": 16
        }
      ]
    },
    {
      "cell_type": "markdown",
      "source": [
        "Unique values in OS"
      ],
      "metadata": {
        "id": "_z71SrcjlwsJ"
      }
    },
    {
      "cell_type": "code",
      "source": [
        "device_location_clean.iloc[:, 3].unique()"
      ],
      "metadata": {
        "colab": {
          "base_uri": "https://localhost:8080/"
        },
        "id": "clxCq3ExlrAA",
        "outputId": "e5eee548-acdd-46c1-a326-be5139d64f5a"
      },
      "execution_count": 17,
      "outputs": [
        {
          "output_type": "execute_result",
          "data": {
            "text/plain": [
              "array(['Android 4.4', 'Android 8.1', 'Android 10.0', 'Android 11.0',\n",
              "       'Android 4.2', 'Android 5.0', 'Android 9.0', 'WindowsPhone 10.0',\n",
              "       'Android', 'Android 5.1', 'Android 6.0', 'Android 7.0',\n",
              "       'Android 7.1', 'Android 8.0', 'Android 12.0', 'Android 13.0',\n",
              "       'Android 4.3', 'iOS', 'iOS 7.0', 'iOS 9.0', 'iOS 9.2', 'iOS 10.0',\n",
              "       'iOS 10.1', 'iOS 10.2', 'iOS 10.3', 'iOS 11.0', 'iOS 11.1',\n",
              "       'iOS 11.2', 'iOS 11.3', 'iOS 11.4', 'iOS 12.0', 'iOS 12.1',\n",
              "       'iOS 12.2', 'iOS 12.3', 'iOS 12.4', 'iOS 12.5', 'iOS 13.0',\n",
              "       'iOS 13.1', 'iOS 13.2', 'iOS 13.3', 'iOS 13.4', 'iOS 13.5',\n",
              "       'iOS 13.6', 'iOS 13.7', 'iOS 14.0', 'iOS 14.1', 'iOS 14.2',\n",
              "       'iOS 14.3', 'iOS 14.4', 'iOS 14.5', 'iOS 14.6', 'iOS 14.7',\n",
              "       'iOS 14.8', 'iOS 15.0', 'iOS 15.1', 'iOS 15.2', 'iOS 15.3',\n",
              "       'iOS 15.4', 'iOS 15.5', 'iOS 15.6', 'iOS 15.7', 'iOS 16.0',\n",
              "       'iOS 16.1', 'iOS 16.2', 'iOS 16.3', 'iOS 16.4', 'iOS 16.5',\n",
              "       'Android 4.0', 'Android 4.1', 'Android 2.3', 'Windows Other'],\n",
              "      dtype=object)"
            ]
          },
          "metadata": {},
          "execution_count": 17
        }
      ]
    },
    {
      "cell_type": "markdown",
      "source": [
        "### Exploring Unknown Values"
      ],
      "metadata": {
        "id": "8DNuscZdnPWk"
      }
    },
    {
      "cell_type": "markdown",
      "source": [
        "Filtering for unknown devices"
      ],
      "metadata": {
        "id": "hHd2REF_nu_j"
      }
    },
    {
      "cell_type": "code",
      "source": [
        "unknown_devices_filter = device_location_clean.loc[:, 'Device_Model'] == \"Unknown\""
      ],
      "metadata": {
        "id": "2JlxoPt2nXMc"
      },
      "execution_count": 18,
      "outputs": []
    },
    {
      "cell_type": "code",
      "source": [
        "unknown_devices = device_location_clean.loc[unknown_devices_filter, :]"
      ],
      "metadata": {
        "id": "eQJM6mo-nuW4"
      },
      "execution_count": 19,
      "outputs": []
    },
    {
      "cell_type": "markdown",
      "source": [
        "Over 67k unknown entries!"
      ],
      "metadata": {
        "id": "5X3cmTCfQv2F"
      }
    },
    {
      "cell_type": "code",
      "source": [
        "unknown_devices.shape"
      ],
      "metadata": {
        "colab": {
          "base_uri": "https://localhost:8080/"
        },
        "id": "iH2gfecAQmKC",
        "outputId": "1cdc772a-389d-474c-a2db-a3993515da19"
      },
      "execution_count": 20,
      "outputs": [
        {
          "output_type": "execute_result",
          "data": {
            "text/plain": [
              "(67488, 13)"
            ]
          },
          "metadata": {},
          "execution_count": 20
        }
      ]
    },
    {
      "cell_type": "markdown",
      "source": [
        "There are certain Device Makes that do not have unknown values."
      ],
      "metadata": {
        "id": "l5Mks1HcprMm"
      }
    },
    {
      "cell_type": "code",
      "source": [
        "list(unknown_devices.Device_Make.unique()) == list(device_location_clean.Device_Make.unique())"
      ],
      "metadata": {
        "colab": {
          "base_uri": "https://localhost:8080/"
        },
        "id": "dY2-EMTaolLF",
        "outputId": "4a5121a6-ce3d-4c7f-9217-d783fbcb6021"
      },
      "execution_count": 21,
      "outputs": [
        {
          "output_type": "execute_result",
          "data": {
            "text/plain": [
              "False"
            ]
          },
          "metadata": {},
          "execution_count": 21
        }
      ]
    },
    {
      "cell_type": "code",
      "source": [
        "unknown_devices.Device_Make.unique()"
      ],
      "metadata": {
        "colab": {
          "base_uri": "https://localhost:8080/"
        },
        "id": "Y76S8ewVnk8u",
        "outputId": "8370c886-0d1c-4d94-84f3-9e4136800e04"
      },
      "execution_count": 22,
      "outputs": [
        {
          "output_type": "execute_result",
          "data": {
            "text/plain": [
              "array(['BQ (All Models)', 'HP (All Models)', 'LG (All Models)',\n",
              "       'Blu (All Models)', 'HTC (All Models)', 'IMO (All Models)',\n",
              "       'NEC (All Models)', 'NGM (All Models)', 'RCA (All Models)',\n",
              "       'TCL (All Models)', 'THL (All Models)', 'ZTE (All Models)',\n",
              "       'Acer (All Models)', 'Asus (All Models)', 'Dell (All Models)',\n",
              "       'Eton (All Models)', 'LAVA (All Models)', 'OPPO (All Models)',\n",
              "       'Palm (All Models)', 'Sony (All Models)', 'Vivo (All Models)',\n",
              "       'Wiko (All Models)', 'Advan (All Models)', 'Azumi (All Models)',\n",
              "       'Chuwi (All Models)', 'Cubot (All Models)', 'Haier (All Models)',\n",
              "       'Intel (All Models)', 'Intex (All Models)', 'Lanix (All Models)',\n",
              "       'Meizu (All Models)', 'Nokia (All Models)', 'Sharp (All Models)',\n",
              "       'Sonim (All Models)', 'Tecno (All Models)', 'Vizio (All Models)',\n",
              "       'iBall (All Models)', 'Amazon (All Models)', 'Archos (All Models)',\n",
              "       'Doogee (All Models)', 'Explay (All Models)',\n",
              "       'Gionee (All Models)', 'Google (All Models)',\n",
              "       'HUAWEI (All Models)', 'Kalley (All Models)',\n",
              "       'Koobee (All Models)', 'LENOVO (All Models)',\n",
              "       'Le Pan (All Models)', 'Nvidia (All Models)',\n",
              "       'Sprint (All Models)', 'Unimax (All Models)',\n",
              "       'Walton (All Models)', 'Xiaomi (All Models)',\n",
              "       'ALCATEL (All Models)', 'Android (All Models)',\n",
              "       'Coolpad (All Models)', 'Cricket (All Models)',\n",
              "       'Evertek (All Models)', 'Fujitsu (All Models)',\n",
              "       'Generic (All Models)', 'Hisense (All Models)',\n",
              "       'Hyundai (All Models)', 'Karbonn (All Models)',\n",
              "       'Kyocera (All Models)', 'MyPhone (All Models)',\n",
              "       'QMobile (All Models)', 'Samsung (All Models)',\n",
              "       'T-smart (All Models)', 'Teclast (All Models)',\n",
              "       'Telstra (All Models)', 'Toshiba (All Models)',\n",
              "       'Verizon (All Models)', 'Insignia (All Models)',\n",
              "       'MediaTek (All Models)', 'Micromax (All Models)',\n",
              "       'Motorola (All Models)', 'Nextbook (All Models)',\n",
              "       'Polaroid (All Models)', 'Positivo (All Models)',\n",
              "       'Symphony (All Models)', 'T-Mobile (All Models)',\n",
              "       'i-mobile (All Models)', 'AllWinner (All Models)',\n",
              "       'Microsoft (All Models)', 'Panasonic (All Models)',\n",
              "       'BlackBerry (All Models)', 'Multilaser (All Models)',\n",
              "       'Supersonic (All Models)', 'Visual Land (All Models)',\n",
              "       'Cherry Mobile (All Models)', 'General Mobile (All Models)',\n",
              "       'Barnes and Noble (All Models)'], dtype=object)"
            ]
          },
          "metadata": {},
          "execution_count": 22
        }
      ]
    },
    {
      "cell_type": "markdown",
      "source": [
        "Only 8 makes have no unknown models in their rows."
      ],
      "metadata": {
        "id": "aJjl8wCKo5ok"
      }
    },
    {
      "cell_type": "code",
      "source": [
        "unknown_makes = list(unknown_devices.Device_Make.unique())\n",
        "all_makes = list(device_location_clean.Device_Make.unique())\n",
        "not_in_unknown = []\n",
        "\n",
        "# find the Device Makes that do not have any unknown models\n",
        "for i in range(len(all_makes)):\n",
        "    if (all_makes[i] not in unknown_makes):\n",
        "        not_in_unknown.append(all_makes[i])\n",
        "\n",
        "not_in_unknown"
      ],
      "metadata": {
        "colab": {
          "base_uri": "https://localhost:8080/"
        },
        "id": "-jM7oecoqqvH",
        "outputId": "4d8021e8-38ff-47cc-cb79-c6f2471ea1c1"
      },
      "execution_count": 23,
      "outputs": [
        {
          "output_type": "execute_result",
          "data": {
            "text/plain": [
              "['HDC (All Models)',\n",
              " 'Apple (All Models)',\n",
              " 'Itoos (All Models)',\n",
              " 'DoCoMo (All Models)',\n",
              " 'Yifang (All Models)',\n",
              " 'Pioneer (All Models)',\n",
              " 'Vodafone (All Models)',\n",
              " 'SonyEricsson (All Models)']"
            ]
          },
          "metadata": {},
          "execution_count": 23
        }
      ]
    },
    {
      "cell_type": "markdown",
      "source": [
        "Since the Device Make column has a significant amount of unknown values (67,488), all of which can not be filled in with existing data, it should be dropped entirely since any analysis of the Device Makes would be skewed and not representative of the true audience."
      ],
      "metadata": {
        "id": "4UF8uL7QpKrw"
      }
    },
    {
      "cell_type": "code",
      "source": [
        "device_location_clean = device_location_clean.drop('Device_Model', axis=1)\n",
        "device_location_clean.head()"
      ],
      "metadata": {
        "colab": {
          "base_uri": "https://localhost:8080/",
          "height": 365
        },
        "id": "CMMYVlMZS5K7",
        "outputId": "25074b60-a08b-4500-9af7-72d18e7124a2"
      },
      "execution_count": 24,
      "outputs": [
        {
          "output_type": "execute_result",
          "data": {
            "text/plain": [
              "                                        Strategy  \\\n",
              "0               Mobile_2P_Custom Intent/Affinity   \n",
              "1  Mobile_2P_In Market_Business Services or ISPs   \n",
              "2                  Mobile_2P_Business Contextual   \n",
              "3               Mobile_2P_Custom Intent/Affinity   \n",
              "4               Mobile_2P_Custom Intent/Affinity   \n",
              "\n",
              "                        DMA_Name        Browser Operating_System  \\\n",
              "0  Miami-Ft. Lauderdale, Florida  Google Chrome      Android 4.4   \n",
              "1  Miami-Ft. Lauderdale, Florida  Google Chrome      Android 4.4   \n",
              "2  Miami-Ft. Lauderdale, Florida         Yandex      Android 8.1   \n",
              "3              Chicago, Illinois  Google Chrome      Android 8.1   \n",
              "4              Detroit, Michigan  Google Chrome      Android 8.1   \n",
              "\n",
              "  Creative_Size  Device_Type      Device_Make  Impressions  Clicks  \\\n",
              "0       300x250  Smart Phone  BQ (All Models)            1       0   \n",
              "1       300x250  Smart Phone  BQ (All Models)            1       0   \n",
              "2        320x50  Smart Phone  BQ (All Models)            1       0   \n",
              "3        320x50  Smart Phone  BQ (All Models)            1       0   \n",
              "4        300x50  Smart Phone  BQ (All Models)            1       0   \n",
              "\n",
              "   Total_Conversions  Gross_Cost  Net_Cost  \n",
              "0                  0    0.000974  0.000313  \n",
              "1                  0    0.000583  0.000187  \n",
              "2                  0    0.000662  0.000213  \n",
              "3                  0    0.001402  0.000450  \n",
              "4                  0    0.000703  0.000226  "
            ],
            "text/html": [
              "\n",
              "  <div id=\"df-8edc5e5f-d47a-4999-99aa-ff734dade6c7\" class=\"colab-df-container\">\n",
              "    <div>\n",
              "<style scoped>\n",
              "    .dataframe tbody tr th:only-of-type {\n",
              "        vertical-align: middle;\n",
              "    }\n",
              "\n",
              "    .dataframe tbody tr th {\n",
              "        vertical-align: top;\n",
              "    }\n",
              "\n",
              "    .dataframe thead th {\n",
              "        text-align: right;\n",
              "    }\n",
              "</style>\n",
              "<table border=\"1\" class=\"dataframe\">\n",
              "  <thead>\n",
              "    <tr style=\"text-align: right;\">\n",
              "      <th></th>\n",
              "      <th>Strategy</th>\n",
              "      <th>DMA_Name</th>\n",
              "      <th>Browser</th>\n",
              "      <th>Operating_System</th>\n",
              "      <th>Creative_Size</th>\n",
              "      <th>Device_Type</th>\n",
              "      <th>Device_Make</th>\n",
              "      <th>Impressions</th>\n",
              "      <th>Clicks</th>\n",
              "      <th>Total_Conversions</th>\n",
              "      <th>Gross_Cost</th>\n",
              "      <th>Net_Cost</th>\n",
              "    </tr>\n",
              "  </thead>\n",
              "  <tbody>\n",
              "    <tr>\n",
              "      <th>0</th>\n",
              "      <td>Mobile_2P_Custom Intent/Affinity</td>\n",
              "      <td>Miami-Ft. Lauderdale, Florida</td>\n",
              "      <td>Google Chrome</td>\n",
              "      <td>Android 4.4</td>\n",
              "      <td>300x250</td>\n",
              "      <td>Smart Phone</td>\n",
              "      <td>BQ (All Models)</td>\n",
              "      <td>1</td>\n",
              "      <td>0</td>\n",
              "      <td>0</td>\n",
              "      <td>0.000974</td>\n",
              "      <td>0.000313</td>\n",
              "    </tr>\n",
              "    <tr>\n",
              "      <th>1</th>\n",
              "      <td>Mobile_2P_In Market_Business Services or ISPs</td>\n",
              "      <td>Miami-Ft. Lauderdale, Florida</td>\n",
              "      <td>Google Chrome</td>\n",
              "      <td>Android 4.4</td>\n",
              "      <td>300x250</td>\n",
              "      <td>Smart Phone</td>\n",
              "      <td>BQ (All Models)</td>\n",
              "      <td>1</td>\n",
              "      <td>0</td>\n",
              "      <td>0</td>\n",
              "      <td>0.000583</td>\n",
              "      <td>0.000187</td>\n",
              "    </tr>\n",
              "    <tr>\n",
              "      <th>2</th>\n",
              "      <td>Mobile_2P_Business Contextual</td>\n",
              "      <td>Miami-Ft. Lauderdale, Florida</td>\n",
              "      <td>Yandex</td>\n",
              "      <td>Android 8.1</td>\n",
              "      <td>320x50</td>\n",
              "      <td>Smart Phone</td>\n",
              "      <td>BQ (All Models)</td>\n",
              "      <td>1</td>\n",
              "      <td>0</td>\n",
              "      <td>0</td>\n",
              "      <td>0.000662</td>\n",
              "      <td>0.000213</td>\n",
              "    </tr>\n",
              "    <tr>\n",
              "      <th>3</th>\n",
              "      <td>Mobile_2P_Custom Intent/Affinity</td>\n",
              "      <td>Chicago, Illinois</td>\n",
              "      <td>Google Chrome</td>\n",
              "      <td>Android 8.1</td>\n",
              "      <td>320x50</td>\n",
              "      <td>Smart Phone</td>\n",
              "      <td>BQ (All Models)</td>\n",
              "      <td>1</td>\n",
              "      <td>0</td>\n",
              "      <td>0</td>\n",
              "      <td>0.001402</td>\n",
              "      <td>0.000450</td>\n",
              "    </tr>\n",
              "    <tr>\n",
              "      <th>4</th>\n",
              "      <td>Mobile_2P_Custom Intent/Affinity</td>\n",
              "      <td>Detroit, Michigan</td>\n",
              "      <td>Google Chrome</td>\n",
              "      <td>Android 8.1</td>\n",
              "      <td>300x50</td>\n",
              "      <td>Smart Phone</td>\n",
              "      <td>BQ (All Models)</td>\n",
              "      <td>1</td>\n",
              "      <td>0</td>\n",
              "      <td>0</td>\n",
              "      <td>0.000703</td>\n",
              "      <td>0.000226</td>\n",
              "    </tr>\n",
              "  </tbody>\n",
              "</table>\n",
              "</div>\n",
              "    <div class=\"colab-df-buttons\">\n",
              "\n",
              "  <div class=\"colab-df-container\">\n",
              "    <button class=\"colab-df-convert\" onclick=\"convertToInteractive('df-8edc5e5f-d47a-4999-99aa-ff734dade6c7')\"\n",
              "            title=\"Convert this dataframe to an interactive table.\"\n",
              "            style=\"display:none;\">\n",
              "\n",
              "  <svg xmlns=\"http://www.w3.org/2000/svg\" height=\"24px\" viewBox=\"0 -960 960 960\">\n",
              "    <path d=\"M120-120v-720h720v720H120Zm60-500h600v-160H180v160Zm220 220h160v-160H400v160Zm0 220h160v-160H400v160ZM180-400h160v-160H180v160Zm440 0h160v-160H620v160ZM180-180h160v-160H180v160Zm440 0h160v-160H620v160Z\"/>\n",
              "  </svg>\n",
              "    </button>\n",
              "\n",
              "  <style>\n",
              "    .colab-df-container {\n",
              "      display:flex;\n",
              "      gap: 12px;\n",
              "    }\n",
              "\n",
              "    .colab-df-convert {\n",
              "      background-color: #E8F0FE;\n",
              "      border: none;\n",
              "      border-radius: 50%;\n",
              "      cursor: pointer;\n",
              "      display: none;\n",
              "      fill: #1967D2;\n",
              "      height: 32px;\n",
              "      padding: 0 0 0 0;\n",
              "      width: 32px;\n",
              "    }\n",
              "\n",
              "    .colab-df-convert:hover {\n",
              "      background-color: #E2EBFA;\n",
              "      box-shadow: 0px 1px 2px rgba(60, 64, 67, 0.3), 0px 1px 3px 1px rgba(60, 64, 67, 0.15);\n",
              "      fill: #174EA6;\n",
              "    }\n",
              "\n",
              "    .colab-df-buttons div {\n",
              "      margin-bottom: 4px;\n",
              "    }\n",
              "\n",
              "    [theme=dark] .colab-df-convert {\n",
              "      background-color: #3B4455;\n",
              "      fill: #D2E3FC;\n",
              "    }\n",
              "\n",
              "    [theme=dark] .colab-df-convert:hover {\n",
              "      background-color: #434B5C;\n",
              "      box-shadow: 0px 1px 3px 1px rgba(0, 0, 0, 0.15);\n",
              "      filter: drop-shadow(0px 1px 2px rgba(0, 0, 0, 0.3));\n",
              "      fill: #FFFFFF;\n",
              "    }\n",
              "  </style>\n",
              "\n",
              "    <script>\n",
              "      const buttonEl =\n",
              "        document.querySelector('#df-8edc5e5f-d47a-4999-99aa-ff734dade6c7 button.colab-df-convert');\n",
              "      buttonEl.style.display =\n",
              "        google.colab.kernel.accessAllowed ? 'block' : 'none';\n",
              "\n",
              "      async function convertToInteractive(key) {\n",
              "        const element = document.querySelector('#df-8edc5e5f-d47a-4999-99aa-ff734dade6c7');\n",
              "        const dataTable =\n",
              "          await google.colab.kernel.invokeFunction('convertToInteractive',\n",
              "                                                    [key], {});\n",
              "        if (!dataTable) return;\n",
              "\n",
              "        const docLinkHtml = 'Like what you see? Visit the ' +\n",
              "          '<a target=\"_blank\" href=https://colab.research.google.com/notebooks/data_table.ipynb>data table notebook</a>'\n",
              "          + ' to learn more about interactive tables.';\n",
              "        element.innerHTML = '';\n",
              "        dataTable['output_type'] = 'display_data';\n",
              "        await google.colab.output.renderOutput(dataTable, element);\n",
              "        const docLink = document.createElement('div');\n",
              "        docLink.innerHTML = docLinkHtml;\n",
              "        element.appendChild(docLink);\n",
              "      }\n",
              "    </script>\n",
              "  </div>\n",
              "\n",
              "\n",
              "<div id=\"df-7a35373f-d007-4c57-b55f-d2667d78e83a\">\n",
              "  <button class=\"colab-df-quickchart\" onclick=\"quickchart('df-7a35373f-d007-4c57-b55f-d2667d78e83a')\"\n",
              "            title=\"Suggest charts\"\n",
              "            style=\"display:none;\">\n",
              "\n",
              "<svg xmlns=\"http://www.w3.org/2000/svg\" height=\"24px\"viewBox=\"0 0 24 24\"\n",
              "     width=\"24px\">\n",
              "    <g>\n",
              "        <path d=\"M19 3H5c-1.1 0-2 .9-2 2v14c0 1.1.9 2 2 2h14c1.1 0 2-.9 2-2V5c0-1.1-.9-2-2-2zM9 17H7v-7h2v7zm4 0h-2V7h2v10zm4 0h-2v-4h2v4z\"/>\n",
              "    </g>\n",
              "</svg>\n",
              "  </button>\n",
              "\n",
              "<style>\n",
              "  .colab-df-quickchart {\n",
              "      --bg-color: #E8F0FE;\n",
              "      --fill-color: #1967D2;\n",
              "      --hover-bg-color: #E2EBFA;\n",
              "      --hover-fill-color: #174EA6;\n",
              "      --disabled-fill-color: #AAA;\n",
              "      --disabled-bg-color: #DDD;\n",
              "  }\n",
              "\n",
              "  [theme=dark] .colab-df-quickchart {\n",
              "      --bg-color: #3B4455;\n",
              "      --fill-color: #D2E3FC;\n",
              "      --hover-bg-color: #434B5C;\n",
              "      --hover-fill-color: #FFFFFF;\n",
              "      --disabled-bg-color: #3B4455;\n",
              "      --disabled-fill-color: #666;\n",
              "  }\n",
              "\n",
              "  .colab-df-quickchart {\n",
              "    background-color: var(--bg-color);\n",
              "    border: none;\n",
              "    border-radius: 50%;\n",
              "    cursor: pointer;\n",
              "    display: none;\n",
              "    fill: var(--fill-color);\n",
              "    height: 32px;\n",
              "    padding: 0;\n",
              "    width: 32px;\n",
              "  }\n",
              "\n",
              "  .colab-df-quickchart:hover {\n",
              "    background-color: var(--hover-bg-color);\n",
              "    box-shadow: 0 1px 2px rgba(60, 64, 67, 0.3), 0 1px 3px 1px rgba(60, 64, 67, 0.15);\n",
              "    fill: var(--button-hover-fill-color);\n",
              "  }\n",
              "\n",
              "  .colab-df-quickchart-complete:disabled,\n",
              "  .colab-df-quickchart-complete:disabled:hover {\n",
              "    background-color: var(--disabled-bg-color);\n",
              "    fill: var(--disabled-fill-color);\n",
              "    box-shadow: none;\n",
              "  }\n",
              "\n",
              "  .colab-df-spinner {\n",
              "    border: 2px solid var(--fill-color);\n",
              "    border-color: transparent;\n",
              "    border-bottom-color: var(--fill-color);\n",
              "    animation:\n",
              "      spin 1s steps(1) infinite;\n",
              "  }\n",
              "\n",
              "  @keyframes spin {\n",
              "    0% {\n",
              "      border-color: transparent;\n",
              "      border-bottom-color: var(--fill-color);\n",
              "      border-left-color: var(--fill-color);\n",
              "    }\n",
              "    20% {\n",
              "      border-color: transparent;\n",
              "      border-left-color: var(--fill-color);\n",
              "      border-top-color: var(--fill-color);\n",
              "    }\n",
              "    30% {\n",
              "      border-color: transparent;\n",
              "      border-left-color: var(--fill-color);\n",
              "      border-top-color: var(--fill-color);\n",
              "      border-right-color: var(--fill-color);\n",
              "    }\n",
              "    40% {\n",
              "      border-color: transparent;\n",
              "      border-right-color: var(--fill-color);\n",
              "      border-top-color: var(--fill-color);\n",
              "    }\n",
              "    60% {\n",
              "      border-color: transparent;\n",
              "      border-right-color: var(--fill-color);\n",
              "    }\n",
              "    80% {\n",
              "      border-color: transparent;\n",
              "      border-right-color: var(--fill-color);\n",
              "      border-bottom-color: var(--fill-color);\n",
              "    }\n",
              "    90% {\n",
              "      border-color: transparent;\n",
              "      border-bottom-color: var(--fill-color);\n",
              "    }\n",
              "  }\n",
              "</style>\n",
              "\n",
              "  <script>\n",
              "    async function quickchart(key) {\n",
              "      const quickchartButtonEl =\n",
              "        document.querySelector('#' + key + ' button');\n",
              "      quickchartButtonEl.disabled = true;  // To prevent multiple clicks.\n",
              "      quickchartButtonEl.classList.add('colab-df-spinner');\n",
              "      try {\n",
              "        const charts = await google.colab.kernel.invokeFunction(\n",
              "            'suggestCharts', [key], {});\n",
              "      } catch (error) {\n",
              "        console.error('Error during call to suggestCharts:', error);\n",
              "      }\n",
              "      quickchartButtonEl.classList.remove('colab-df-spinner');\n",
              "      quickchartButtonEl.classList.add('colab-df-quickchart-complete');\n",
              "    }\n",
              "    (() => {\n",
              "      let quickchartButtonEl =\n",
              "        document.querySelector('#df-7a35373f-d007-4c57-b55f-d2667d78e83a button');\n",
              "      quickchartButtonEl.style.display =\n",
              "        google.colab.kernel.accessAllowed ? 'block' : 'none';\n",
              "    })();\n",
              "  </script>\n",
              "</div>\n",
              "    </div>\n",
              "  </div>\n"
            ]
          },
          "metadata": {},
          "execution_count": 24
        }
      ]
    },
    {
      "cell_type": "markdown",
      "source": [
        "### Reformatting Strategy Column"
      ],
      "metadata": {
        "id": "JXOZSjGXbDWG"
      }
    },
    {
      "cell_type": "markdown",
      "source": [
        "The \"Mobile\" and \"2P\" labels in the Strategy are redundant since it applies to every entry. Therefore we will update every value under this category with only their specific strategy."
      ],
      "metadata": {
        "id": "8-suA3DbbMGh"
      }
    },
    {
      "cell_type": "code",
      "source": [
        "device_location_clean = device_location_clean.replace(to_replace='Mobile_2P_Custom Intent/Affinity', value='Custom Intent/Affinity')\n",
        "device_location_clean = device_location_clean.replace(to_replace='Mobile_2P_In Market_Business Services or ISPs', value='In Market, Business Services or ISPs')\n",
        "device_location_clean = device_location_clean.replace(to_replace='Mobile_2P_Business Contextual', value='Business Contextual')\n",
        "device_location_clean = device_location_clean.replace(to_replace='Mobile_RON', value='Run of Network')\n",
        "device_location_clean = device_location_clean.replace(to_replace='Mobile_2P_Pixel Converters_Optimized Targeting', value='Pixel Converters, Optimized Targeting')\n",
        "device_location_clean = device_location_clean.replace(to_replace='Mobile_2P_Affinity Categories', value='Affinity Categories')"
      ],
      "metadata": {
        "id": "4DDYDlEWZRcJ"
      },
      "execution_count": 25,
      "outputs": []
    },
    {
      "cell_type": "markdown",
      "source": [
        "If there were more than 6 distinct values, I would have considered a creating a more sophisticated method of updating these values. This is fine for now."
      ],
      "metadata": {
        "id": "YHvcSyAAd9K8"
      }
    },
    {
      "cell_type": "code",
      "source": [
        "device_location_clean.head(3)"
      ],
      "metadata": {
        "colab": {
          "base_uri": "https://localhost:8080/",
          "height": 285
        },
        "id": "GNojFp5edylc",
        "outputId": "bf937ffd-d084-46a4-bf35-a1ceb084d493"
      },
      "execution_count": 26,
      "outputs": [
        {
          "output_type": "execute_result",
          "data": {
            "text/plain": [
              "                               Strategy                       DMA_Name  \\\n",
              "0                Custom Intent/Affinity  Miami-Ft. Lauderdale, Florida   \n",
              "1  In Market, Business Services or ISPs  Miami-Ft. Lauderdale, Florida   \n",
              "2                   Business Contextual  Miami-Ft. Lauderdale, Florida   \n",
              "\n",
              "         Browser Operating_System Creative_Size  Device_Type      Device_Make  \\\n",
              "0  Google Chrome      Android 4.4       300x250  Smart Phone  BQ (All Models)   \n",
              "1  Google Chrome      Android 4.4       300x250  Smart Phone  BQ (All Models)   \n",
              "2         Yandex      Android 8.1        320x50  Smart Phone  BQ (All Models)   \n",
              "\n",
              "   Impressions  Clicks  Total_Conversions  Gross_Cost  Net_Cost  \n",
              "0            1       0                  0    0.000974  0.000313  \n",
              "1            1       0                  0    0.000583  0.000187  \n",
              "2            1       0                  0    0.000662  0.000213  "
            ],
            "text/html": [
              "\n",
              "  <div id=\"df-741a7667-07e8-49ec-a1d5-409c34842d8e\" class=\"colab-df-container\">\n",
              "    <div>\n",
              "<style scoped>\n",
              "    .dataframe tbody tr th:only-of-type {\n",
              "        vertical-align: middle;\n",
              "    }\n",
              "\n",
              "    .dataframe tbody tr th {\n",
              "        vertical-align: top;\n",
              "    }\n",
              "\n",
              "    .dataframe thead th {\n",
              "        text-align: right;\n",
              "    }\n",
              "</style>\n",
              "<table border=\"1\" class=\"dataframe\">\n",
              "  <thead>\n",
              "    <tr style=\"text-align: right;\">\n",
              "      <th></th>\n",
              "      <th>Strategy</th>\n",
              "      <th>DMA_Name</th>\n",
              "      <th>Browser</th>\n",
              "      <th>Operating_System</th>\n",
              "      <th>Creative_Size</th>\n",
              "      <th>Device_Type</th>\n",
              "      <th>Device_Make</th>\n",
              "      <th>Impressions</th>\n",
              "      <th>Clicks</th>\n",
              "      <th>Total_Conversions</th>\n",
              "      <th>Gross_Cost</th>\n",
              "      <th>Net_Cost</th>\n",
              "    </tr>\n",
              "  </thead>\n",
              "  <tbody>\n",
              "    <tr>\n",
              "      <th>0</th>\n",
              "      <td>Custom Intent/Affinity</td>\n",
              "      <td>Miami-Ft. Lauderdale, Florida</td>\n",
              "      <td>Google Chrome</td>\n",
              "      <td>Android 4.4</td>\n",
              "      <td>300x250</td>\n",
              "      <td>Smart Phone</td>\n",
              "      <td>BQ (All Models)</td>\n",
              "      <td>1</td>\n",
              "      <td>0</td>\n",
              "      <td>0</td>\n",
              "      <td>0.000974</td>\n",
              "      <td>0.000313</td>\n",
              "    </tr>\n",
              "    <tr>\n",
              "      <th>1</th>\n",
              "      <td>In Market, Business Services or ISPs</td>\n",
              "      <td>Miami-Ft. Lauderdale, Florida</td>\n",
              "      <td>Google Chrome</td>\n",
              "      <td>Android 4.4</td>\n",
              "      <td>300x250</td>\n",
              "      <td>Smart Phone</td>\n",
              "      <td>BQ (All Models)</td>\n",
              "      <td>1</td>\n",
              "      <td>0</td>\n",
              "      <td>0</td>\n",
              "      <td>0.000583</td>\n",
              "      <td>0.000187</td>\n",
              "    </tr>\n",
              "    <tr>\n",
              "      <th>2</th>\n",
              "      <td>Business Contextual</td>\n",
              "      <td>Miami-Ft. Lauderdale, Florida</td>\n",
              "      <td>Yandex</td>\n",
              "      <td>Android 8.1</td>\n",
              "      <td>320x50</td>\n",
              "      <td>Smart Phone</td>\n",
              "      <td>BQ (All Models)</td>\n",
              "      <td>1</td>\n",
              "      <td>0</td>\n",
              "      <td>0</td>\n",
              "      <td>0.000662</td>\n",
              "      <td>0.000213</td>\n",
              "    </tr>\n",
              "  </tbody>\n",
              "</table>\n",
              "</div>\n",
              "    <div class=\"colab-df-buttons\">\n",
              "\n",
              "  <div class=\"colab-df-container\">\n",
              "    <button class=\"colab-df-convert\" onclick=\"convertToInteractive('df-741a7667-07e8-49ec-a1d5-409c34842d8e')\"\n",
              "            title=\"Convert this dataframe to an interactive table.\"\n",
              "            style=\"display:none;\">\n",
              "\n",
              "  <svg xmlns=\"http://www.w3.org/2000/svg\" height=\"24px\" viewBox=\"0 -960 960 960\">\n",
              "    <path d=\"M120-120v-720h720v720H120Zm60-500h600v-160H180v160Zm220 220h160v-160H400v160Zm0 220h160v-160H400v160ZM180-400h160v-160H180v160Zm440 0h160v-160H620v160ZM180-180h160v-160H180v160Zm440 0h160v-160H620v160Z\"/>\n",
              "  </svg>\n",
              "    </button>\n",
              "\n",
              "  <style>\n",
              "    .colab-df-container {\n",
              "      display:flex;\n",
              "      gap: 12px;\n",
              "    }\n",
              "\n",
              "    .colab-df-convert {\n",
              "      background-color: #E8F0FE;\n",
              "      border: none;\n",
              "      border-radius: 50%;\n",
              "      cursor: pointer;\n",
              "      display: none;\n",
              "      fill: #1967D2;\n",
              "      height: 32px;\n",
              "      padding: 0 0 0 0;\n",
              "      width: 32px;\n",
              "    }\n",
              "\n",
              "    .colab-df-convert:hover {\n",
              "      background-color: #E2EBFA;\n",
              "      box-shadow: 0px 1px 2px rgba(60, 64, 67, 0.3), 0px 1px 3px 1px rgba(60, 64, 67, 0.15);\n",
              "      fill: #174EA6;\n",
              "    }\n",
              "\n",
              "    .colab-df-buttons div {\n",
              "      margin-bottom: 4px;\n",
              "    }\n",
              "\n",
              "    [theme=dark] .colab-df-convert {\n",
              "      background-color: #3B4455;\n",
              "      fill: #D2E3FC;\n",
              "    }\n",
              "\n",
              "    [theme=dark] .colab-df-convert:hover {\n",
              "      background-color: #434B5C;\n",
              "      box-shadow: 0px 1px 3px 1px rgba(0, 0, 0, 0.15);\n",
              "      filter: drop-shadow(0px 1px 2px rgba(0, 0, 0, 0.3));\n",
              "      fill: #FFFFFF;\n",
              "    }\n",
              "  </style>\n",
              "\n",
              "    <script>\n",
              "      const buttonEl =\n",
              "        document.querySelector('#df-741a7667-07e8-49ec-a1d5-409c34842d8e button.colab-df-convert');\n",
              "      buttonEl.style.display =\n",
              "        google.colab.kernel.accessAllowed ? 'block' : 'none';\n",
              "\n",
              "      async function convertToInteractive(key) {\n",
              "        const element = document.querySelector('#df-741a7667-07e8-49ec-a1d5-409c34842d8e');\n",
              "        const dataTable =\n",
              "          await google.colab.kernel.invokeFunction('convertToInteractive',\n",
              "                                                    [key], {});\n",
              "        if (!dataTable) return;\n",
              "\n",
              "        const docLinkHtml = 'Like what you see? Visit the ' +\n",
              "          '<a target=\"_blank\" href=https://colab.research.google.com/notebooks/data_table.ipynb>data table notebook</a>'\n",
              "          + ' to learn more about interactive tables.';\n",
              "        element.innerHTML = '';\n",
              "        dataTable['output_type'] = 'display_data';\n",
              "        await google.colab.output.renderOutput(dataTable, element);\n",
              "        const docLink = document.createElement('div');\n",
              "        docLink.innerHTML = docLinkHtml;\n",
              "        element.appendChild(docLink);\n",
              "      }\n",
              "    </script>\n",
              "  </div>\n",
              "\n",
              "\n",
              "<div id=\"df-493e9eac-30d1-4e87-a06d-b6e8a62e3be9\">\n",
              "  <button class=\"colab-df-quickchart\" onclick=\"quickchart('df-493e9eac-30d1-4e87-a06d-b6e8a62e3be9')\"\n",
              "            title=\"Suggest charts\"\n",
              "            style=\"display:none;\">\n",
              "\n",
              "<svg xmlns=\"http://www.w3.org/2000/svg\" height=\"24px\"viewBox=\"0 0 24 24\"\n",
              "     width=\"24px\">\n",
              "    <g>\n",
              "        <path d=\"M19 3H5c-1.1 0-2 .9-2 2v14c0 1.1.9 2 2 2h14c1.1 0 2-.9 2-2V5c0-1.1-.9-2-2-2zM9 17H7v-7h2v7zm4 0h-2V7h2v10zm4 0h-2v-4h2v4z\"/>\n",
              "    </g>\n",
              "</svg>\n",
              "  </button>\n",
              "\n",
              "<style>\n",
              "  .colab-df-quickchart {\n",
              "      --bg-color: #E8F0FE;\n",
              "      --fill-color: #1967D2;\n",
              "      --hover-bg-color: #E2EBFA;\n",
              "      --hover-fill-color: #174EA6;\n",
              "      --disabled-fill-color: #AAA;\n",
              "      --disabled-bg-color: #DDD;\n",
              "  }\n",
              "\n",
              "  [theme=dark] .colab-df-quickchart {\n",
              "      --bg-color: #3B4455;\n",
              "      --fill-color: #D2E3FC;\n",
              "      --hover-bg-color: #434B5C;\n",
              "      --hover-fill-color: #FFFFFF;\n",
              "      --disabled-bg-color: #3B4455;\n",
              "      --disabled-fill-color: #666;\n",
              "  }\n",
              "\n",
              "  .colab-df-quickchart {\n",
              "    background-color: var(--bg-color);\n",
              "    border: none;\n",
              "    border-radius: 50%;\n",
              "    cursor: pointer;\n",
              "    display: none;\n",
              "    fill: var(--fill-color);\n",
              "    height: 32px;\n",
              "    padding: 0;\n",
              "    width: 32px;\n",
              "  }\n",
              "\n",
              "  .colab-df-quickchart:hover {\n",
              "    background-color: var(--hover-bg-color);\n",
              "    box-shadow: 0 1px 2px rgba(60, 64, 67, 0.3), 0 1px 3px 1px rgba(60, 64, 67, 0.15);\n",
              "    fill: var(--button-hover-fill-color);\n",
              "  }\n",
              "\n",
              "  .colab-df-quickchart-complete:disabled,\n",
              "  .colab-df-quickchart-complete:disabled:hover {\n",
              "    background-color: var(--disabled-bg-color);\n",
              "    fill: var(--disabled-fill-color);\n",
              "    box-shadow: none;\n",
              "  }\n",
              "\n",
              "  .colab-df-spinner {\n",
              "    border: 2px solid var(--fill-color);\n",
              "    border-color: transparent;\n",
              "    border-bottom-color: var(--fill-color);\n",
              "    animation:\n",
              "      spin 1s steps(1) infinite;\n",
              "  }\n",
              "\n",
              "  @keyframes spin {\n",
              "    0% {\n",
              "      border-color: transparent;\n",
              "      border-bottom-color: var(--fill-color);\n",
              "      border-left-color: var(--fill-color);\n",
              "    }\n",
              "    20% {\n",
              "      border-color: transparent;\n",
              "      border-left-color: var(--fill-color);\n",
              "      border-top-color: var(--fill-color);\n",
              "    }\n",
              "    30% {\n",
              "      border-color: transparent;\n",
              "      border-left-color: var(--fill-color);\n",
              "      border-top-color: var(--fill-color);\n",
              "      border-right-color: var(--fill-color);\n",
              "    }\n",
              "    40% {\n",
              "      border-color: transparent;\n",
              "      border-right-color: var(--fill-color);\n",
              "      border-top-color: var(--fill-color);\n",
              "    }\n",
              "    60% {\n",
              "      border-color: transparent;\n",
              "      border-right-color: var(--fill-color);\n",
              "    }\n",
              "    80% {\n",
              "      border-color: transparent;\n",
              "      border-right-color: var(--fill-color);\n",
              "      border-bottom-color: var(--fill-color);\n",
              "    }\n",
              "    90% {\n",
              "      border-color: transparent;\n",
              "      border-bottom-color: var(--fill-color);\n",
              "    }\n",
              "  }\n",
              "</style>\n",
              "\n",
              "  <script>\n",
              "    async function quickchart(key) {\n",
              "      const quickchartButtonEl =\n",
              "        document.querySelector('#' + key + ' button');\n",
              "      quickchartButtonEl.disabled = true;  // To prevent multiple clicks.\n",
              "      quickchartButtonEl.classList.add('colab-df-spinner');\n",
              "      try {\n",
              "        const charts = await google.colab.kernel.invokeFunction(\n",
              "            'suggestCharts', [key], {});\n",
              "      } catch (error) {\n",
              "        console.error('Error during call to suggestCharts:', error);\n",
              "      }\n",
              "      quickchartButtonEl.classList.remove('colab-df-spinner');\n",
              "      quickchartButtonEl.classList.add('colab-df-quickchart-complete');\n",
              "    }\n",
              "    (() => {\n",
              "      let quickchartButtonEl =\n",
              "        document.querySelector('#df-493e9eac-30d1-4e87-a06d-b6e8a62e3be9 button');\n",
              "      quickchartButtonEl.style.display =\n",
              "        google.colab.kernel.accessAllowed ? 'block' : 'none';\n",
              "    })();\n",
              "  </script>\n",
              "</div>\n",
              "    </div>\n",
              "  </div>\n"
            ]
          },
          "metadata": {},
          "execution_count": 26
        }
      ]
    },
    {
      "cell_type": "markdown",
      "source": [
        "### Adding Conversion Value"
      ],
      "metadata": {
        "id": "OqO1frdqejqP"
      }
    },
    {
      "cell_type": "markdown",
      "source": [
        "I can create a new column, \"Conversions_Revenue\" by multiplying each row's total conversions by the conversion value. From our [guidelines](https://docs.google.com/presentation/d/1zieAer3-1WF3rS6wtzrh0eO-KtSYHl0JVq19Q-iwp-Y/edit#slide=id.g24db77693a5_0_457), the conversion value for a custom audience is $69.45."
      ],
      "metadata": {
        "id": "Unh5G-C1eq16"
      }
    },
    {
      "cell_type": "code",
      "source": [
        "# df.loc[:, 'new_column'] = round(df['col1'] / df['col2'])\n",
        "device_location_clean.loc[:, 'Conversions_Revenue'] = device_location_clean.Total_Conversions * 69.45"
      ],
      "metadata": {
        "id": "vKw-U1fFeqZB"
      },
      "execution_count": 27,
      "outputs": []
    },
    {
      "cell_type": "markdown",
      "source": [
        "Double-checking to see if it worked shows our top Conversion revenue as $2,222.40 from 32 total conversions."
      ],
      "metadata": {
        "id": "dOFw3A-bkWGg"
      }
    },
    {
      "cell_type": "code",
      "source": [
        "device_location_clean.sort_values('Conversions_Revenue', ascending=False).head(3)"
      ],
      "metadata": {
        "colab": {
          "base_uri": "https://localhost:8080/",
          "height": 320
        },
        "id": "AVbVW14-iy2F",
        "outputId": "6eafafc3-5477-4077-9abf-97e4309fe938"
      },
      "execution_count": 28,
      "outputs": [
        {
          "output_type": "execute_result",
          "data": {
            "text/plain": [
              "                                    Strategy  \\\n",
              "57455  Pixel Converters, Optimized Targeting   \n",
              "57434  Pixel Converters, Optimized Targeting   \n",
              "83888  Pixel Converters, Optimized Targeting   \n",
              "\n",
              "                               DMA_Name        Browser Operating_System  \\\n",
              "57455  Grand Rapids-Kalamazoo, Michigan  Google Chrome     Android 10.0   \n",
              "57434                 Chicago, Illinois  Google Chrome     Android 10.0   \n",
              "83888                  Atlanta, Georgia  Google Chrome         iOS 16.5   \n",
              "\n",
              "      Creative_Size  Device_Type         Device_Make  Impressions  Clicks  \\\n",
              "57455        320x50  Smart Phone   Wiko (All Models)        89539      24   \n",
              "57434        320x50  Smart Phone   Wiko (All Models)       558213     246   \n",
              "83888       300x250  Smart Phone  Apple (All Models)       168619      47   \n",
              "\n",
              "       Total_Conversions   Gross_Cost    Net_Cost  Conversions_Revenue  \n",
              "57455                 32   149.118518   47.867044               2222.4  \n",
              "57434                 28  1065.355671  341.979170               1944.6  \n",
              "83888                 25   270.247682   86.749506              1736.25  "
            ],
            "text/html": [
              "\n",
              "  <div id=\"df-070cf074-0ff9-4697-9a2f-ba8d97e5e870\" class=\"colab-df-container\">\n",
              "    <div>\n",
              "<style scoped>\n",
              "    .dataframe tbody tr th:only-of-type {\n",
              "        vertical-align: middle;\n",
              "    }\n",
              "\n",
              "    .dataframe tbody tr th {\n",
              "        vertical-align: top;\n",
              "    }\n",
              "\n",
              "    .dataframe thead th {\n",
              "        text-align: right;\n",
              "    }\n",
              "</style>\n",
              "<table border=\"1\" class=\"dataframe\">\n",
              "  <thead>\n",
              "    <tr style=\"text-align: right;\">\n",
              "      <th></th>\n",
              "      <th>Strategy</th>\n",
              "      <th>DMA_Name</th>\n",
              "      <th>Browser</th>\n",
              "      <th>Operating_System</th>\n",
              "      <th>Creative_Size</th>\n",
              "      <th>Device_Type</th>\n",
              "      <th>Device_Make</th>\n",
              "      <th>Impressions</th>\n",
              "      <th>Clicks</th>\n",
              "      <th>Total_Conversions</th>\n",
              "      <th>Gross_Cost</th>\n",
              "      <th>Net_Cost</th>\n",
              "      <th>Conversions_Revenue</th>\n",
              "    </tr>\n",
              "  </thead>\n",
              "  <tbody>\n",
              "    <tr>\n",
              "      <th>57455</th>\n",
              "      <td>Pixel Converters, Optimized Targeting</td>\n",
              "      <td>Grand Rapids-Kalamazoo, Michigan</td>\n",
              "      <td>Google Chrome</td>\n",
              "      <td>Android 10.0</td>\n",
              "      <td>320x50</td>\n",
              "      <td>Smart Phone</td>\n",
              "      <td>Wiko (All Models)</td>\n",
              "      <td>89539</td>\n",
              "      <td>24</td>\n",
              "      <td>32</td>\n",
              "      <td>149.118518</td>\n",
              "      <td>47.867044</td>\n",
              "      <td>2222.4</td>\n",
              "    </tr>\n",
              "    <tr>\n",
              "      <th>57434</th>\n",
              "      <td>Pixel Converters, Optimized Targeting</td>\n",
              "      <td>Chicago, Illinois</td>\n",
              "      <td>Google Chrome</td>\n",
              "      <td>Android 10.0</td>\n",
              "      <td>320x50</td>\n",
              "      <td>Smart Phone</td>\n",
              "      <td>Wiko (All Models)</td>\n",
              "      <td>558213</td>\n",
              "      <td>246</td>\n",
              "      <td>28</td>\n",
              "      <td>1065.355671</td>\n",
              "      <td>341.979170</td>\n",
              "      <td>1944.6</td>\n",
              "    </tr>\n",
              "    <tr>\n",
              "      <th>83888</th>\n",
              "      <td>Pixel Converters, Optimized Targeting</td>\n",
              "      <td>Atlanta, Georgia</td>\n",
              "      <td>Google Chrome</td>\n",
              "      <td>iOS 16.5</td>\n",
              "      <td>300x250</td>\n",
              "      <td>Smart Phone</td>\n",
              "      <td>Apple (All Models)</td>\n",
              "      <td>168619</td>\n",
              "      <td>47</td>\n",
              "      <td>25</td>\n",
              "      <td>270.247682</td>\n",
              "      <td>86.749506</td>\n",
              "      <td>1736.25</td>\n",
              "    </tr>\n",
              "  </tbody>\n",
              "</table>\n",
              "</div>\n",
              "    <div class=\"colab-df-buttons\">\n",
              "\n",
              "  <div class=\"colab-df-container\">\n",
              "    <button class=\"colab-df-convert\" onclick=\"convertToInteractive('df-070cf074-0ff9-4697-9a2f-ba8d97e5e870')\"\n",
              "            title=\"Convert this dataframe to an interactive table.\"\n",
              "            style=\"display:none;\">\n",
              "\n",
              "  <svg xmlns=\"http://www.w3.org/2000/svg\" height=\"24px\" viewBox=\"0 -960 960 960\">\n",
              "    <path d=\"M120-120v-720h720v720H120Zm60-500h600v-160H180v160Zm220 220h160v-160H400v160Zm0 220h160v-160H400v160ZM180-400h160v-160H180v160Zm440 0h160v-160H620v160ZM180-180h160v-160H180v160Zm440 0h160v-160H620v160Z\"/>\n",
              "  </svg>\n",
              "    </button>\n",
              "\n",
              "  <style>\n",
              "    .colab-df-container {\n",
              "      display:flex;\n",
              "      gap: 12px;\n",
              "    }\n",
              "\n",
              "    .colab-df-convert {\n",
              "      background-color: #E8F0FE;\n",
              "      border: none;\n",
              "      border-radius: 50%;\n",
              "      cursor: pointer;\n",
              "      display: none;\n",
              "      fill: #1967D2;\n",
              "      height: 32px;\n",
              "      padding: 0 0 0 0;\n",
              "      width: 32px;\n",
              "    }\n",
              "\n",
              "    .colab-df-convert:hover {\n",
              "      background-color: #E2EBFA;\n",
              "      box-shadow: 0px 1px 2px rgba(60, 64, 67, 0.3), 0px 1px 3px 1px rgba(60, 64, 67, 0.15);\n",
              "      fill: #174EA6;\n",
              "    }\n",
              "\n",
              "    .colab-df-buttons div {\n",
              "      margin-bottom: 4px;\n",
              "    }\n",
              "\n",
              "    [theme=dark] .colab-df-convert {\n",
              "      background-color: #3B4455;\n",
              "      fill: #D2E3FC;\n",
              "    }\n",
              "\n",
              "    [theme=dark] .colab-df-convert:hover {\n",
              "      background-color: #434B5C;\n",
              "      box-shadow: 0px 1px 3px 1px rgba(0, 0, 0, 0.15);\n",
              "      filter: drop-shadow(0px 1px 2px rgba(0, 0, 0, 0.3));\n",
              "      fill: #FFFFFF;\n",
              "    }\n",
              "  </style>\n",
              "\n",
              "    <script>\n",
              "      const buttonEl =\n",
              "        document.querySelector('#df-070cf074-0ff9-4697-9a2f-ba8d97e5e870 button.colab-df-convert');\n",
              "      buttonEl.style.display =\n",
              "        google.colab.kernel.accessAllowed ? 'block' : 'none';\n",
              "\n",
              "      async function convertToInteractive(key) {\n",
              "        const element = document.querySelector('#df-070cf074-0ff9-4697-9a2f-ba8d97e5e870');\n",
              "        const dataTable =\n",
              "          await google.colab.kernel.invokeFunction('convertToInteractive',\n",
              "                                                    [key], {});\n",
              "        if (!dataTable) return;\n",
              "\n",
              "        const docLinkHtml = 'Like what you see? Visit the ' +\n",
              "          '<a target=\"_blank\" href=https://colab.research.google.com/notebooks/data_table.ipynb>data table notebook</a>'\n",
              "          + ' to learn more about interactive tables.';\n",
              "        element.innerHTML = '';\n",
              "        dataTable['output_type'] = 'display_data';\n",
              "        await google.colab.output.renderOutput(dataTable, element);\n",
              "        const docLink = document.createElement('div');\n",
              "        docLink.innerHTML = docLinkHtml;\n",
              "        element.appendChild(docLink);\n",
              "      }\n",
              "    </script>\n",
              "  </div>\n",
              "\n",
              "\n",
              "<div id=\"df-c79b8170-5e67-4581-8d83-49767c89115d\">\n",
              "  <button class=\"colab-df-quickchart\" onclick=\"quickchart('df-c79b8170-5e67-4581-8d83-49767c89115d')\"\n",
              "            title=\"Suggest charts\"\n",
              "            style=\"display:none;\">\n",
              "\n",
              "<svg xmlns=\"http://www.w3.org/2000/svg\" height=\"24px\"viewBox=\"0 0 24 24\"\n",
              "     width=\"24px\">\n",
              "    <g>\n",
              "        <path d=\"M19 3H5c-1.1 0-2 .9-2 2v14c0 1.1.9 2 2 2h14c1.1 0 2-.9 2-2V5c0-1.1-.9-2-2-2zM9 17H7v-7h2v7zm4 0h-2V7h2v10zm4 0h-2v-4h2v4z\"/>\n",
              "    </g>\n",
              "</svg>\n",
              "  </button>\n",
              "\n",
              "<style>\n",
              "  .colab-df-quickchart {\n",
              "      --bg-color: #E8F0FE;\n",
              "      --fill-color: #1967D2;\n",
              "      --hover-bg-color: #E2EBFA;\n",
              "      --hover-fill-color: #174EA6;\n",
              "      --disabled-fill-color: #AAA;\n",
              "      --disabled-bg-color: #DDD;\n",
              "  }\n",
              "\n",
              "  [theme=dark] .colab-df-quickchart {\n",
              "      --bg-color: #3B4455;\n",
              "      --fill-color: #D2E3FC;\n",
              "      --hover-bg-color: #434B5C;\n",
              "      --hover-fill-color: #FFFFFF;\n",
              "      --disabled-bg-color: #3B4455;\n",
              "      --disabled-fill-color: #666;\n",
              "  }\n",
              "\n",
              "  .colab-df-quickchart {\n",
              "    background-color: var(--bg-color);\n",
              "    border: none;\n",
              "    border-radius: 50%;\n",
              "    cursor: pointer;\n",
              "    display: none;\n",
              "    fill: var(--fill-color);\n",
              "    height: 32px;\n",
              "    padding: 0;\n",
              "    width: 32px;\n",
              "  }\n",
              "\n",
              "  .colab-df-quickchart:hover {\n",
              "    background-color: var(--hover-bg-color);\n",
              "    box-shadow: 0 1px 2px rgba(60, 64, 67, 0.3), 0 1px 3px 1px rgba(60, 64, 67, 0.15);\n",
              "    fill: var(--button-hover-fill-color);\n",
              "  }\n",
              "\n",
              "  .colab-df-quickchart-complete:disabled,\n",
              "  .colab-df-quickchart-complete:disabled:hover {\n",
              "    background-color: var(--disabled-bg-color);\n",
              "    fill: var(--disabled-fill-color);\n",
              "    box-shadow: none;\n",
              "  }\n",
              "\n",
              "  .colab-df-spinner {\n",
              "    border: 2px solid var(--fill-color);\n",
              "    border-color: transparent;\n",
              "    border-bottom-color: var(--fill-color);\n",
              "    animation:\n",
              "      spin 1s steps(1) infinite;\n",
              "  }\n",
              "\n",
              "  @keyframes spin {\n",
              "    0% {\n",
              "      border-color: transparent;\n",
              "      border-bottom-color: var(--fill-color);\n",
              "      border-left-color: var(--fill-color);\n",
              "    }\n",
              "    20% {\n",
              "      border-color: transparent;\n",
              "      border-left-color: var(--fill-color);\n",
              "      border-top-color: var(--fill-color);\n",
              "    }\n",
              "    30% {\n",
              "      border-color: transparent;\n",
              "      border-left-color: var(--fill-color);\n",
              "      border-top-color: var(--fill-color);\n",
              "      border-right-color: var(--fill-color);\n",
              "    }\n",
              "    40% {\n",
              "      border-color: transparent;\n",
              "      border-right-color: var(--fill-color);\n",
              "      border-top-color: var(--fill-color);\n",
              "    }\n",
              "    60% {\n",
              "      border-color: transparent;\n",
              "      border-right-color: var(--fill-color);\n",
              "    }\n",
              "    80% {\n",
              "      border-color: transparent;\n",
              "      border-right-color: var(--fill-color);\n",
              "      border-bottom-color: var(--fill-color);\n",
              "    }\n",
              "    90% {\n",
              "      border-color: transparent;\n",
              "      border-bottom-color: var(--fill-color);\n",
              "    }\n",
              "  }\n",
              "</style>\n",
              "\n",
              "  <script>\n",
              "    async function quickchart(key) {\n",
              "      const quickchartButtonEl =\n",
              "        document.querySelector('#' + key + ' button');\n",
              "      quickchartButtonEl.disabled = true;  // To prevent multiple clicks.\n",
              "      quickchartButtonEl.classList.add('colab-df-spinner');\n",
              "      try {\n",
              "        const charts = await google.colab.kernel.invokeFunction(\n",
              "            'suggestCharts', [key], {});\n",
              "      } catch (error) {\n",
              "        console.error('Error during call to suggestCharts:', error);\n",
              "      }\n",
              "      quickchartButtonEl.classList.remove('colab-df-spinner');\n",
              "      quickchartButtonEl.classList.add('colab-df-quickchart-complete');\n",
              "    }\n",
              "    (() => {\n",
              "      let quickchartButtonEl =\n",
              "        document.querySelector('#df-c79b8170-5e67-4581-8d83-49767c89115d button');\n",
              "      quickchartButtonEl.style.display =\n",
              "        google.colab.kernel.accessAllowed ? 'block' : 'none';\n",
              "    })();\n",
              "  </script>\n",
              "</div>\n",
              "    </div>\n",
              "  </div>\n"
            ]
          },
          "metadata": {},
          "execution_count": 28
        }
      ]
    },
    {
      "cell_type": "markdown",
      "source": [
        "### Duplicates"
      ],
      "metadata": {
        "id": "2T6xlF1BRRtX"
      }
    },
    {
      "cell_type": "markdown",
      "source": [
        "There's 193 duplicates!"
      ],
      "metadata": {
        "id": "whsTucW_RWMJ"
      }
    },
    {
      "cell_type": "code",
      "source": [
        "device_location_clean.duplicated(keep='last').sum()"
      ],
      "metadata": {
        "colab": {
          "base_uri": "https://localhost:8080/"
        },
        "id": "X-lFQ9f3RLk5",
        "outputId": "c813158d-6d9d-4c12-f54c-ee42750f7c82"
      },
      "execution_count": 29,
      "outputs": [
        {
          "output_type": "execute_result",
          "data": {
            "text/plain": [
              "193"
            ]
          },
          "metadata": {},
          "execution_count": 29
        }
      ]
    },
    {
      "cell_type": "code",
      "source": [
        "device_location_clean = device_location_clean.drop_duplicates()"
      ],
      "metadata": {
        "id": "uDjCnGidSRQG"
      },
      "execution_count": 30,
      "outputs": []
    },
    {
      "cell_type": "markdown",
      "source": [
        "Back to normal!"
      ],
      "metadata": {
        "id": "n7eDt4FdTiJ6"
      }
    },
    {
      "cell_type": "code",
      "source": [
        "device_location_clean.duplicated(keep='last').sum()"
      ],
      "metadata": {
        "colab": {
          "base_uri": "https://localhost:8080/"
        },
        "id": "XivF9c2NSgbg",
        "outputId": "d25120f8-9a68-4780-a220-18a603777ef3"
      },
      "execution_count": 31,
      "outputs": [
        {
          "output_type": "execute_result",
          "data": {
            "text/plain": [
              "0"
            ]
          },
          "metadata": {},
          "execution_count": 31
        }
      ]
    },
    {
      "cell_type": "markdown",
      "source": [
        "### Exporting Clean CSV"
      ],
      "metadata": {
        "id": "rZz0qDjOlAft"
      }
    },
    {
      "cell_type": "markdown",
      "source": [
        "Our Device Location dataset is satisfactorily clean for my liking. Time to export it!"
      ],
      "metadata": {
        "id": "_nLpbgsdlGkT"
      }
    },
    {
      "cell_type": "code",
      "source": [
        "device_location_clean.to_csv('device_location_clean.csv')"
      ],
      "metadata": {
        "id": "aox5p6FUlGIZ"
      },
      "execution_count": 32,
      "outputs": []
    },
    {
      "cell_type": "markdown",
      "source": [
        "## 2. Inventory Viewability Reporting\n",
        "___"
      ],
      "metadata": {
        "id": "D1TEx67zDNLj"
      }
    },
    {
      "cell_type": "markdown",
      "source": [
        "### Initialization"
      ],
      "metadata": {
        "id": "vBM17LnNDzUU"
      }
    },
    {
      "cell_type": "markdown",
      "source": [
        "Making copy of inventory viewability dataset so as to not alter our raw data."
      ],
      "metadata": {
        "id": "VZMzAwHyD0oT"
      }
    },
    {
      "cell_type": "code",
      "source": [
        "inventory_viewability_clean = inventory_viewability.copy()\n",
        "inventory_viewability_clean.head()"
      ],
      "metadata": {
        "colab": {
          "base_uri": "https://localhost:8080/",
          "height": 313
        },
        "outputId": "b4699cdf-570a-481a-9b36-095228fd3fa7",
        "id": "NnGPnMIuDNLn"
      },
      "execution_count": 116,
      "outputs": [
        {
          "output_type": "execute_result",
          "data": {
            "text/plain": [
              "            Brand_Company_Name                      Strategy__        App_URL  \\\n",
              "0  Choose your advertiser name  Desktop_2P_Affinity Categories         al.com   \n",
              "1  Choose your advertiser name  Desktop_2P_Affinity Categories  carscoops.com   \n",
              "2  Choose your advertiser name  Desktop_2P_Affinity Categories  cleveland.com   \n",
              "3  Choose your advertiser name  Desktop_2P_Affinity Categories      doviz.com   \n",
              "4  Choose your advertiser name  Desktop_2P_Affinity Categories  e.walla.co.il   \n",
              "\n",
              "  Exchange  Impressions  Clicks  Total_Conversions  Gross_Cost  Net_Cost  \\\n",
              "0  Taboola         2401       0                  0    3.106056  0.997044   \n",
              "1  Taboola          148       0                  0    0.527778  0.169417   \n",
              "2  Taboola          180       0                  0    0.235679  0.075653   \n",
              "3   Adform           19       0                  0    0.003110  0.000998   \n",
              "4  Taboola           26       0                  0    0.032122  0.010311   \n",
              "\n",
              "   Viewable_Impressions  Measurable_Impressions  \n",
              "0                  1551                    2122  \n",
              "1                    37                     126  \n",
              "2                    97                     151  \n",
              "3                    12                      21  \n",
              "4                     7                      27  "
            ],
            "text/html": [
              "\n",
              "  <div id=\"df-e0a79847-e391-4e7e-9165-026a220bc234\" class=\"colab-df-container\">\n",
              "    <div>\n",
              "<style scoped>\n",
              "    .dataframe tbody tr th:only-of-type {\n",
              "        vertical-align: middle;\n",
              "    }\n",
              "\n",
              "    .dataframe tbody tr th {\n",
              "        vertical-align: top;\n",
              "    }\n",
              "\n",
              "    .dataframe thead th {\n",
              "        text-align: right;\n",
              "    }\n",
              "</style>\n",
              "<table border=\"1\" class=\"dataframe\">\n",
              "  <thead>\n",
              "    <tr style=\"text-align: right;\">\n",
              "      <th></th>\n",
              "      <th>Brand_Company_Name</th>\n",
              "      <th>Strategy__</th>\n",
              "      <th>App_URL</th>\n",
              "      <th>Exchange</th>\n",
              "      <th>Impressions</th>\n",
              "      <th>Clicks</th>\n",
              "      <th>Total_Conversions</th>\n",
              "      <th>Gross_Cost</th>\n",
              "      <th>Net_Cost</th>\n",
              "      <th>Viewable_Impressions</th>\n",
              "      <th>Measurable_Impressions</th>\n",
              "    </tr>\n",
              "  </thead>\n",
              "  <tbody>\n",
              "    <tr>\n",
              "      <th>0</th>\n",
              "      <td>Choose your advertiser name</td>\n",
              "      <td>Desktop_2P_Affinity Categories</td>\n",
              "      <td>al.com</td>\n",
              "      <td>Taboola</td>\n",
              "      <td>2401</td>\n",
              "      <td>0</td>\n",
              "      <td>0</td>\n",
              "      <td>3.106056</td>\n",
              "      <td>0.997044</td>\n",
              "      <td>1551</td>\n",
              "      <td>2122</td>\n",
              "    </tr>\n",
              "    <tr>\n",
              "      <th>1</th>\n",
              "      <td>Choose your advertiser name</td>\n",
              "      <td>Desktop_2P_Affinity Categories</td>\n",
              "      <td>carscoops.com</td>\n",
              "      <td>Taboola</td>\n",
              "      <td>148</td>\n",
              "      <td>0</td>\n",
              "      <td>0</td>\n",
              "      <td>0.527778</td>\n",
              "      <td>0.169417</td>\n",
              "      <td>37</td>\n",
              "      <td>126</td>\n",
              "    </tr>\n",
              "    <tr>\n",
              "      <th>2</th>\n",
              "      <td>Choose your advertiser name</td>\n",
              "      <td>Desktop_2P_Affinity Categories</td>\n",
              "      <td>cleveland.com</td>\n",
              "      <td>Taboola</td>\n",
              "      <td>180</td>\n",
              "      <td>0</td>\n",
              "      <td>0</td>\n",
              "      <td>0.235679</td>\n",
              "      <td>0.075653</td>\n",
              "      <td>97</td>\n",
              "      <td>151</td>\n",
              "    </tr>\n",
              "    <tr>\n",
              "      <th>3</th>\n",
              "      <td>Choose your advertiser name</td>\n",
              "      <td>Desktop_2P_Affinity Categories</td>\n",
              "      <td>doviz.com</td>\n",
              "      <td>Adform</td>\n",
              "      <td>19</td>\n",
              "      <td>0</td>\n",
              "      <td>0</td>\n",
              "      <td>0.003110</td>\n",
              "      <td>0.000998</td>\n",
              "      <td>12</td>\n",
              "      <td>21</td>\n",
              "    </tr>\n",
              "    <tr>\n",
              "      <th>4</th>\n",
              "      <td>Choose your advertiser name</td>\n",
              "      <td>Desktop_2P_Affinity Categories</td>\n",
              "      <td>e.walla.co.il</td>\n",
              "      <td>Taboola</td>\n",
              "      <td>26</td>\n",
              "      <td>0</td>\n",
              "      <td>0</td>\n",
              "      <td>0.032122</td>\n",
              "      <td>0.010311</td>\n",
              "      <td>7</td>\n",
              "      <td>27</td>\n",
              "    </tr>\n",
              "  </tbody>\n",
              "</table>\n",
              "</div>\n",
              "    <div class=\"colab-df-buttons\">\n",
              "\n",
              "  <div class=\"colab-df-container\">\n",
              "    <button class=\"colab-df-convert\" onclick=\"convertToInteractive('df-e0a79847-e391-4e7e-9165-026a220bc234')\"\n",
              "            title=\"Convert this dataframe to an interactive table.\"\n",
              "            style=\"display:none;\">\n",
              "\n",
              "  <svg xmlns=\"http://www.w3.org/2000/svg\" height=\"24px\" viewBox=\"0 -960 960 960\">\n",
              "    <path d=\"M120-120v-720h720v720H120Zm60-500h600v-160H180v160Zm220 220h160v-160H400v160Zm0 220h160v-160H400v160ZM180-400h160v-160H180v160Zm440 0h160v-160H620v160ZM180-180h160v-160H180v160Zm440 0h160v-160H620v160Z\"/>\n",
              "  </svg>\n",
              "    </button>\n",
              "\n",
              "  <style>\n",
              "    .colab-df-container {\n",
              "      display:flex;\n",
              "      gap: 12px;\n",
              "    }\n",
              "\n",
              "    .colab-df-convert {\n",
              "      background-color: #E8F0FE;\n",
              "      border: none;\n",
              "      border-radius: 50%;\n",
              "      cursor: pointer;\n",
              "      display: none;\n",
              "      fill: #1967D2;\n",
              "      height: 32px;\n",
              "      padding: 0 0 0 0;\n",
              "      width: 32px;\n",
              "    }\n",
              "\n",
              "    .colab-df-convert:hover {\n",
              "      background-color: #E2EBFA;\n",
              "      box-shadow: 0px 1px 2px rgba(60, 64, 67, 0.3), 0px 1px 3px 1px rgba(60, 64, 67, 0.15);\n",
              "      fill: #174EA6;\n",
              "    }\n",
              "\n",
              "    .colab-df-buttons div {\n",
              "      margin-bottom: 4px;\n",
              "    }\n",
              "\n",
              "    [theme=dark] .colab-df-convert {\n",
              "      background-color: #3B4455;\n",
              "      fill: #D2E3FC;\n",
              "    }\n",
              "\n",
              "    [theme=dark] .colab-df-convert:hover {\n",
              "      background-color: #434B5C;\n",
              "      box-shadow: 0px 1px 3px 1px rgba(0, 0, 0, 0.15);\n",
              "      filter: drop-shadow(0px 1px 2px rgba(0, 0, 0, 0.3));\n",
              "      fill: #FFFFFF;\n",
              "    }\n",
              "  </style>\n",
              "\n",
              "    <script>\n",
              "      const buttonEl =\n",
              "        document.querySelector('#df-e0a79847-e391-4e7e-9165-026a220bc234 button.colab-df-convert');\n",
              "      buttonEl.style.display =\n",
              "        google.colab.kernel.accessAllowed ? 'block' : 'none';\n",
              "\n",
              "      async function convertToInteractive(key) {\n",
              "        const element = document.querySelector('#df-e0a79847-e391-4e7e-9165-026a220bc234');\n",
              "        const dataTable =\n",
              "          await google.colab.kernel.invokeFunction('convertToInteractive',\n",
              "                                                    [key], {});\n",
              "        if (!dataTable) return;\n",
              "\n",
              "        const docLinkHtml = 'Like what you see? Visit the ' +\n",
              "          '<a target=\"_blank\" href=https://colab.research.google.com/notebooks/data_table.ipynb>data table notebook</a>'\n",
              "          + ' to learn more about interactive tables.';\n",
              "        element.innerHTML = '';\n",
              "        dataTable['output_type'] = 'display_data';\n",
              "        await google.colab.output.renderOutput(dataTable, element);\n",
              "        const docLink = document.createElement('div');\n",
              "        docLink.innerHTML = docLinkHtml;\n",
              "        element.appendChild(docLink);\n",
              "      }\n",
              "    </script>\n",
              "  </div>\n",
              "\n",
              "\n",
              "<div id=\"df-c7c5a99f-5b81-482a-9421-b8080126fb1c\">\n",
              "  <button class=\"colab-df-quickchart\" onclick=\"quickchart('df-c7c5a99f-5b81-482a-9421-b8080126fb1c')\"\n",
              "            title=\"Suggest charts\"\n",
              "            style=\"display:none;\">\n",
              "\n",
              "<svg xmlns=\"http://www.w3.org/2000/svg\" height=\"24px\"viewBox=\"0 0 24 24\"\n",
              "     width=\"24px\">\n",
              "    <g>\n",
              "        <path d=\"M19 3H5c-1.1 0-2 .9-2 2v14c0 1.1.9 2 2 2h14c1.1 0 2-.9 2-2V5c0-1.1-.9-2-2-2zM9 17H7v-7h2v7zm4 0h-2V7h2v10zm4 0h-2v-4h2v4z\"/>\n",
              "    </g>\n",
              "</svg>\n",
              "  </button>\n",
              "\n",
              "<style>\n",
              "  .colab-df-quickchart {\n",
              "      --bg-color: #E8F0FE;\n",
              "      --fill-color: #1967D2;\n",
              "      --hover-bg-color: #E2EBFA;\n",
              "      --hover-fill-color: #174EA6;\n",
              "      --disabled-fill-color: #AAA;\n",
              "      --disabled-bg-color: #DDD;\n",
              "  }\n",
              "\n",
              "  [theme=dark] .colab-df-quickchart {\n",
              "      --bg-color: #3B4455;\n",
              "      --fill-color: #D2E3FC;\n",
              "      --hover-bg-color: #434B5C;\n",
              "      --hover-fill-color: #FFFFFF;\n",
              "      --disabled-bg-color: #3B4455;\n",
              "      --disabled-fill-color: #666;\n",
              "  }\n",
              "\n",
              "  .colab-df-quickchart {\n",
              "    background-color: var(--bg-color);\n",
              "    border: none;\n",
              "    border-radius: 50%;\n",
              "    cursor: pointer;\n",
              "    display: none;\n",
              "    fill: var(--fill-color);\n",
              "    height: 32px;\n",
              "    padding: 0;\n",
              "    width: 32px;\n",
              "  }\n",
              "\n",
              "  .colab-df-quickchart:hover {\n",
              "    background-color: var(--hover-bg-color);\n",
              "    box-shadow: 0 1px 2px rgba(60, 64, 67, 0.3), 0 1px 3px 1px rgba(60, 64, 67, 0.15);\n",
              "    fill: var(--button-hover-fill-color);\n",
              "  }\n",
              "\n",
              "  .colab-df-quickchart-complete:disabled,\n",
              "  .colab-df-quickchart-complete:disabled:hover {\n",
              "    background-color: var(--disabled-bg-color);\n",
              "    fill: var(--disabled-fill-color);\n",
              "    box-shadow: none;\n",
              "  }\n",
              "\n",
              "  .colab-df-spinner {\n",
              "    border: 2px solid var(--fill-color);\n",
              "    border-color: transparent;\n",
              "    border-bottom-color: var(--fill-color);\n",
              "    animation:\n",
              "      spin 1s steps(1) infinite;\n",
              "  }\n",
              "\n",
              "  @keyframes spin {\n",
              "    0% {\n",
              "      border-color: transparent;\n",
              "      border-bottom-color: var(--fill-color);\n",
              "      border-left-color: var(--fill-color);\n",
              "    }\n",
              "    20% {\n",
              "      border-color: transparent;\n",
              "      border-left-color: var(--fill-color);\n",
              "      border-top-color: var(--fill-color);\n",
              "    }\n",
              "    30% {\n",
              "      border-color: transparent;\n",
              "      border-left-color: var(--fill-color);\n",
              "      border-top-color: var(--fill-color);\n",
              "      border-right-color: var(--fill-color);\n",
              "    }\n",
              "    40% {\n",
              "      border-color: transparent;\n",
              "      border-right-color: var(--fill-color);\n",
              "      border-top-color: var(--fill-color);\n",
              "    }\n",
              "    60% {\n",
              "      border-color: transparent;\n",
              "      border-right-color: var(--fill-color);\n",
              "    }\n",
              "    80% {\n",
              "      border-color: transparent;\n",
              "      border-right-color: var(--fill-color);\n",
              "      border-bottom-color: var(--fill-color);\n",
              "    }\n",
              "    90% {\n",
              "      border-color: transparent;\n",
              "      border-bottom-color: var(--fill-color);\n",
              "    }\n",
              "  }\n",
              "</style>\n",
              "\n",
              "  <script>\n",
              "    async function quickchart(key) {\n",
              "      const quickchartButtonEl =\n",
              "        document.querySelector('#' + key + ' button');\n",
              "      quickchartButtonEl.disabled = true;  // To prevent multiple clicks.\n",
              "      quickchartButtonEl.classList.add('colab-df-spinner');\n",
              "      try {\n",
              "        const charts = await google.colab.kernel.invokeFunction(\n",
              "            'suggestCharts', [key], {});\n",
              "      } catch (error) {\n",
              "        console.error('Error during call to suggestCharts:', error);\n",
              "      }\n",
              "      quickchartButtonEl.classList.remove('colab-df-spinner');\n",
              "      quickchartButtonEl.classList.add('colab-df-quickchart-complete');\n",
              "    }\n",
              "    (() => {\n",
              "      let quickchartButtonEl =\n",
              "        document.querySelector('#df-c7c5a99f-5b81-482a-9421-b8080126fb1c button');\n",
              "      quickchartButtonEl.style.display =\n",
              "        google.colab.kernel.accessAllowed ? 'block' : 'none';\n",
              "    })();\n",
              "  </script>\n",
              "</div>\n",
              "    </div>\n",
              "  </div>\n"
            ]
          },
          "metadata": {},
          "execution_count": 116
        }
      ]
    },
    {
      "cell_type": "markdown",
      "source": [
        "Data has over a million rows (1,037,468) across 11 rows!"
      ],
      "metadata": {
        "id": "sgYZhzGgDuB7"
      }
    },
    {
      "cell_type": "code",
      "source": [
        "inventory_viewability_clean.shape"
      ],
      "metadata": {
        "colab": {
          "base_uri": "https://localhost:8080/"
        },
        "id": "c08p178sDmPE",
        "outputId": "a0223e1e-f51f-4752-ab03-aa51a3977c90"
      },
      "execution_count": 117,
      "outputs": [
        {
          "output_type": "execute_result",
          "data": {
            "text/plain": [
              "(1037468, 11)"
            ]
          },
          "metadata": {},
          "execution_count": 117
        }
      ]
    },
    {
      "cell_type": "markdown",
      "source": [
        "Inventory Viewability dataset info"
      ],
      "metadata": {
        "id": "wyhJUt9-FNNQ"
      }
    },
    {
      "cell_type": "code",
      "source": [
        "inventory_viewability_clean.info()"
      ],
      "metadata": {
        "colab": {
          "base_uri": "https://localhost:8080/"
        },
        "id": "RqkK5NLJEM1R",
        "outputId": "ba21292c-e8ee-416c-cded-70309c0143af"
      },
      "execution_count": 118,
      "outputs": [
        {
          "output_type": "stream",
          "name": "stdout",
          "text": [
            "<class 'pandas.core.frame.DataFrame'>\n",
            "RangeIndex: 1037468 entries, 0 to 1037467\n",
            "Data columns (total 11 columns):\n",
            " #   Column                  Non-Null Count    Dtype  \n",
            "---  ------                  --------------    -----  \n",
            " 0   Brand_Company_Name      1037466 non-null  object \n",
            " 1   Strategy__              1037466 non-null  object \n",
            " 2   App_URL                 1037466 non-null  object \n",
            " 3   Exchange                1037466 non-null  object \n",
            " 4   Impressions             1037466 non-null  Int64  \n",
            " 5   Clicks                  1037466 non-null  Int64  \n",
            " 6   Total_Conversions       1037466 non-null  Int64  \n",
            " 7   Gross_Cost              1037466 non-null  float64\n",
            " 8   Net_Cost                1037466 non-null  float64\n",
            " 9   Viewable_Impressions    1037466 non-null  Int64  \n",
            " 10  Measurable_Impressions  1037466 non-null  Int64  \n",
            "dtypes: Int64(5), float64(2), object(4)\n",
            "memory usage: 92.0+ MB\n"
          ]
        }
      ]
    },
    {
      "cell_type": "code",
      "source": [
        "inventory_viewability_clean.describe(include='all')"
      ],
      "metadata": {
        "id": "LXLnqSy4EW_p",
        "colab": {
          "base_uri": "https://localhost:8080/",
          "height": 449
        },
        "outputId": "d84daf0d-8f66-4935-c8ca-5d4da2c47d81"
      },
      "execution_count": 119,
      "outputs": [
        {
          "output_type": "execute_result",
          "data": {
            "text/plain": [
              "                 Brand_Company_Name  \\\n",
              "count                       1037466   \n",
              "unique                            1   \n",
              "top     Choose your advertiser name   \n",
              "freq                        1037466   \n",
              "mean                            NaN   \n",
              "std                             NaN   \n",
              "min                             NaN   \n",
              "25%                             NaN   \n",
              "50%                             NaN   \n",
              "75%                             NaN   \n",
              "max                             NaN   \n",
              "\n",
              "                                            Strategy__               App_URL  \\\n",
              "count                                          1037466               1037466   \n",
              "unique                                              12                 50284   \n",
              "top     Mobile_2P_Pixel Converters_Optimized Targeting  dailymail.co.uk/news   \n",
              "freq                                            147137                   197   \n",
              "mean                                               NaN                   NaN   \n",
              "std                                                NaN                   NaN   \n",
              "min                                                NaN                   NaN   \n",
              "25%                                                NaN                   NaN   \n",
              "50%                                                NaN                   NaN   \n",
              "75%                                                NaN                   NaN   \n",
              "max                                                NaN                   NaN   \n",
              "\n",
              "                 Exchange  Impressions     Clicks  Total_Conversions  \\\n",
              "count             1037466    1037466.0  1037466.0          1037466.0   \n",
              "unique                 25         <NA>       <NA>               <NA>   \n",
              "top     Google Ad Manager         <NA>       <NA>               <NA>   \n",
              "freq               255181         <NA>       <NA>               <NA>   \n",
              "mean                  NaN   184.121144   0.042055           0.005111   \n",
              "std                   NaN  8588.326978   1.675789           0.351782   \n",
              "min                   NaN          0.0        0.0                0.0   \n",
              "25%                   NaN          1.0        0.0                0.0   \n",
              "50%                   NaN          4.0        0.0                0.0   \n",
              "75%                   NaN         15.0        0.0                0.0   \n",
              "max                   NaN    4154911.0      582.0              154.0   \n",
              "\n",
              "          Gross_Cost      Net_Cost  Viewable_Impressions  \\\n",
              "count   1.037466e+06  1.037466e+06             1037466.0   \n",
              "unique           NaN           NaN                  <NA>   \n",
              "top              NaN           NaN                  <NA>   \n",
              "freq             NaN           NaN                  <NA>   \n",
              "mean    2.688153e-01  8.628972e-02             83.242302   \n",
              "std     1.081095e+01  3.470313e+00           4839.753191   \n",
              "min     0.000000e+00  0.000000e+00                   0.0   \n",
              "25%     1.648000e-03  5.290080e-04                   0.0   \n",
              "50%     4.751000e-03  1.525071e-03                   2.0   \n",
              "75%     2.035200e-02  6.532992e-03                   6.0   \n",
              "max     3.807330e+03  1.222153e+03             2338732.0   \n",
              "\n",
              "        Measurable_Impressions  \n",
              "count                1037466.0  \n",
              "unique                    <NA>  \n",
              "top                       <NA>  \n",
              "freq                      <NA>  \n",
              "mean                154.991127  \n",
              "std                7438.227202  \n",
              "min                    -2168.0  \n",
              "25%                        1.0  \n",
              "50%                        3.0  \n",
              "75%                       12.0  \n",
              "max                  3445626.0  "
            ],
            "text/html": [
              "\n",
              "  <div id=\"df-e8c6b176-a9e0-40d0-b333-86d3f87ec43e\" class=\"colab-df-container\">\n",
              "    <div>\n",
              "<style scoped>\n",
              "    .dataframe tbody tr th:only-of-type {\n",
              "        vertical-align: middle;\n",
              "    }\n",
              "\n",
              "    .dataframe tbody tr th {\n",
              "        vertical-align: top;\n",
              "    }\n",
              "\n",
              "    .dataframe thead th {\n",
              "        text-align: right;\n",
              "    }\n",
              "</style>\n",
              "<table border=\"1\" class=\"dataframe\">\n",
              "  <thead>\n",
              "    <tr style=\"text-align: right;\">\n",
              "      <th></th>\n",
              "      <th>Brand_Company_Name</th>\n",
              "      <th>Strategy__</th>\n",
              "      <th>App_URL</th>\n",
              "      <th>Exchange</th>\n",
              "      <th>Impressions</th>\n",
              "      <th>Clicks</th>\n",
              "      <th>Total_Conversions</th>\n",
              "      <th>Gross_Cost</th>\n",
              "      <th>Net_Cost</th>\n",
              "      <th>Viewable_Impressions</th>\n",
              "      <th>Measurable_Impressions</th>\n",
              "    </tr>\n",
              "  </thead>\n",
              "  <tbody>\n",
              "    <tr>\n",
              "      <th>count</th>\n",
              "      <td>1037466</td>\n",
              "      <td>1037466</td>\n",
              "      <td>1037466</td>\n",
              "      <td>1037466</td>\n",
              "      <td>1037466.0</td>\n",
              "      <td>1037466.0</td>\n",
              "      <td>1037466.0</td>\n",
              "      <td>1.037466e+06</td>\n",
              "      <td>1.037466e+06</td>\n",
              "      <td>1037466.0</td>\n",
              "      <td>1037466.0</td>\n",
              "    </tr>\n",
              "    <tr>\n",
              "      <th>unique</th>\n",
              "      <td>1</td>\n",
              "      <td>12</td>\n",
              "      <td>50284</td>\n",
              "      <td>25</td>\n",
              "      <td>&lt;NA&gt;</td>\n",
              "      <td>&lt;NA&gt;</td>\n",
              "      <td>&lt;NA&gt;</td>\n",
              "      <td>NaN</td>\n",
              "      <td>NaN</td>\n",
              "      <td>&lt;NA&gt;</td>\n",
              "      <td>&lt;NA&gt;</td>\n",
              "    </tr>\n",
              "    <tr>\n",
              "      <th>top</th>\n",
              "      <td>Choose your advertiser name</td>\n",
              "      <td>Mobile_2P_Pixel Converters_Optimized Targeting</td>\n",
              "      <td>dailymail.co.uk/news</td>\n",
              "      <td>Google Ad Manager</td>\n",
              "      <td>&lt;NA&gt;</td>\n",
              "      <td>&lt;NA&gt;</td>\n",
              "      <td>&lt;NA&gt;</td>\n",
              "      <td>NaN</td>\n",
              "      <td>NaN</td>\n",
              "      <td>&lt;NA&gt;</td>\n",
              "      <td>&lt;NA&gt;</td>\n",
              "    </tr>\n",
              "    <tr>\n",
              "      <th>freq</th>\n",
              "      <td>1037466</td>\n",
              "      <td>147137</td>\n",
              "      <td>197</td>\n",
              "      <td>255181</td>\n",
              "      <td>&lt;NA&gt;</td>\n",
              "      <td>&lt;NA&gt;</td>\n",
              "      <td>&lt;NA&gt;</td>\n",
              "      <td>NaN</td>\n",
              "      <td>NaN</td>\n",
              "      <td>&lt;NA&gt;</td>\n",
              "      <td>&lt;NA&gt;</td>\n",
              "    </tr>\n",
              "    <tr>\n",
              "      <th>mean</th>\n",
              "      <td>NaN</td>\n",
              "      <td>NaN</td>\n",
              "      <td>NaN</td>\n",
              "      <td>NaN</td>\n",
              "      <td>184.121144</td>\n",
              "      <td>0.042055</td>\n",
              "      <td>0.005111</td>\n",
              "      <td>2.688153e-01</td>\n",
              "      <td>8.628972e-02</td>\n",
              "      <td>83.242302</td>\n",
              "      <td>154.991127</td>\n",
              "    </tr>\n",
              "    <tr>\n",
              "      <th>std</th>\n",
              "      <td>NaN</td>\n",
              "      <td>NaN</td>\n",
              "      <td>NaN</td>\n",
              "      <td>NaN</td>\n",
              "      <td>8588.326978</td>\n",
              "      <td>1.675789</td>\n",
              "      <td>0.351782</td>\n",
              "      <td>1.081095e+01</td>\n",
              "      <td>3.470313e+00</td>\n",
              "      <td>4839.753191</td>\n",
              "      <td>7438.227202</td>\n",
              "    </tr>\n",
              "    <tr>\n",
              "      <th>min</th>\n",
              "      <td>NaN</td>\n",
              "      <td>NaN</td>\n",
              "      <td>NaN</td>\n",
              "      <td>NaN</td>\n",
              "      <td>0.0</td>\n",
              "      <td>0.0</td>\n",
              "      <td>0.0</td>\n",
              "      <td>0.000000e+00</td>\n",
              "      <td>0.000000e+00</td>\n",
              "      <td>0.0</td>\n",
              "      <td>-2168.0</td>\n",
              "    </tr>\n",
              "    <tr>\n",
              "      <th>25%</th>\n",
              "      <td>NaN</td>\n",
              "      <td>NaN</td>\n",
              "      <td>NaN</td>\n",
              "      <td>NaN</td>\n",
              "      <td>1.0</td>\n",
              "      <td>0.0</td>\n",
              "      <td>0.0</td>\n",
              "      <td>1.648000e-03</td>\n",
              "      <td>5.290080e-04</td>\n",
              "      <td>0.0</td>\n",
              "      <td>1.0</td>\n",
              "    </tr>\n",
              "    <tr>\n",
              "      <th>50%</th>\n",
              "      <td>NaN</td>\n",
              "      <td>NaN</td>\n",
              "      <td>NaN</td>\n",
              "      <td>NaN</td>\n",
              "      <td>4.0</td>\n",
              "      <td>0.0</td>\n",
              "      <td>0.0</td>\n",
              "      <td>4.751000e-03</td>\n",
              "      <td>1.525071e-03</td>\n",
              "      <td>2.0</td>\n",
              "      <td>3.0</td>\n",
              "    </tr>\n",
              "    <tr>\n",
              "      <th>75%</th>\n",
              "      <td>NaN</td>\n",
              "      <td>NaN</td>\n",
              "      <td>NaN</td>\n",
              "      <td>NaN</td>\n",
              "      <td>15.0</td>\n",
              "      <td>0.0</td>\n",
              "      <td>0.0</td>\n",
              "      <td>2.035200e-02</td>\n",
              "      <td>6.532992e-03</td>\n",
              "      <td>6.0</td>\n",
              "      <td>12.0</td>\n",
              "    </tr>\n",
              "    <tr>\n",
              "      <th>max</th>\n",
              "      <td>NaN</td>\n",
              "      <td>NaN</td>\n",
              "      <td>NaN</td>\n",
              "      <td>NaN</td>\n",
              "      <td>4154911.0</td>\n",
              "      <td>582.0</td>\n",
              "      <td>154.0</td>\n",
              "      <td>3.807330e+03</td>\n",
              "      <td>1.222153e+03</td>\n",
              "      <td>2338732.0</td>\n",
              "      <td>3445626.0</td>\n",
              "    </tr>\n",
              "  </tbody>\n",
              "</table>\n",
              "</div>\n",
              "    <div class=\"colab-df-buttons\">\n",
              "\n",
              "  <div class=\"colab-df-container\">\n",
              "    <button class=\"colab-df-convert\" onclick=\"convertToInteractive('df-e8c6b176-a9e0-40d0-b333-86d3f87ec43e')\"\n",
              "            title=\"Convert this dataframe to an interactive table.\"\n",
              "            style=\"display:none;\">\n",
              "\n",
              "  <svg xmlns=\"http://www.w3.org/2000/svg\" height=\"24px\" viewBox=\"0 -960 960 960\">\n",
              "    <path d=\"M120-120v-720h720v720H120Zm60-500h600v-160H180v160Zm220 220h160v-160H400v160Zm0 220h160v-160H400v160ZM180-400h160v-160H180v160Zm440 0h160v-160H620v160ZM180-180h160v-160H180v160Zm440 0h160v-160H620v160Z\"/>\n",
              "  </svg>\n",
              "    </button>\n",
              "\n",
              "  <style>\n",
              "    .colab-df-container {\n",
              "      display:flex;\n",
              "      gap: 12px;\n",
              "    }\n",
              "\n",
              "    .colab-df-convert {\n",
              "      background-color: #E8F0FE;\n",
              "      border: none;\n",
              "      border-radius: 50%;\n",
              "      cursor: pointer;\n",
              "      display: none;\n",
              "      fill: #1967D2;\n",
              "      height: 32px;\n",
              "      padding: 0 0 0 0;\n",
              "      width: 32px;\n",
              "    }\n",
              "\n",
              "    .colab-df-convert:hover {\n",
              "      background-color: #E2EBFA;\n",
              "      box-shadow: 0px 1px 2px rgba(60, 64, 67, 0.3), 0px 1px 3px 1px rgba(60, 64, 67, 0.15);\n",
              "      fill: #174EA6;\n",
              "    }\n",
              "\n",
              "    .colab-df-buttons div {\n",
              "      margin-bottom: 4px;\n",
              "    }\n",
              "\n",
              "    [theme=dark] .colab-df-convert {\n",
              "      background-color: #3B4455;\n",
              "      fill: #D2E3FC;\n",
              "    }\n",
              "\n",
              "    [theme=dark] .colab-df-convert:hover {\n",
              "      background-color: #434B5C;\n",
              "      box-shadow: 0px 1px 3px 1px rgba(0, 0, 0, 0.15);\n",
              "      filter: drop-shadow(0px 1px 2px rgba(0, 0, 0, 0.3));\n",
              "      fill: #FFFFFF;\n",
              "    }\n",
              "  </style>\n",
              "\n",
              "    <script>\n",
              "      const buttonEl =\n",
              "        document.querySelector('#df-e8c6b176-a9e0-40d0-b333-86d3f87ec43e button.colab-df-convert');\n",
              "      buttonEl.style.display =\n",
              "        google.colab.kernel.accessAllowed ? 'block' : 'none';\n",
              "\n",
              "      async function convertToInteractive(key) {\n",
              "        const element = document.querySelector('#df-e8c6b176-a9e0-40d0-b333-86d3f87ec43e');\n",
              "        const dataTable =\n",
              "          await google.colab.kernel.invokeFunction('convertToInteractive',\n",
              "                                                    [key], {});\n",
              "        if (!dataTable) return;\n",
              "\n",
              "        const docLinkHtml = 'Like what you see? Visit the ' +\n",
              "          '<a target=\"_blank\" href=https://colab.research.google.com/notebooks/data_table.ipynb>data table notebook</a>'\n",
              "          + ' to learn more about interactive tables.';\n",
              "        element.innerHTML = '';\n",
              "        dataTable['output_type'] = 'display_data';\n",
              "        await google.colab.output.renderOutput(dataTable, element);\n",
              "        const docLink = document.createElement('div');\n",
              "        docLink.innerHTML = docLinkHtml;\n",
              "        element.appendChild(docLink);\n",
              "      }\n",
              "    </script>\n",
              "  </div>\n",
              "\n",
              "\n",
              "<div id=\"df-b3a2af5d-173b-4eff-9aeb-053a869372f9\">\n",
              "  <button class=\"colab-df-quickchart\" onclick=\"quickchart('df-b3a2af5d-173b-4eff-9aeb-053a869372f9')\"\n",
              "            title=\"Suggest charts\"\n",
              "            style=\"display:none;\">\n",
              "\n",
              "<svg xmlns=\"http://www.w3.org/2000/svg\" height=\"24px\"viewBox=\"0 0 24 24\"\n",
              "     width=\"24px\">\n",
              "    <g>\n",
              "        <path d=\"M19 3H5c-1.1 0-2 .9-2 2v14c0 1.1.9 2 2 2h14c1.1 0 2-.9 2-2V5c0-1.1-.9-2-2-2zM9 17H7v-7h2v7zm4 0h-2V7h2v10zm4 0h-2v-4h2v4z\"/>\n",
              "    </g>\n",
              "</svg>\n",
              "  </button>\n",
              "\n",
              "<style>\n",
              "  .colab-df-quickchart {\n",
              "      --bg-color: #E8F0FE;\n",
              "      --fill-color: #1967D2;\n",
              "      --hover-bg-color: #E2EBFA;\n",
              "      --hover-fill-color: #174EA6;\n",
              "      --disabled-fill-color: #AAA;\n",
              "      --disabled-bg-color: #DDD;\n",
              "  }\n",
              "\n",
              "  [theme=dark] .colab-df-quickchart {\n",
              "      --bg-color: #3B4455;\n",
              "      --fill-color: #D2E3FC;\n",
              "      --hover-bg-color: #434B5C;\n",
              "      --hover-fill-color: #FFFFFF;\n",
              "      --disabled-bg-color: #3B4455;\n",
              "      --disabled-fill-color: #666;\n",
              "  }\n",
              "\n",
              "  .colab-df-quickchart {\n",
              "    background-color: var(--bg-color);\n",
              "    border: none;\n",
              "    border-radius: 50%;\n",
              "    cursor: pointer;\n",
              "    display: none;\n",
              "    fill: var(--fill-color);\n",
              "    height: 32px;\n",
              "    padding: 0;\n",
              "    width: 32px;\n",
              "  }\n",
              "\n",
              "  .colab-df-quickchart:hover {\n",
              "    background-color: var(--hover-bg-color);\n",
              "    box-shadow: 0 1px 2px rgba(60, 64, 67, 0.3), 0 1px 3px 1px rgba(60, 64, 67, 0.15);\n",
              "    fill: var(--button-hover-fill-color);\n",
              "  }\n",
              "\n",
              "  .colab-df-quickchart-complete:disabled,\n",
              "  .colab-df-quickchart-complete:disabled:hover {\n",
              "    background-color: var(--disabled-bg-color);\n",
              "    fill: var(--disabled-fill-color);\n",
              "    box-shadow: none;\n",
              "  }\n",
              "\n",
              "  .colab-df-spinner {\n",
              "    border: 2px solid var(--fill-color);\n",
              "    border-color: transparent;\n",
              "    border-bottom-color: var(--fill-color);\n",
              "    animation:\n",
              "      spin 1s steps(1) infinite;\n",
              "  }\n",
              "\n",
              "  @keyframes spin {\n",
              "    0% {\n",
              "      border-color: transparent;\n",
              "      border-bottom-color: var(--fill-color);\n",
              "      border-left-color: var(--fill-color);\n",
              "    }\n",
              "    20% {\n",
              "      border-color: transparent;\n",
              "      border-left-color: var(--fill-color);\n",
              "      border-top-color: var(--fill-color);\n",
              "    }\n",
              "    30% {\n",
              "      border-color: transparent;\n",
              "      border-left-color: var(--fill-color);\n",
              "      border-top-color: var(--fill-color);\n",
              "      border-right-color: var(--fill-color);\n",
              "    }\n",
              "    40% {\n",
              "      border-color: transparent;\n",
              "      border-right-color: var(--fill-color);\n",
              "      border-top-color: var(--fill-color);\n",
              "    }\n",
              "    60% {\n",
              "      border-color: transparent;\n",
              "      border-right-color: var(--fill-color);\n",
              "    }\n",
              "    80% {\n",
              "      border-color: transparent;\n",
              "      border-right-color: var(--fill-color);\n",
              "      border-bottom-color: var(--fill-color);\n",
              "    }\n",
              "    90% {\n",
              "      border-color: transparent;\n",
              "      border-bottom-color: var(--fill-color);\n",
              "    }\n",
              "  }\n",
              "</style>\n",
              "\n",
              "  <script>\n",
              "    async function quickchart(key) {\n",
              "      const quickchartButtonEl =\n",
              "        document.querySelector('#' + key + ' button');\n",
              "      quickchartButtonEl.disabled = true;  // To prevent multiple clicks.\n",
              "      quickchartButtonEl.classList.add('colab-df-spinner');\n",
              "      try {\n",
              "        const charts = await google.colab.kernel.invokeFunction(\n",
              "            'suggestCharts', [key], {});\n",
              "      } catch (error) {\n",
              "        console.error('Error during call to suggestCharts:', error);\n",
              "      }\n",
              "      quickchartButtonEl.classList.remove('colab-df-spinner');\n",
              "      quickchartButtonEl.classList.add('colab-df-quickchart-complete');\n",
              "    }\n",
              "    (() => {\n",
              "      let quickchartButtonEl =\n",
              "        document.querySelector('#df-b3a2af5d-173b-4eff-9aeb-053a869372f9 button');\n",
              "      quickchartButtonEl.style.display =\n",
              "        google.colab.kernel.accessAllowed ? 'block' : 'none';\n",
              "    })();\n",
              "  </script>\n",
              "</div>\n",
              "    </div>\n",
              "  </div>\n"
            ]
          },
          "metadata": {},
          "execution_count": 119
        }
      ]
    },
    {
      "cell_type": "markdown",
      "source": [
        "Some observations include:\n",
        "\n",
        "\n",
        "*   Brand_Company_Name column has only one unique value\n",
        "*   Strategy column format is hard to read\n",
        "*   Measureable_Impressions column has negative values\n",
        "\n",
        "\n"
      ],
      "metadata": {
        "id": "OpmYe3kBEGFA"
      }
    },
    {
      "cell_type": "markdown",
      "source": [
        "### Null Values"
      ],
      "metadata": {
        "id": "VChT6wjVHzBA"
      }
    },
    {
      "cell_type": "markdown",
      "source": [
        "Checking for NULL values. Seems like 2 rows in each category has a NULL value."
      ],
      "metadata": {
        "id": "bFNQsT1sHTa7"
      }
    },
    {
      "cell_type": "code",
      "source": [
        "inventory_viewability_clean.isna().sum()"
      ],
      "metadata": {
        "colab": {
          "base_uri": "https://localhost:8080/"
        },
        "id": "lCf3wxVFHVQv",
        "outputId": "8bbe8187-4dda-4fd8-f1d2-9076b435bbf0"
      },
      "execution_count": 120,
      "outputs": [
        {
          "output_type": "execute_result",
          "data": {
            "text/plain": [
              "Brand_Company_Name        2\n",
              "Strategy__                2\n",
              "App_URL                   2\n",
              "Exchange                  2\n",
              "Impressions               2\n",
              "Clicks                    2\n",
              "Total_Conversions         2\n",
              "Gross_Cost                2\n",
              "Net_Cost                  2\n",
              "Viewable_Impressions      2\n",
              "Measurable_Impressions    2\n",
              "dtype: int64"
            ]
          },
          "metadata": {},
          "execution_count": 120
        }
      ]
    },
    {
      "cell_type": "markdown",
      "source": [
        "Exploring the nulls of the Net_Cost category, it reveals that the nulls are shared across each category across two rows."
      ],
      "metadata": {
        "id": "l1SSkhN-HxuN"
      }
    },
    {
      "cell_type": "code",
      "source": [
        "null_filter = inventory_viewability_clean.loc[:, \"Net_Cost\"].isna()\n",
        "inventory_viewability_clean.loc[null_filter, :]"
      ],
      "metadata": {
        "colab": {
          "base_uri": "https://localhost:8080/",
          "height": 132
        },
        "id": "8HGhlTB0Hd7A",
        "outputId": "f55c56be-db45-49cc-b43f-38c2b6e027b1"
      },
      "execution_count": 121,
      "outputs": [
        {
          "output_type": "execute_result",
          "data": {
            "text/plain": [
              "      Brand_Company_Name Strategy__ App_URL Exchange  Impressions  Clicks  \\\n",
              "623                 None       None    None     None         <NA>    <NA>   \n",
              "11151               None       None    None     None         <NA>    <NA>   \n",
              "\n",
              "       Total_Conversions  Gross_Cost  Net_Cost  Viewable_Impressions  \\\n",
              "623                 <NA>         NaN       NaN                  <NA>   \n",
              "11151               <NA>         NaN       NaN                  <NA>   \n",
              "\n",
              "       Measurable_Impressions  \n",
              "623                      <NA>  \n",
              "11151                    <NA>  "
            ],
            "text/html": [
              "\n",
              "  <div id=\"df-fe6911dd-1ea0-47b6-b03c-b98350dd222b\" class=\"colab-df-container\">\n",
              "    <div>\n",
              "<style scoped>\n",
              "    .dataframe tbody tr th:only-of-type {\n",
              "        vertical-align: middle;\n",
              "    }\n",
              "\n",
              "    .dataframe tbody tr th {\n",
              "        vertical-align: top;\n",
              "    }\n",
              "\n",
              "    .dataframe thead th {\n",
              "        text-align: right;\n",
              "    }\n",
              "</style>\n",
              "<table border=\"1\" class=\"dataframe\">\n",
              "  <thead>\n",
              "    <tr style=\"text-align: right;\">\n",
              "      <th></th>\n",
              "      <th>Brand_Company_Name</th>\n",
              "      <th>Strategy__</th>\n",
              "      <th>App_URL</th>\n",
              "      <th>Exchange</th>\n",
              "      <th>Impressions</th>\n",
              "      <th>Clicks</th>\n",
              "      <th>Total_Conversions</th>\n",
              "      <th>Gross_Cost</th>\n",
              "      <th>Net_Cost</th>\n",
              "      <th>Viewable_Impressions</th>\n",
              "      <th>Measurable_Impressions</th>\n",
              "    </tr>\n",
              "  </thead>\n",
              "  <tbody>\n",
              "    <tr>\n",
              "      <th>623</th>\n",
              "      <td>None</td>\n",
              "      <td>None</td>\n",
              "      <td>None</td>\n",
              "      <td>None</td>\n",
              "      <td>&lt;NA&gt;</td>\n",
              "      <td>&lt;NA&gt;</td>\n",
              "      <td>&lt;NA&gt;</td>\n",
              "      <td>NaN</td>\n",
              "      <td>NaN</td>\n",
              "      <td>&lt;NA&gt;</td>\n",
              "      <td>&lt;NA&gt;</td>\n",
              "    </tr>\n",
              "    <tr>\n",
              "      <th>11151</th>\n",
              "      <td>None</td>\n",
              "      <td>None</td>\n",
              "      <td>None</td>\n",
              "      <td>None</td>\n",
              "      <td>&lt;NA&gt;</td>\n",
              "      <td>&lt;NA&gt;</td>\n",
              "      <td>&lt;NA&gt;</td>\n",
              "      <td>NaN</td>\n",
              "      <td>NaN</td>\n",
              "      <td>&lt;NA&gt;</td>\n",
              "      <td>&lt;NA&gt;</td>\n",
              "    </tr>\n",
              "  </tbody>\n",
              "</table>\n",
              "</div>\n",
              "    <div class=\"colab-df-buttons\">\n",
              "\n",
              "  <div class=\"colab-df-container\">\n",
              "    <button class=\"colab-df-convert\" onclick=\"convertToInteractive('df-fe6911dd-1ea0-47b6-b03c-b98350dd222b')\"\n",
              "            title=\"Convert this dataframe to an interactive table.\"\n",
              "            style=\"display:none;\">\n",
              "\n",
              "  <svg xmlns=\"http://www.w3.org/2000/svg\" height=\"24px\" viewBox=\"0 -960 960 960\">\n",
              "    <path d=\"M120-120v-720h720v720H120Zm60-500h600v-160H180v160Zm220 220h160v-160H400v160Zm0 220h160v-160H400v160ZM180-400h160v-160H180v160Zm440 0h160v-160H620v160ZM180-180h160v-160H180v160Zm440 0h160v-160H620v160Z\"/>\n",
              "  </svg>\n",
              "    </button>\n",
              "\n",
              "  <style>\n",
              "    .colab-df-container {\n",
              "      display:flex;\n",
              "      gap: 12px;\n",
              "    }\n",
              "\n",
              "    .colab-df-convert {\n",
              "      background-color: #E8F0FE;\n",
              "      border: none;\n",
              "      border-radius: 50%;\n",
              "      cursor: pointer;\n",
              "      display: none;\n",
              "      fill: #1967D2;\n",
              "      height: 32px;\n",
              "      padding: 0 0 0 0;\n",
              "      width: 32px;\n",
              "    }\n",
              "\n",
              "    .colab-df-convert:hover {\n",
              "      background-color: #E2EBFA;\n",
              "      box-shadow: 0px 1px 2px rgba(60, 64, 67, 0.3), 0px 1px 3px 1px rgba(60, 64, 67, 0.15);\n",
              "      fill: #174EA6;\n",
              "    }\n",
              "\n",
              "    .colab-df-buttons div {\n",
              "      margin-bottom: 4px;\n",
              "    }\n",
              "\n",
              "    [theme=dark] .colab-df-convert {\n",
              "      background-color: #3B4455;\n",
              "      fill: #D2E3FC;\n",
              "    }\n",
              "\n",
              "    [theme=dark] .colab-df-convert:hover {\n",
              "      background-color: #434B5C;\n",
              "      box-shadow: 0px 1px 3px 1px rgba(0, 0, 0, 0.15);\n",
              "      filter: drop-shadow(0px 1px 2px rgba(0, 0, 0, 0.3));\n",
              "      fill: #FFFFFF;\n",
              "    }\n",
              "  </style>\n",
              "\n",
              "    <script>\n",
              "      const buttonEl =\n",
              "        document.querySelector('#df-fe6911dd-1ea0-47b6-b03c-b98350dd222b button.colab-df-convert');\n",
              "      buttonEl.style.display =\n",
              "        google.colab.kernel.accessAllowed ? 'block' : 'none';\n",
              "\n",
              "      async function convertToInteractive(key) {\n",
              "        const element = document.querySelector('#df-fe6911dd-1ea0-47b6-b03c-b98350dd222b');\n",
              "        const dataTable =\n",
              "          await google.colab.kernel.invokeFunction('convertToInteractive',\n",
              "                                                    [key], {});\n",
              "        if (!dataTable) return;\n",
              "\n",
              "        const docLinkHtml = 'Like what you see? Visit the ' +\n",
              "          '<a target=\"_blank\" href=https://colab.research.google.com/notebooks/data_table.ipynb>data table notebook</a>'\n",
              "          + ' to learn more about interactive tables.';\n",
              "        element.innerHTML = '';\n",
              "        dataTable['output_type'] = 'display_data';\n",
              "        await google.colab.output.renderOutput(dataTable, element);\n",
              "        const docLink = document.createElement('div');\n",
              "        docLink.innerHTML = docLinkHtml;\n",
              "        element.appendChild(docLink);\n",
              "      }\n",
              "    </script>\n",
              "  </div>\n",
              "\n",
              "\n",
              "<div id=\"df-a6e6b25b-4273-45aa-9996-39b149156e49\">\n",
              "  <button class=\"colab-df-quickchart\" onclick=\"quickchart('df-a6e6b25b-4273-45aa-9996-39b149156e49')\"\n",
              "            title=\"Suggest charts\"\n",
              "            style=\"display:none;\">\n",
              "\n",
              "<svg xmlns=\"http://www.w3.org/2000/svg\" height=\"24px\"viewBox=\"0 0 24 24\"\n",
              "     width=\"24px\">\n",
              "    <g>\n",
              "        <path d=\"M19 3H5c-1.1 0-2 .9-2 2v14c0 1.1.9 2 2 2h14c1.1 0 2-.9 2-2V5c0-1.1-.9-2-2-2zM9 17H7v-7h2v7zm4 0h-2V7h2v10zm4 0h-2v-4h2v4z\"/>\n",
              "    </g>\n",
              "</svg>\n",
              "  </button>\n",
              "\n",
              "<style>\n",
              "  .colab-df-quickchart {\n",
              "      --bg-color: #E8F0FE;\n",
              "      --fill-color: #1967D2;\n",
              "      --hover-bg-color: #E2EBFA;\n",
              "      --hover-fill-color: #174EA6;\n",
              "      --disabled-fill-color: #AAA;\n",
              "      --disabled-bg-color: #DDD;\n",
              "  }\n",
              "\n",
              "  [theme=dark] .colab-df-quickchart {\n",
              "      --bg-color: #3B4455;\n",
              "      --fill-color: #D2E3FC;\n",
              "      --hover-bg-color: #434B5C;\n",
              "      --hover-fill-color: #FFFFFF;\n",
              "      --disabled-bg-color: #3B4455;\n",
              "      --disabled-fill-color: #666;\n",
              "  }\n",
              "\n",
              "  .colab-df-quickchart {\n",
              "    background-color: var(--bg-color);\n",
              "    border: none;\n",
              "    border-radius: 50%;\n",
              "    cursor: pointer;\n",
              "    display: none;\n",
              "    fill: var(--fill-color);\n",
              "    height: 32px;\n",
              "    padding: 0;\n",
              "    width: 32px;\n",
              "  }\n",
              "\n",
              "  .colab-df-quickchart:hover {\n",
              "    background-color: var(--hover-bg-color);\n",
              "    box-shadow: 0 1px 2px rgba(60, 64, 67, 0.3), 0 1px 3px 1px rgba(60, 64, 67, 0.15);\n",
              "    fill: var(--button-hover-fill-color);\n",
              "  }\n",
              "\n",
              "  .colab-df-quickchart-complete:disabled,\n",
              "  .colab-df-quickchart-complete:disabled:hover {\n",
              "    background-color: var(--disabled-bg-color);\n",
              "    fill: var(--disabled-fill-color);\n",
              "    box-shadow: none;\n",
              "  }\n",
              "\n",
              "  .colab-df-spinner {\n",
              "    border: 2px solid var(--fill-color);\n",
              "    border-color: transparent;\n",
              "    border-bottom-color: var(--fill-color);\n",
              "    animation:\n",
              "      spin 1s steps(1) infinite;\n",
              "  }\n",
              "\n",
              "  @keyframes spin {\n",
              "    0% {\n",
              "      border-color: transparent;\n",
              "      border-bottom-color: var(--fill-color);\n",
              "      border-left-color: var(--fill-color);\n",
              "    }\n",
              "    20% {\n",
              "      border-color: transparent;\n",
              "      border-left-color: var(--fill-color);\n",
              "      border-top-color: var(--fill-color);\n",
              "    }\n",
              "    30% {\n",
              "      border-color: transparent;\n",
              "      border-left-color: var(--fill-color);\n",
              "      border-top-color: var(--fill-color);\n",
              "      border-right-color: var(--fill-color);\n",
              "    }\n",
              "    40% {\n",
              "      border-color: transparent;\n",
              "      border-right-color: var(--fill-color);\n",
              "      border-top-color: var(--fill-color);\n",
              "    }\n",
              "    60% {\n",
              "      border-color: transparent;\n",
              "      border-right-color: var(--fill-color);\n",
              "    }\n",
              "    80% {\n",
              "      border-color: transparent;\n",
              "      border-right-color: var(--fill-color);\n",
              "      border-bottom-color: var(--fill-color);\n",
              "    }\n",
              "    90% {\n",
              "      border-color: transparent;\n",
              "      border-bottom-color: var(--fill-color);\n",
              "    }\n",
              "  }\n",
              "</style>\n",
              "\n",
              "  <script>\n",
              "    async function quickchart(key) {\n",
              "      const quickchartButtonEl =\n",
              "        document.querySelector('#' + key + ' button');\n",
              "      quickchartButtonEl.disabled = true;  // To prevent multiple clicks.\n",
              "      quickchartButtonEl.classList.add('colab-df-spinner');\n",
              "      try {\n",
              "        const charts = await google.colab.kernel.invokeFunction(\n",
              "            'suggestCharts', [key], {});\n",
              "      } catch (error) {\n",
              "        console.error('Error during call to suggestCharts:', error);\n",
              "      }\n",
              "      quickchartButtonEl.classList.remove('colab-df-spinner');\n",
              "      quickchartButtonEl.classList.add('colab-df-quickchart-complete');\n",
              "    }\n",
              "    (() => {\n",
              "      let quickchartButtonEl =\n",
              "        document.querySelector('#df-a6e6b25b-4273-45aa-9996-39b149156e49 button');\n",
              "      quickchartButtonEl.style.display =\n",
              "        google.colab.kernel.accessAllowed ? 'block' : 'none';\n",
              "    })();\n",
              "  </script>\n",
              "</div>\n",
              "    </div>\n",
              "  </div>\n"
            ]
          },
          "metadata": {},
          "execution_count": 121
        }
      ]
    },
    {
      "cell_type": "markdown",
      "source": [
        "Let's drop these rows!"
      ],
      "metadata": {
        "id": "4WsksggHKYDP"
      }
    },
    {
      "cell_type": "code",
      "source": [
        "inventory_viewability_clean = inventory_viewability_clean.dropna().reset_index(drop=True)"
      ],
      "metadata": {
        "id": "EuCTmNxGJAXg"
      },
      "execution_count": 122,
      "outputs": []
    },
    {
      "cell_type": "markdown",
      "source": [
        "Cheeky lil double check."
      ],
      "metadata": {
        "id": "-MvhHX9hKrVR"
      }
    },
    {
      "cell_type": "code",
      "source": [
        "inventory_viewability_clean.isna().sum()"
      ],
      "metadata": {
        "colab": {
          "base_uri": "https://localhost:8080/"
        },
        "id": "OnOTKIdnKhGX",
        "outputId": "cb3713f5-3c22-4a37-86be-fbb1abc30be6"
      },
      "execution_count": 123,
      "outputs": [
        {
          "output_type": "execute_result",
          "data": {
            "text/plain": [
              "Brand_Company_Name        0\n",
              "Strategy__                0\n",
              "App_URL                   0\n",
              "Exchange                  0\n",
              "Impressions               0\n",
              "Clicks                    0\n",
              "Total_Conversions         0\n",
              "Gross_Cost                0\n",
              "Net_Cost                  0\n",
              "Viewable_Impressions      0\n",
              "Measurable_Impressions    0\n",
              "dtype: int64"
            ]
          },
          "metadata": {},
          "execution_count": 123
        }
      ]
    },
    {
      "cell_type": "markdown",
      "source": [
        "Perfect!"
      ],
      "metadata": {
        "id": "wg0FWyPWKxe2"
      }
    },
    {
      "cell_type": "markdown",
      "source": [
        "### Dropping Brand Company Name Column"
      ],
      "metadata": {
        "id": "r87mhsv0LZPT"
      }
    },
    {
      "cell_type": "markdown",
      "source": [
        "Brand_Company_Name only has one value, \"Choose your advertiser name\"."
      ],
      "metadata": {
        "id": "6M1sq-PjLx7H"
      }
    },
    {
      "cell_type": "code",
      "source": [
        "inventory_viewability_clean.Brand_Company_Name.unique()"
      ],
      "metadata": {
        "colab": {
          "base_uri": "https://localhost:8080/"
        },
        "id": "P9kH_Jb8KyQN",
        "outputId": "44961a23-a437-40fa-c27c-df2e98a7f579"
      },
      "execution_count": 124,
      "outputs": [
        {
          "output_type": "execute_result",
          "data": {
            "text/plain": [
              "array(['Choose your advertiser name'], dtype=object)"
            ]
          },
          "metadata": {},
          "execution_count": 124
        }
      ]
    },
    {
      "cell_type": "markdown",
      "source": [
        "Since this is not helpful towards our data analysis, I will drop it."
      ],
      "metadata": {
        "id": "55WJdC0qL-HQ"
      }
    },
    {
      "cell_type": "code",
      "source": [
        "inventory_viewability_clean = inventory_viewability_clean.drop('Brand_Company_Name', axis=1)\n",
        "inventory_viewability_clean.head(1)"
      ],
      "metadata": {
        "colab": {
          "base_uri": "https://localhost:8080/",
          "height": 118
        },
        "id": "e6ejL-ThL40a",
        "outputId": "486995fe-fb83-45df-eaea-54a91cac523a"
      },
      "execution_count": 125,
      "outputs": [
        {
          "output_type": "execute_result",
          "data": {
            "text/plain": [
              "                       Strategy__ App_URL Exchange  Impressions  Clicks  \\\n",
              "0  Desktop_2P_Affinity Categories  al.com  Taboola         2401       0   \n",
              "\n",
              "   Total_Conversions  Gross_Cost  Net_Cost  Viewable_Impressions  \\\n",
              "0                  0    3.106056  0.997044                  1551   \n",
              "\n",
              "   Measurable_Impressions  \n",
              "0                    2122  "
            ],
            "text/html": [
              "\n",
              "  <div id=\"df-4af705fd-44df-4d18-9dd2-8be76d9fe699\" class=\"colab-df-container\">\n",
              "    <div>\n",
              "<style scoped>\n",
              "    .dataframe tbody tr th:only-of-type {\n",
              "        vertical-align: middle;\n",
              "    }\n",
              "\n",
              "    .dataframe tbody tr th {\n",
              "        vertical-align: top;\n",
              "    }\n",
              "\n",
              "    .dataframe thead th {\n",
              "        text-align: right;\n",
              "    }\n",
              "</style>\n",
              "<table border=\"1\" class=\"dataframe\">\n",
              "  <thead>\n",
              "    <tr style=\"text-align: right;\">\n",
              "      <th></th>\n",
              "      <th>Strategy__</th>\n",
              "      <th>App_URL</th>\n",
              "      <th>Exchange</th>\n",
              "      <th>Impressions</th>\n",
              "      <th>Clicks</th>\n",
              "      <th>Total_Conversions</th>\n",
              "      <th>Gross_Cost</th>\n",
              "      <th>Net_Cost</th>\n",
              "      <th>Viewable_Impressions</th>\n",
              "      <th>Measurable_Impressions</th>\n",
              "    </tr>\n",
              "  </thead>\n",
              "  <tbody>\n",
              "    <tr>\n",
              "      <th>0</th>\n",
              "      <td>Desktop_2P_Affinity Categories</td>\n",
              "      <td>al.com</td>\n",
              "      <td>Taboola</td>\n",
              "      <td>2401</td>\n",
              "      <td>0</td>\n",
              "      <td>0</td>\n",
              "      <td>3.106056</td>\n",
              "      <td>0.997044</td>\n",
              "      <td>1551</td>\n",
              "      <td>2122</td>\n",
              "    </tr>\n",
              "  </tbody>\n",
              "</table>\n",
              "</div>\n",
              "    <div class=\"colab-df-buttons\">\n",
              "\n",
              "  <div class=\"colab-df-container\">\n",
              "    <button class=\"colab-df-convert\" onclick=\"convertToInteractive('df-4af705fd-44df-4d18-9dd2-8be76d9fe699')\"\n",
              "            title=\"Convert this dataframe to an interactive table.\"\n",
              "            style=\"display:none;\">\n",
              "\n",
              "  <svg xmlns=\"http://www.w3.org/2000/svg\" height=\"24px\" viewBox=\"0 -960 960 960\">\n",
              "    <path d=\"M120-120v-720h720v720H120Zm60-500h600v-160H180v160Zm220 220h160v-160H400v160Zm0 220h160v-160H400v160ZM180-400h160v-160H180v160Zm440 0h160v-160H620v160ZM180-180h160v-160H180v160Zm440 0h160v-160H620v160Z\"/>\n",
              "  </svg>\n",
              "    </button>\n",
              "\n",
              "  <style>\n",
              "    .colab-df-container {\n",
              "      display:flex;\n",
              "      gap: 12px;\n",
              "    }\n",
              "\n",
              "    .colab-df-convert {\n",
              "      background-color: #E8F0FE;\n",
              "      border: none;\n",
              "      border-radius: 50%;\n",
              "      cursor: pointer;\n",
              "      display: none;\n",
              "      fill: #1967D2;\n",
              "      height: 32px;\n",
              "      padding: 0 0 0 0;\n",
              "      width: 32px;\n",
              "    }\n",
              "\n",
              "    .colab-df-convert:hover {\n",
              "      background-color: #E2EBFA;\n",
              "      box-shadow: 0px 1px 2px rgba(60, 64, 67, 0.3), 0px 1px 3px 1px rgba(60, 64, 67, 0.15);\n",
              "      fill: #174EA6;\n",
              "    }\n",
              "\n",
              "    .colab-df-buttons div {\n",
              "      margin-bottom: 4px;\n",
              "    }\n",
              "\n",
              "    [theme=dark] .colab-df-convert {\n",
              "      background-color: #3B4455;\n",
              "      fill: #D2E3FC;\n",
              "    }\n",
              "\n",
              "    [theme=dark] .colab-df-convert:hover {\n",
              "      background-color: #434B5C;\n",
              "      box-shadow: 0px 1px 3px 1px rgba(0, 0, 0, 0.15);\n",
              "      filter: drop-shadow(0px 1px 2px rgba(0, 0, 0, 0.3));\n",
              "      fill: #FFFFFF;\n",
              "    }\n",
              "  </style>\n",
              "\n",
              "    <script>\n",
              "      const buttonEl =\n",
              "        document.querySelector('#df-4af705fd-44df-4d18-9dd2-8be76d9fe699 button.colab-df-convert');\n",
              "      buttonEl.style.display =\n",
              "        google.colab.kernel.accessAllowed ? 'block' : 'none';\n",
              "\n",
              "      async function convertToInteractive(key) {\n",
              "        const element = document.querySelector('#df-4af705fd-44df-4d18-9dd2-8be76d9fe699');\n",
              "        const dataTable =\n",
              "          await google.colab.kernel.invokeFunction('convertToInteractive',\n",
              "                                                    [key], {});\n",
              "        if (!dataTable) return;\n",
              "\n",
              "        const docLinkHtml = 'Like what you see? Visit the ' +\n",
              "          '<a target=\"_blank\" href=https://colab.research.google.com/notebooks/data_table.ipynb>data table notebook</a>'\n",
              "          + ' to learn more about interactive tables.';\n",
              "        element.innerHTML = '';\n",
              "        dataTable['output_type'] = 'display_data';\n",
              "        await google.colab.output.renderOutput(dataTable, element);\n",
              "        const docLink = document.createElement('div');\n",
              "        docLink.innerHTML = docLinkHtml;\n",
              "        element.appendChild(docLink);\n",
              "      }\n",
              "    </script>\n",
              "  </div>\n",
              "\n",
              "    </div>\n",
              "  </div>\n"
            ]
          },
          "metadata": {},
          "execution_count": 125
        }
      ]
    },
    {
      "cell_type": "markdown",
      "source": [
        "### Reformatting Strategy Column"
      ],
      "metadata": {
        "id": "hq924o-kMhUk"
      }
    },
    {
      "cell_type": "markdown",
      "source": [
        "The error below demonstrates that not only do the values of the Strategy column need to be reformatted, but the column name itself."
      ],
      "metadata": {
        "id": "NzMeVaZkNTTQ"
      }
    },
    {
      "cell_type": "code",
      "source": [
        "inventory_viewability_clean.Strategy.unique()"
      ],
      "metadata": {
        "colab": {
          "base_uri": "https://localhost:8080/",
          "height": 309
        },
        "id": "GXlL4CjoMyW5",
        "outputId": "2cff6736-e3c8-47ba-af96-71be0da57d9c"
      },
      "execution_count": 126,
      "outputs": [
        {
          "output_type": "error",
          "ename": "AttributeError",
          "evalue": "ignored",
          "traceback": [
            "\u001b[0;31m---------------------------------------------------------------------------\u001b[0m",
            "\u001b[0;31mAttributeError\u001b[0m                            Traceback (most recent call last)",
            "\u001b[0;32m<ipython-input-126-100d0dee8667>\u001b[0m in \u001b[0;36m<cell line: 1>\u001b[0;34m()\u001b[0m\n\u001b[0;32m----> 1\u001b[0;31m \u001b[0minventory_viewability_clean\u001b[0m\u001b[0;34m.\u001b[0m\u001b[0mStrategy\u001b[0m\u001b[0;34m.\u001b[0m\u001b[0munique\u001b[0m\u001b[0;34m(\u001b[0m\u001b[0;34m)\u001b[0m\u001b[0;34m\u001b[0m\u001b[0;34m\u001b[0m\u001b[0m\n\u001b[0m",
            "\u001b[0;32m/usr/local/lib/python3.10/dist-packages/pandas/core/generic.py\u001b[0m in \u001b[0;36m__getattr__\u001b[0;34m(self, name)\u001b[0m\n\u001b[1;32m   5900\u001b[0m         ):\n\u001b[1;32m   5901\u001b[0m             \u001b[0;32mreturn\u001b[0m \u001b[0mself\u001b[0m\u001b[0;34m[\u001b[0m\u001b[0mname\u001b[0m\u001b[0;34m]\u001b[0m\u001b[0;34m\u001b[0m\u001b[0;34m\u001b[0m\u001b[0m\n\u001b[0;32m-> 5902\u001b[0;31m         \u001b[0;32mreturn\u001b[0m \u001b[0mobject\u001b[0m\u001b[0;34m.\u001b[0m\u001b[0m__getattribute__\u001b[0m\u001b[0;34m(\u001b[0m\u001b[0mself\u001b[0m\u001b[0;34m,\u001b[0m \u001b[0mname\u001b[0m\u001b[0;34m)\u001b[0m\u001b[0;34m\u001b[0m\u001b[0;34m\u001b[0m\u001b[0m\n\u001b[0m\u001b[1;32m   5903\u001b[0m \u001b[0;34m\u001b[0m\u001b[0m\n\u001b[1;32m   5904\u001b[0m     \u001b[0;32mdef\u001b[0m \u001b[0m__setattr__\u001b[0m\u001b[0;34m(\u001b[0m\u001b[0mself\u001b[0m\u001b[0;34m,\u001b[0m \u001b[0mname\u001b[0m\u001b[0;34m:\u001b[0m \u001b[0mstr\u001b[0m\u001b[0;34m,\u001b[0m \u001b[0mvalue\u001b[0m\u001b[0;34m)\u001b[0m \u001b[0;34m->\u001b[0m \u001b[0;32mNone\u001b[0m\u001b[0;34m:\u001b[0m\u001b[0;34m\u001b[0m\u001b[0;34m\u001b[0m\u001b[0m\n",
            "\u001b[0;31mAttributeError\u001b[0m: 'DataFrame' object has no attribute 'Strategy'"
          ]
        }
      ]
    },
    {
      "cell_type": "markdown",
      "source": [
        "Cheeky lil rename."
      ],
      "metadata": {
        "id": "Kjwqnjj4N6ws"
      }
    },
    {
      "cell_type": "code",
      "source": [
        "inventory_viewability_clean = inventory_viewability_clean.rename(columns={'Strategy__':\"Strategy\"})"
      ],
      "metadata": {
        "id": "LV9BXnnGNNpn"
      },
      "execution_count": 127,
      "outputs": []
    },
    {
      "cell_type": "markdown",
      "source": [
        "Let's try to see the unique values now. This time we have not only mobile, but desktop devices as part of our strategy values."
      ],
      "metadata": {
        "id": "tVuF1UT9Oqnh"
      }
    },
    {
      "cell_type": "code",
      "source": [
        "inventory_viewability_clean.Strategy.unique()"
      ],
      "metadata": {
        "colab": {
          "base_uri": "https://localhost:8080/"
        },
        "id": "0yI3EvypN9vf",
        "outputId": "ff2d5f58-bfd6-4501-b947-e9db6a57cb64"
      },
      "execution_count": 128,
      "outputs": [
        {
          "output_type": "execute_result",
          "data": {
            "text/plain": [
              "array(['Desktop_2P_Affinity Categories', 'Desktop_2P_Business Contextual',\n",
              "       'Desktop_2P_Custom Intent/Affinity',\n",
              "       'Desktop_2P_In Market_Business Services or ISPs',\n",
              "       'Desktop_2P_Pixel Converters_Optimized Targeting', 'Desktop_RON',\n",
              "       'Mobile_2P_Affinity Categories',\n",
              "       'Mobile_2P_Custom Intent/Affinity',\n",
              "       'Mobile_2P_In Market_Business Services or ISPs',\n",
              "       'Mobile_2P_Pixel Converters_Optimized Targeting', 'Mobile_RON',\n",
              "       'Mobile_2P_Business Contextual'], dtype=object)"
            ]
          },
          "metadata": {},
          "execution_count": 128
        }
      ]
    },
    {
      "cell_type": "markdown",
      "source": [
        "This reformatting requires a bit more sophistication, I will start by seperating the first string by the '_' delimiter and expanding it into it's own column."
      ],
      "metadata": {
        "id": "iRbRRAcbY4ST"
      }
    },
    {
      "cell_type": "code",
      "source": [
        "new_columns = inventory_viewability_clean.Strategy.str.split(\"_\", n=1, expand=True)\n",
        "new_columns.head(1)"
      ],
      "metadata": {
        "colab": {
          "base_uri": "https://localhost:8080/",
          "height": 81
        },
        "id": "wgewvDf5OuPm",
        "outputId": "96098f46-85a2-4ace-8f49-fc60a35b251a"
      },
      "execution_count": 129,
      "outputs": [
        {
          "output_type": "execute_result",
          "data": {
            "text/plain": [
              "         0                       1\n",
              "0  Desktop  2P_Affinity Categories"
            ],
            "text/html": [
              "\n",
              "  <div id=\"df-876aa167-33bf-494d-ae66-06223ce06b90\" class=\"colab-df-container\">\n",
              "    <div>\n",
              "<style scoped>\n",
              "    .dataframe tbody tr th:only-of-type {\n",
              "        vertical-align: middle;\n",
              "    }\n",
              "\n",
              "    .dataframe tbody tr th {\n",
              "        vertical-align: top;\n",
              "    }\n",
              "\n",
              "    .dataframe thead th {\n",
              "        text-align: right;\n",
              "    }\n",
              "</style>\n",
              "<table border=\"1\" class=\"dataframe\">\n",
              "  <thead>\n",
              "    <tr style=\"text-align: right;\">\n",
              "      <th></th>\n",
              "      <th>0</th>\n",
              "      <th>1</th>\n",
              "    </tr>\n",
              "  </thead>\n",
              "  <tbody>\n",
              "    <tr>\n",
              "      <th>0</th>\n",
              "      <td>Desktop</td>\n",
              "      <td>2P_Affinity Categories</td>\n",
              "    </tr>\n",
              "  </tbody>\n",
              "</table>\n",
              "</div>\n",
              "    <div class=\"colab-df-buttons\">\n",
              "\n",
              "  <div class=\"colab-df-container\">\n",
              "    <button class=\"colab-df-convert\" onclick=\"convertToInteractive('df-876aa167-33bf-494d-ae66-06223ce06b90')\"\n",
              "            title=\"Convert this dataframe to an interactive table.\"\n",
              "            style=\"display:none;\">\n",
              "\n",
              "  <svg xmlns=\"http://www.w3.org/2000/svg\" height=\"24px\" viewBox=\"0 -960 960 960\">\n",
              "    <path d=\"M120-120v-720h720v720H120Zm60-500h600v-160H180v160Zm220 220h160v-160H400v160Zm0 220h160v-160H400v160ZM180-400h160v-160H180v160Zm440 0h160v-160H620v160ZM180-180h160v-160H180v160Zm440 0h160v-160H620v160Z\"/>\n",
              "  </svg>\n",
              "    </button>\n",
              "\n",
              "  <style>\n",
              "    .colab-df-container {\n",
              "      display:flex;\n",
              "      gap: 12px;\n",
              "    }\n",
              "\n",
              "    .colab-df-convert {\n",
              "      background-color: #E8F0FE;\n",
              "      border: none;\n",
              "      border-radius: 50%;\n",
              "      cursor: pointer;\n",
              "      display: none;\n",
              "      fill: #1967D2;\n",
              "      height: 32px;\n",
              "      padding: 0 0 0 0;\n",
              "      width: 32px;\n",
              "    }\n",
              "\n",
              "    .colab-df-convert:hover {\n",
              "      background-color: #E2EBFA;\n",
              "      box-shadow: 0px 1px 2px rgba(60, 64, 67, 0.3), 0px 1px 3px 1px rgba(60, 64, 67, 0.15);\n",
              "      fill: #174EA6;\n",
              "    }\n",
              "\n",
              "    .colab-df-buttons div {\n",
              "      margin-bottom: 4px;\n",
              "    }\n",
              "\n",
              "    [theme=dark] .colab-df-convert {\n",
              "      background-color: #3B4455;\n",
              "      fill: #D2E3FC;\n",
              "    }\n",
              "\n",
              "    [theme=dark] .colab-df-convert:hover {\n",
              "      background-color: #434B5C;\n",
              "      box-shadow: 0px 1px 3px 1px rgba(0, 0, 0, 0.15);\n",
              "      filter: drop-shadow(0px 1px 2px rgba(0, 0, 0, 0.3));\n",
              "      fill: #FFFFFF;\n",
              "    }\n",
              "  </style>\n",
              "\n",
              "    <script>\n",
              "      const buttonEl =\n",
              "        document.querySelector('#df-876aa167-33bf-494d-ae66-06223ce06b90 button.colab-df-convert');\n",
              "      buttonEl.style.display =\n",
              "        google.colab.kernel.accessAllowed ? 'block' : 'none';\n",
              "\n",
              "      async function convertToInteractive(key) {\n",
              "        const element = document.querySelector('#df-876aa167-33bf-494d-ae66-06223ce06b90');\n",
              "        const dataTable =\n",
              "          await google.colab.kernel.invokeFunction('convertToInteractive',\n",
              "                                                    [key], {});\n",
              "        if (!dataTable) return;\n",
              "\n",
              "        const docLinkHtml = 'Like what you see? Visit the ' +\n",
              "          '<a target=\"_blank\" href=https://colab.research.google.com/notebooks/data_table.ipynb>data table notebook</a>'\n",
              "          + ' to learn more about interactive tables.';\n",
              "        element.innerHTML = '';\n",
              "        dataTable['output_type'] = 'display_data';\n",
              "        await google.colab.output.renderOutput(dataTable, element);\n",
              "        const docLink = document.createElement('div');\n",
              "        docLink.innerHTML = docLinkHtml;\n",
              "        element.appendChild(docLink);\n",
              "      }\n",
              "    </script>\n",
              "  </div>\n",
              "\n",
              "    </div>\n",
              "  </div>\n"
            ]
          },
          "metadata": {},
          "execution_count": 129
        }
      ]
    },
    {
      "cell_type": "code",
      "source": [
        "inventory_viewability_clean['Strategy_Device'] = new_columns[0]"
      ],
      "metadata": {
        "id": "aQ0SqIwOX0Td"
      },
      "execution_count": 130,
      "outputs": []
    },
    {
      "cell_type": "code",
      "source": [
        "inventory_viewability_clean.head(1)"
      ],
      "metadata": {
        "colab": {
          "base_uri": "https://localhost:8080/",
          "height": 118
        },
        "id": "5j69d8Tucihs",
        "outputId": "7e94999d-910c-4332-b65e-a8ec37bff8fd"
      },
      "execution_count": 131,
      "outputs": [
        {
          "output_type": "execute_result",
          "data": {
            "text/plain": [
              "                         Strategy App_URL Exchange  Impressions  Clicks  \\\n",
              "0  Desktop_2P_Affinity Categories  al.com  Taboola         2401       0   \n",
              "\n",
              "   Total_Conversions  Gross_Cost  Net_Cost  Viewable_Impressions  \\\n",
              "0                  0    3.106056  0.997044                  1551   \n",
              "\n",
              "   Measurable_Impressions Strategy_Device  \n",
              "0                    2122         Desktop  "
            ],
            "text/html": [
              "\n",
              "  <div id=\"df-856dc30e-e79a-4544-b5f2-9f2436e71f01\" class=\"colab-df-container\">\n",
              "    <div>\n",
              "<style scoped>\n",
              "    .dataframe tbody tr th:only-of-type {\n",
              "        vertical-align: middle;\n",
              "    }\n",
              "\n",
              "    .dataframe tbody tr th {\n",
              "        vertical-align: top;\n",
              "    }\n",
              "\n",
              "    .dataframe thead th {\n",
              "        text-align: right;\n",
              "    }\n",
              "</style>\n",
              "<table border=\"1\" class=\"dataframe\">\n",
              "  <thead>\n",
              "    <tr style=\"text-align: right;\">\n",
              "      <th></th>\n",
              "      <th>Strategy</th>\n",
              "      <th>App_URL</th>\n",
              "      <th>Exchange</th>\n",
              "      <th>Impressions</th>\n",
              "      <th>Clicks</th>\n",
              "      <th>Total_Conversions</th>\n",
              "      <th>Gross_Cost</th>\n",
              "      <th>Net_Cost</th>\n",
              "      <th>Viewable_Impressions</th>\n",
              "      <th>Measurable_Impressions</th>\n",
              "      <th>Strategy_Device</th>\n",
              "    </tr>\n",
              "  </thead>\n",
              "  <tbody>\n",
              "    <tr>\n",
              "      <th>0</th>\n",
              "      <td>Desktop_2P_Affinity Categories</td>\n",
              "      <td>al.com</td>\n",
              "      <td>Taboola</td>\n",
              "      <td>2401</td>\n",
              "      <td>0</td>\n",
              "      <td>0</td>\n",
              "      <td>3.106056</td>\n",
              "      <td>0.997044</td>\n",
              "      <td>1551</td>\n",
              "      <td>2122</td>\n",
              "      <td>Desktop</td>\n",
              "    </tr>\n",
              "  </tbody>\n",
              "</table>\n",
              "</div>\n",
              "    <div class=\"colab-df-buttons\">\n",
              "\n",
              "  <div class=\"colab-df-container\">\n",
              "    <button class=\"colab-df-convert\" onclick=\"convertToInteractive('df-856dc30e-e79a-4544-b5f2-9f2436e71f01')\"\n",
              "            title=\"Convert this dataframe to an interactive table.\"\n",
              "            style=\"display:none;\">\n",
              "\n",
              "  <svg xmlns=\"http://www.w3.org/2000/svg\" height=\"24px\" viewBox=\"0 -960 960 960\">\n",
              "    <path d=\"M120-120v-720h720v720H120Zm60-500h600v-160H180v160Zm220 220h160v-160H400v160Zm0 220h160v-160H400v160ZM180-400h160v-160H180v160Zm440 0h160v-160H620v160ZM180-180h160v-160H180v160Zm440 0h160v-160H620v160Z\"/>\n",
              "  </svg>\n",
              "    </button>\n",
              "\n",
              "  <style>\n",
              "    .colab-df-container {\n",
              "      display:flex;\n",
              "      gap: 12px;\n",
              "    }\n",
              "\n",
              "    .colab-df-convert {\n",
              "      background-color: #E8F0FE;\n",
              "      border: none;\n",
              "      border-radius: 50%;\n",
              "      cursor: pointer;\n",
              "      display: none;\n",
              "      fill: #1967D2;\n",
              "      height: 32px;\n",
              "      padding: 0 0 0 0;\n",
              "      width: 32px;\n",
              "    }\n",
              "\n",
              "    .colab-df-convert:hover {\n",
              "      background-color: #E2EBFA;\n",
              "      box-shadow: 0px 1px 2px rgba(60, 64, 67, 0.3), 0px 1px 3px 1px rgba(60, 64, 67, 0.15);\n",
              "      fill: #174EA6;\n",
              "    }\n",
              "\n",
              "    .colab-df-buttons div {\n",
              "      margin-bottom: 4px;\n",
              "    }\n",
              "\n",
              "    [theme=dark] .colab-df-convert {\n",
              "      background-color: #3B4455;\n",
              "      fill: #D2E3FC;\n",
              "    }\n",
              "\n",
              "    [theme=dark] .colab-df-convert:hover {\n",
              "      background-color: #434B5C;\n",
              "      box-shadow: 0px 1px 3px 1px rgba(0, 0, 0, 0.15);\n",
              "      filter: drop-shadow(0px 1px 2px rgba(0, 0, 0, 0.3));\n",
              "      fill: #FFFFFF;\n",
              "    }\n",
              "  </style>\n",
              "\n",
              "    <script>\n",
              "      const buttonEl =\n",
              "        document.querySelector('#df-856dc30e-e79a-4544-b5f2-9f2436e71f01 button.colab-df-convert');\n",
              "      buttonEl.style.display =\n",
              "        google.colab.kernel.accessAllowed ? 'block' : 'none';\n",
              "\n",
              "      async function convertToInteractive(key) {\n",
              "        const element = document.querySelector('#df-856dc30e-e79a-4544-b5f2-9f2436e71f01');\n",
              "        const dataTable =\n",
              "          await google.colab.kernel.invokeFunction('convertToInteractive',\n",
              "                                                    [key], {});\n",
              "        if (!dataTable) return;\n",
              "\n",
              "        const docLinkHtml = 'Like what you see? Visit the ' +\n",
              "          '<a target=\"_blank\" href=https://colab.research.google.com/notebooks/data_table.ipynb>data table notebook</a>'\n",
              "          + ' to learn more about interactive tables.';\n",
              "        element.innerHTML = '';\n",
              "        dataTable['output_type'] = 'display_data';\n",
              "        await google.colab.output.renderOutput(dataTable, element);\n",
              "        const docLink = document.createElement('div');\n",
              "        docLink.innerHTML = docLinkHtml;\n",
              "        element.appendChild(docLink);\n",
              "      }\n",
              "    </script>\n",
              "  </div>\n",
              "\n",
              "    </div>\n",
              "  </div>\n"
            ]
          },
          "metadata": {},
          "execution_count": 131
        }
      ]
    },
    {
      "cell_type": "markdown",
      "source": [
        "I will drop our original Strategy column to make room for a new Strategy column with our new format."
      ],
      "metadata": {
        "id": "5j2MpFmfM8HP"
      }
    },
    {
      "cell_type": "code",
      "source": [
        "inventory_viewability_clean = inventory_viewability_clean.drop('Strategy', axis=1)"
      ],
      "metadata": {
        "id": "3X_U9BEYcnie"
      },
      "execution_count": 132,
      "outputs": []
    },
    {
      "cell_type": "markdown",
      "source": [
        "Adding our new column."
      ],
      "metadata": {
        "id": "eJ23C-RnNfRL"
      }
    },
    {
      "cell_type": "code",
      "source": [
        "inventory_viewability_clean['Strategy'] = new_columns[1]\n",
        "inventory_viewability_clean.Strategy.unique()"
      ],
      "metadata": {
        "colab": {
          "base_uri": "https://localhost:8080/"
        },
        "id": "N4m3rC3MNaBs",
        "outputId": "4901e652-bc5a-4e9d-c419-1af292a4ddee"
      },
      "execution_count": 133,
      "outputs": [
        {
          "output_type": "execute_result",
          "data": {
            "text/plain": [
              "array(['2P_Affinity Categories', '2P_Business Contextual',\n",
              "       '2P_Custom Intent/Affinity',\n",
              "       '2P_In Market_Business Services or ISPs',\n",
              "       '2P_Pixel Converters_Optimized Targeting', 'RON'], dtype=object)"
            ]
          },
          "metadata": {},
          "execution_count": 133
        }
      ]
    },
    {
      "cell_type": "markdown",
      "source": [
        "We aren't done yet. I want to remove the \"2P\" if the value has it, since it's redundant. And replace underscores with a comma and whitespace."
      ],
      "metadata": {
        "id": "fH8cYrjtNs5O"
      }
    },
    {
      "cell_type": "code",
      "source": [
        "inventory_viewability_clean.Strategy = inventory_viewability_clean.Strategy.str.replace('2P_', '')\n",
        "inventory_viewability_clean.Strategy = inventory_viewability_clean.Strategy.str.replace('_', ', ')"
      ],
      "metadata": {
        "id": "ioxv2HsENrvi"
      },
      "execution_count": 134,
      "outputs": []
    },
    {
      "cell_type": "markdown",
      "source": [
        "PERFECT!"
      ],
      "metadata": {
        "id": "wSeurklrQZ7T"
      }
    },
    {
      "cell_type": "code",
      "source": [
        "inventory_viewability_clean.Strategy.unique()"
      ],
      "metadata": {
        "colab": {
          "base_uri": "https://localhost:8080/"
        },
        "id": "83_MTH3SOabj",
        "outputId": "dedd495c-2fa0-4e47-a987-521cf30bc565"
      },
      "execution_count": 135,
      "outputs": [
        {
          "output_type": "execute_result",
          "data": {
            "text/plain": [
              "array(['Affinity Categories', 'Business Contextual',\n",
              "       'Custom Intent/Affinity', 'In Market, Business Services or ISPs',\n",
              "       'Pixel Converters, Optimized Targeting', 'RON'], dtype=object)"
            ]
          },
          "metadata": {},
          "execution_count": 135
        }
      ]
    },
    {
      "cell_type": "markdown",
      "source": [
        "### Negative Measureable Impression Values"
      ],
      "metadata": {
        "id": "yAiPmXfyRCBq"
      }
    },
    {
      "cell_type": "markdown",
      "source": [
        "It is unusual why there are negative values for our Measureable Impressions column. This calls for an investigation."
      ],
      "metadata": {
        "id": "tQtma1ZASMv5"
      }
    },
    {
      "cell_type": "code",
      "source": [
        "negative_impressions_filter = inventory_viewability_clean.loc[:, \"Measurable_Impressions\"] < 0\n",
        "negative_impressions = inventory_viewability_clean.loc[negative_impressions_filter, :]\n",
        "negative_impressions.head()"
      ],
      "metadata": {
        "colab": {
          "base_uri": "https://localhost:8080/",
          "height": 313
        },
        "id": "XS1FqV_KRsnm",
        "outputId": "cf94683d-76b2-4877-8ebc-22cf65d0af43"
      },
      "execution_count": 138,
      "outputs": [
        {
          "output_type": "execute_result",
          "data": {
            "text/plain": [
              "                       App_URL Exchange  Impressions  Clicks  \\\n",
              "9280              canarias7.es    OpenX            0       0   \n",
              "9285  centralillinoisproud.com    OpenX            6       0   \n",
              "9322             fox56news.com    OpenX            0       0   \n",
              "9323          fox5sandiego.com    OpenX            4       0   \n",
              "9337          housemixblog.com    OpenX            0       0   \n",
              "\n",
              "      Total_Conversions  Gross_Cost  Net_Cost  Viewable_Impressions  \\\n",
              "9280                  0    0.000000  0.000000                     0   \n",
              "9285                  0    0.003973  0.001275                     1   \n",
              "9322                  0    0.000000  0.000000                     0   \n",
              "9323                  0    0.004913  0.001577                     0   \n",
              "9337                  0    0.000000  0.000000                     0   \n",
              "\n",
              "      Measurable_Impressions Strategy_Device             Strategy  \n",
              "9280                      -1         Desktop  Affinity Categories  \n",
              "9285                      -3         Desktop  Affinity Categories  \n",
              "9322                      -1         Desktop  Affinity Categories  \n",
              "9323                      -5         Desktop  Affinity Categories  \n",
              "9337                      -1         Desktop  Affinity Categories  "
            ],
            "text/html": [
              "\n",
              "  <div id=\"df-6feb85f9-dfc1-4b17-9623-f6a98ba233ac\" class=\"colab-df-container\">\n",
              "    <div>\n",
              "<style scoped>\n",
              "    .dataframe tbody tr th:only-of-type {\n",
              "        vertical-align: middle;\n",
              "    }\n",
              "\n",
              "    .dataframe tbody tr th {\n",
              "        vertical-align: top;\n",
              "    }\n",
              "\n",
              "    .dataframe thead th {\n",
              "        text-align: right;\n",
              "    }\n",
              "</style>\n",
              "<table border=\"1\" class=\"dataframe\">\n",
              "  <thead>\n",
              "    <tr style=\"text-align: right;\">\n",
              "      <th></th>\n",
              "      <th>App_URL</th>\n",
              "      <th>Exchange</th>\n",
              "      <th>Impressions</th>\n",
              "      <th>Clicks</th>\n",
              "      <th>Total_Conversions</th>\n",
              "      <th>Gross_Cost</th>\n",
              "      <th>Net_Cost</th>\n",
              "      <th>Viewable_Impressions</th>\n",
              "      <th>Measurable_Impressions</th>\n",
              "      <th>Strategy_Device</th>\n",
              "      <th>Strategy</th>\n",
              "    </tr>\n",
              "  </thead>\n",
              "  <tbody>\n",
              "    <tr>\n",
              "      <th>9280</th>\n",
              "      <td>canarias7.es</td>\n",
              "      <td>OpenX</td>\n",
              "      <td>0</td>\n",
              "      <td>0</td>\n",
              "      <td>0</td>\n",
              "      <td>0.000000</td>\n",
              "      <td>0.000000</td>\n",
              "      <td>0</td>\n",
              "      <td>-1</td>\n",
              "      <td>Desktop</td>\n",
              "      <td>Affinity Categories</td>\n",
              "    </tr>\n",
              "    <tr>\n",
              "      <th>9285</th>\n",
              "      <td>centralillinoisproud.com</td>\n",
              "      <td>OpenX</td>\n",
              "      <td>6</td>\n",
              "      <td>0</td>\n",
              "      <td>0</td>\n",
              "      <td>0.003973</td>\n",
              "      <td>0.001275</td>\n",
              "      <td>1</td>\n",
              "      <td>-3</td>\n",
              "      <td>Desktop</td>\n",
              "      <td>Affinity Categories</td>\n",
              "    </tr>\n",
              "    <tr>\n",
              "      <th>9322</th>\n",
              "      <td>fox56news.com</td>\n",
              "      <td>OpenX</td>\n",
              "      <td>0</td>\n",
              "      <td>0</td>\n",
              "      <td>0</td>\n",
              "      <td>0.000000</td>\n",
              "      <td>0.000000</td>\n",
              "      <td>0</td>\n",
              "      <td>-1</td>\n",
              "      <td>Desktop</td>\n",
              "      <td>Affinity Categories</td>\n",
              "    </tr>\n",
              "    <tr>\n",
              "      <th>9323</th>\n",
              "      <td>fox5sandiego.com</td>\n",
              "      <td>OpenX</td>\n",
              "      <td>4</td>\n",
              "      <td>0</td>\n",
              "      <td>0</td>\n",
              "      <td>0.004913</td>\n",
              "      <td>0.001577</td>\n",
              "      <td>0</td>\n",
              "      <td>-5</td>\n",
              "      <td>Desktop</td>\n",
              "      <td>Affinity Categories</td>\n",
              "    </tr>\n",
              "    <tr>\n",
              "      <th>9337</th>\n",
              "      <td>housemixblog.com</td>\n",
              "      <td>OpenX</td>\n",
              "      <td>0</td>\n",
              "      <td>0</td>\n",
              "      <td>0</td>\n",
              "      <td>0.000000</td>\n",
              "      <td>0.000000</td>\n",
              "      <td>0</td>\n",
              "      <td>-1</td>\n",
              "      <td>Desktop</td>\n",
              "      <td>Affinity Categories</td>\n",
              "    </tr>\n",
              "  </tbody>\n",
              "</table>\n",
              "</div>\n",
              "    <div class=\"colab-df-buttons\">\n",
              "\n",
              "  <div class=\"colab-df-container\">\n",
              "    <button class=\"colab-df-convert\" onclick=\"convertToInteractive('df-6feb85f9-dfc1-4b17-9623-f6a98ba233ac')\"\n",
              "            title=\"Convert this dataframe to an interactive table.\"\n",
              "            style=\"display:none;\">\n",
              "\n",
              "  <svg xmlns=\"http://www.w3.org/2000/svg\" height=\"24px\" viewBox=\"0 -960 960 960\">\n",
              "    <path d=\"M120-120v-720h720v720H120Zm60-500h600v-160H180v160Zm220 220h160v-160H400v160Zm0 220h160v-160H400v160ZM180-400h160v-160H180v160Zm440 0h160v-160H620v160ZM180-180h160v-160H180v160Zm440 0h160v-160H620v160Z\"/>\n",
              "  </svg>\n",
              "    </button>\n",
              "\n",
              "  <style>\n",
              "    .colab-df-container {\n",
              "      display:flex;\n",
              "      gap: 12px;\n",
              "    }\n",
              "\n",
              "    .colab-df-convert {\n",
              "      background-color: #E8F0FE;\n",
              "      border: none;\n",
              "      border-radius: 50%;\n",
              "      cursor: pointer;\n",
              "      display: none;\n",
              "      fill: #1967D2;\n",
              "      height: 32px;\n",
              "      padding: 0 0 0 0;\n",
              "      width: 32px;\n",
              "    }\n",
              "\n",
              "    .colab-df-convert:hover {\n",
              "      background-color: #E2EBFA;\n",
              "      box-shadow: 0px 1px 2px rgba(60, 64, 67, 0.3), 0px 1px 3px 1px rgba(60, 64, 67, 0.15);\n",
              "      fill: #174EA6;\n",
              "    }\n",
              "\n",
              "    .colab-df-buttons div {\n",
              "      margin-bottom: 4px;\n",
              "    }\n",
              "\n",
              "    [theme=dark] .colab-df-convert {\n",
              "      background-color: #3B4455;\n",
              "      fill: #D2E3FC;\n",
              "    }\n",
              "\n",
              "    [theme=dark] .colab-df-convert:hover {\n",
              "      background-color: #434B5C;\n",
              "      box-shadow: 0px 1px 3px 1px rgba(0, 0, 0, 0.15);\n",
              "      filter: drop-shadow(0px 1px 2px rgba(0, 0, 0, 0.3));\n",
              "      fill: #FFFFFF;\n",
              "    }\n",
              "  </style>\n",
              "\n",
              "    <script>\n",
              "      const buttonEl =\n",
              "        document.querySelector('#df-6feb85f9-dfc1-4b17-9623-f6a98ba233ac button.colab-df-convert');\n",
              "      buttonEl.style.display =\n",
              "        google.colab.kernel.accessAllowed ? 'block' : 'none';\n",
              "\n",
              "      async function convertToInteractive(key) {\n",
              "        const element = document.querySelector('#df-6feb85f9-dfc1-4b17-9623-f6a98ba233ac');\n",
              "        const dataTable =\n",
              "          await google.colab.kernel.invokeFunction('convertToInteractive',\n",
              "                                                    [key], {});\n",
              "        if (!dataTable) return;\n",
              "\n",
              "        const docLinkHtml = 'Like what you see? Visit the ' +\n",
              "          '<a target=\"_blank\" href=https://colab.research.google.com/notebooks/data_table.ipynb>data table notebook</a>'\n",
              "          + ' to learn more about interactive tables.';\n",
              "        element.innerHTML = '';\n",
              "        dataTable['output_type'] = 'display_data';\n",
              "        await google.colab.output.renderOutput(dataTable, element);\n",
              "        const docLink = document.createElement('div');\n",
              "        docLink.innerHTML = docLinkHtml;\n",
              "        element.appendChild(docLink);\n",
              "      }\n",
              "    </script>\n",
              "  </div>\n",
              "\n",
              "\n",
              "<div id=\"df-bb12e118-31de-4ae9-a287-ea59c51e6105\">\n",
              "  <button class=\"colab-df-quickchart\" onclick=\"quickchart('df-bb12e118-31de-4ae9-a287-ea59c51e6105')\"\n",
              "            title=\"Suggest charts\"\n",
              "            style=\"display:none;\">\n",
              "\n",
              "<svg xmlns=\"http://www.w3.org/2000/svg\" height=\"24px\"viewBox=\"0 0 24 24\"\n",
              "     width=\"24px\">\n",
              "    <g>\n",
              "        <path d=\"M19 3H5c-1.1 0-2 .9-2 2v14c0 1.1.9 2 2 2h14c1.1 0 2-.9 2-2V5c0-1.1-.9-2-2-2zM9 17H7v-7h2v7zm4 0h-2V7h2v10zm4 0h-2v-4h2v4z\"/>\n",
              "    </g>\n",
              "</svg>\n",
              "  </button>\n",
              "\n",
              "<style>\n",
              "  .colab-df-quickchart {\n",
              "      --bg-color: #E8F0FE;\n",
              "      --fill-color: #1967D2;\n",
              "      --hover-bg-color: #E2EBFA;\n",
              "      --hover-fill-color: #174EA6;\n",
              "      --disabled-fill-color: #AAA;\n",
              "      --disabled-bg-color: #DDD;\n",
              "  }\n",
              "\n",
              "  [theme=dark] .colab-df-quickchart {\n",
              "      --bg-color: #3B4455;\n",
              "      --fill-color: #D2E3FC;\n",
              "      --hover-bg-color: #434B5C;\n",
              "      --hover-fill-color: #FFFFFF;\n",
              "      --disabled-bg-color: #3B4455;\n",
              "      --disabled-fill-color: #666;\n",
              "  }\n",
              "\n",
              "  .colab-df-quickchart {\n",
              "    background-color: var(--bg-color);\n",
              "    border: none;\n",
              "    border-radius: 50%;\n",
              "    cursor: pointer;\n",
              "    display: none;\n",
              "    fill: var(--fill-color);\n",
              "    height: 32px;\n",
              "    padding: 0;\n",
              "    width: 32px;\n",
              "  }\n",
              "\n",
              "  .colab-df-quickchart:hover {\n",
              "    background-color: var(--hover-bg-color);\n",
              "    box-shadow: 0 1px 2px rgba(60, 64, 67, 0.3), 0 1px 3px 1px rgba(60, 64, 67, 0.15);\n",
              "    fill: var(--button-hover-fill-color);\n",
              "  }\n",
              "\n",
              "  .colab-df-quickchart-complete:disabled,\n",
              "  .colab-df-quickchart-complete:disabled:hover {\n",
              "    background-color: var(--disabled-bg-color);\n",
              "    fill: var(--disabled-fill-color);\n",
              "    box-shadow: none;\n",
              "  }\n",
              "\n",
              "  .colab-df-spinner {\n",
              "    border: 2px solid var(--fill-color);\n",
              "    border-color: transparent;\n",
              "    border-bottom-color: var(--fill-color);\n",
              "    animation:\n",
              "      spin 1s steps(1) infinite;\n",
              "  }\n",
              "\n",
              "  @keyframes spin {\n",
              "    0% {\n",
              "      border-color: transparent;\n",
              "      border-bottom-color: var(--fill-color);\n",
              "      border-left-color: var(--fill-color);\n",
              "    }\n",
              "    20% {\n",
              "      border-color: transparent;\n",
              "      border-left-color: var(--fill-color);\n",
              "      border-top-color: var(--fill-color);\n",
              "    }\n",
              "    30% {\n",
              "      border-color: transparent;\n",
              "      border-left-color: var(--fill-color);\n",
              "      border-top-color: var(--fill-color);\n",
              "      border-right-color: var(--fill-color);\n",
              "    }\n",
              "    40% {\n",
              "      border-color: transparent;\n",
              "      border-right-color: var(--fill-color);\n",
              "      border-top-color: var(--fill-color);\n",
              "    }\n",
              "    60% {\n",
              "      border-color: transparent;\n",
              "      border-right-color: var(--fill-color);\n",
              "    }\n",
              "    80% {\n",
              "      border-color: transparent;\n",
              "      border-right-color: var(--fill-color);\n",
              "      border-bottom-color: var(--fill-color);\n",
              "    }\n",
              "    90% {\n",
              "      border-color: transparent;\n",
              "      border-bottom-color: var(--fill-color);\n",
              "    }\n",
              "  }\n",
              "</style>\n",
              "\n",
              "  <script>\n",
              "    async function quickchart(key) {\n",
              "      const quickchartButtonEl =\n",
              "        document.querySelector('#' + key + ' button');\n",
              "      quickchartButtonEl.disabled = true;  // To prevent multiple clicks.\n",
              "      quickchartButtonEl.classList.add('colab-df-spinner');\n",
              "      try {\n",
              "        const charts = await google.colab.kernel.invokeFunction(\n",
              "            'suggestCharts', [key], {});\n",
              "      } catch (error) {\n",
              "        console.error('Error during call to suggestCharts:', error);\n",
              "      }\n",
              "      quickchartButtonEl.classList.remove('colab-df-spinner');\n",
              "      quickchartButtonEl.classList.add('colab-df-quickchart-complete');\n",
              "    }\n",
              "    (() => {\n",
              "      let quickchartButtonEl =\n",
              "        document.querySelector('#df-bb12e118-31de-4ae9-a287-ea59c51e6105 button');\n",
              "      quickchartButtonEl.style.display =\n",
              "        google.colab.kernel.accessAllowed ? 'block' : 'none';\n",
              "    })();\n",
              "  </script>\n",
              "</div>\n",
              "    </div>\n",
              "  </div>\n"
            ]
          },
          "metadata": {},
          "execution_count": 138
        }
      ]
    },
    {
      "cell_type": "markdown",
      "source": [
        "We have 1,612 rows with negative values. Compared to other million rows of our dataset, this seems insignificant, but I still think it's worth understanding and perhaps transforming."
      ],
      "metadata": {
        "id": "_2M70eTlTWMT"
      }
    },
    {
      "cell_type": "code",
      "source": [
        "negative_impressions.shape"
      ],
      "metadata": {
        "colab": {
          "base_uri": "https://localhost:8080/"
        },
        "id": "01aPuu0QTP4b",
        "outputId": "037ebc92-f3a0-41be-f983-48351b147c82"
      },
      "execution_count": 144,
      "outputs": [
        {
          "output_type": "execute_result",
          "data": {
            "text/plain": [
              "(1612, 11)"
            ]
          },
          "metadata": {},
          "execution_count": 144
        }
      ]
    },
    {
      "cell_type": "markdown",
      "source": [
        "According to this [article](https://support.google.com/admanager/thread/177613700/why-is-ad-manager-showing-negative-impressions-in-reports?hl=en), negative impressions result from invalid activity. I'll leave this data as it is since understanding which ads have more invalid traffic than others might be an interesting aspect to analyze in order to understand which ads receive this behavior more than others."
      ],
      "metadata": {
        "id": "jDcjn-sYXRmt"
      }
    },
    {
      "cell_type": "markdown",
      "source": [
        "### Duplicates"
      ],
      "metadata": {
        "id": "K2b3NaafQ-pT"
      }
    },
    {
      "cell_type": "markdown",
      "source": [
        "No dupes! Makes my job easier."
      ],
      "metadata": {
        "id": "44y7zoDjZl-6"
      }
    },
    {
      "cell_type": "code",
      "source": [
        "inventory_viewability_clean.duplicated(keep='last').sum()"
      ],
      "metadata": {
        "colab": {
          "base_uri": "https://localhost:8080/"
        },
        "outputId": "bbe65eb9-485a-4fa3-dc83-d0bb715ce371",
        "id": "ApEkvlIjZHKz"
      },
      "execution_count": 156,
      "outputs": [
        {
          "output_type": "execute_result",
          "data": {
            "text/plain": [
              "0"
            ]
          },
          "metadata": {},
          "execution_count": 156
        }
      ]
    },
    {
      "cell_type": "markdown",
      "source": [
        "### Exporting Clean CSV"
      ],
      "metadata": {
        "id": "m9oG288faYBF"
      }
    },
    {
      "cell_type": "markdown",
      "source": [
        "Our Inventory Viewability dataset is satisfactorily clean for my liking. Time to export it!"
      ],
      "metadata": {
        "id": "tULivkUpaYBI"
      }
    },
    {
      "cell_type": "code",
      "source": [
        "inventory_viewability_clean.to_csv('inventory_viewability_clean.csv')"
      ],
      "metadata": {
        "id": "akn8eV98aYBI"
      },
      "execution_count": 159,
      "outputs": []
    }
  ]
}