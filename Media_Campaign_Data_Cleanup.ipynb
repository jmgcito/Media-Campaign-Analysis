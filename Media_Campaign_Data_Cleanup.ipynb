{
  "nbformat": 4,
  "nbformat_minor": 0,
  "metadata": {
    "colab": {
      "provenance": []
    },
    "kernelspec": {
      "name": "python3",
      "display_name": "Python 3"
    },
    "language_info": {
      "name": "python"
    }
  },
  "cells": [
    {
      "cell_type": "markdown",
      "source": [
        "# Media Campaign Data Cleanup\n",
        "\n",
        "  Author: Joshua Guillen\n",
        "\n",
        "___\n"
      ],
      "metadata": {
        "id": "Mh-pMD0gYdiQ"
      }
    },
    {
      "cell_type": "markdown",
      "source": [
        "## Background\n",
        "___"
      ],
      "metadata": {
        "id": "sKGbaAub9s9J"
      }
    },
    {
      "cell_type": "markdown",
      "source": [
        "## Summary\n",
        "___"
      ],
      "metadata": {
        "id": "yjjxjNLl9zYz"
      }
    },
    {
      "cell_type": "markdown",
      "source": [
        "## Table of Contents\n",
        "___"
      ],
      "metadata": {
        "id": "aEM67rg892LW"
      }
    },
    {
      "cell_type": "markdown",
      "source": [
        "## 0. Setup / Dependencies\n",
        "---"
      ],
      "metadata": {
        "id": "4AfHJqzbY8JH"
      }
    },
    {
      "cell_type": "markdown",
      "source": [
        "Importing Google goodness"
      ],
      "metadata": {
        "id": "_saiflD2ZC-N"
      }
    },
    {
      "cell_type": "code",
      "execution_count": null,
      "metadata": {
        "id": "CnDa3DY3H8AQ"
      },
      "outputs": [],
      "source": [
        "!pip install google-cloud\n",
        "!pip install google-cloud-storage\n",
        "!pip install google-cloud-bigquery[pandas]"
      ]
    },
    {
      "cell_type": "code",
      "source": [
        "from google.colab import auth\n",
        "auth.authenticate_user()"
      ],
      "metadata": {
        "id": "2oTfgcV8UfVF"
      },
      "execution_count": null,
      "outputs": []
    },
    {
      "cell_type": "markdown",
      "source": [
        "Connecting to my project's data warehouse in BigQuery."
      ],
      "metadata": {
        "id": "KF9L6ByDZJAm"
      }
    },
    {
      "cell_type": "code",
      "source": [
        "from google.cloud import bigquery\n",
        "client = bigquery.Client(project='sfda-capstone-project')"
      ],
      "metadata": {
        "id": "2-iutFNuQxjG"
      },
      "execution_count": null,
      "outputs": []
    },
    {
      "cell_type": "markdown",
      "source": [
        "Importing Audience Reporting, Device Location Creative Reporting, and Inventory Viewing Data Sets.\n"
      ],
      "metadata": {
        "id": "W5y3U53z-2yf"
      }
    },
    {
      "cell_type": "code",
      "source": [
        "QUERY = \"\"\"\n",
        "SELECT *\n",
        "FROM sfda-capstone-project.datasets.device_location_creative_reporting\n",
        "\"\"\"\n",
        "results = client.query(QUERY)\n",
        "device_location = results.to_dataframe()\n"
      ],
      "metadata": {
        "id": "3TRFZw-_6X6H"
      },
      "execution_count": null,
      "outputs": []
    },
    {
      "cell_type": "code",
      "source": [
        "QUERY = \"\"\"\n",
        "SELECT *\n",
        "FROM sfda-capstone-project.datasets.inventory_viewability_reporting\n",
        "\"\"\"\n",
        "results = client.query(QUERY)\n",
        "inventory_viewability = results.to_dataframe()"
      ],
      "metadata": {
        "id": "dbShBXXR7p9E"
      },
      "execution_count": null,
      "outputs": []
    },
    {
      "cell_type": "markdown",
      "source": [
        "## 1. Device Location Creative Reporting\n",
        "___"
      ],
      "metadata": {
        "id": "hHqXK1UgCQ9Y"
      }
    },
    {
      "cell_type": "markdown",
      "source": [
        "### Initialization"
      ],
      "metadata": {
        "id": "8eInKOBIn2v1"
      }
    },
    {
      "cell_type": "markdown",
      "source": [
        "Making copy of raw query for cleaning."
      ],
      "metadata": {
        "id": "L81Vj1aTCtnu"
      }
    },
    {
      "cell_type": "code",
      "source": [
        "device_location_clean = device_location.copy()"
      ],
      "metadata": {
        "id": "3YchknMLCya5"
      },
      "execution_count": null,
      "outputs": []
    },
    {
      "cell_type": "code",
      "source": [
        "device_location_clean.head()"
      ],
      "metadata": {
        "colab": {
          "base_uri": "https://localhost:8080/",
          "height": 348
        },
        "id": "5muoz3MXheDB",
        "outputId": "a5c24937-6619-47a5-a45c-013711fa28fb"
      },
      "execution_count": null,
      "outputs": [
        {
          "output_type": "execute_result",
          "data": {
            "text/plain": [
              "                                        Strategy  \\\n",
              "0                                           None   \n",
              "1               Mobile_2P_Custom Intent/Affinity   \n",
              "2  Mobile_2P_In Market_Business Services or ISPs   \n",
              "3                  Mobile_2P_Business Contextual   \n",
              "4               Mobile_2P_Custom Intent/Affinity   \n",
              "\n",
              "                        DMA_Name        Browser Operating_System  \\\n",
              "0                           None           None             None   \n",
              "1  Miami-Ft. Lauderdale, Florida  Google Chrome      Android 4.4   \n",
              "2  Miami-Ft. Lauderdale, Florida  Google Chrome      Android 4.4   \n",
              "3  Miami-Ft. Lauderdale, Florida         Yandex      Android 8.1   \n",
              "4              Chicago, Illinois  Google Chrome      Android 8.1   \n",
              "\n",
              "  Creative_Size  Device_Type      Device_Make Device_Model  Impressions  \\\n",
              "0          None         None             None         None         <NA>   \n",
              "1       300x250  Smart Phone  BQ (All Models)      Unknown            1   \n",
              "2       300x250  Smart Phone  BQ (All Models)      Unknown            1   \n",
              "3        320x50  Smart Phone  BQ (All Models)      Unknown            1   \n",
              "4        320x50  Smart Phone  BQ (All Models)      Unknown            1   \n",
              "\n",
              "   Clicks  Total_Conversions  Gross_Cost  Net_Cost  \n",
              "0    <NA>               <NA>         NaN       NaN  \n",
              "1       0                  0    0.000974  0.000313  \n",
              "2       0                  0    0.000583  0.000187  \n",
              "3       0                  0    0.000662  0.000213  \n",
              "4       0                  0    0.001402  0.000450  "
            ],
            "text/html": [
              "\n",
              "  <div id=\"df-bace2889-6095-4835-9f87-1b2d2c942c49\" class=\"colab-df-container\">\n",
              "    <div>\n",
              "<style scoped>\n",
              "    .dataframe tbody tr th:only-of-type {\n",
              "        vertical-align: middle;\n",
              "    }\n",
              "\n",
              "    .dataframe tbody tr th {\n",
              "        vertical-align: top;\n",
              "    }\n",
              "\n",
              "    .dataframe thead th {\n",
              "        text-align: right;\n",
              "    }\n",
              "</style>\n",
              "<table border=\"1\" class=\"dataframe\">\n",
              "  <thead>\n",
              "    <tr style=\"text-align: right;\">\n",
              "      <th></th>\n",
              "      <th>Strategy</th>\n",
              "      <th>DMA_Name</th>\n",
              "      <th>Browser</th>\n",
              "      <th>Operating_System</th>\n",
              "      <th>Creative_Size</th>\n",
              "      <th>Device_Type</th>\n",
              "      <th>Device_Make</th>\n",
              "      <th>Device_Model</th>\n",
              "      <th>Impressions</th>\n",
              "      <th>Clicks</th>\n",
              "      <th>Total_Conversions</th>\n",
              "      <th>Gross_Cost</th>\n",
              "      <th>Net_Cost</th>\n",
              "    </tr>\n",
              "  </thead>\n",
              "  <tbody>\n",
              "    <tr>\n",
              "      <th>0</th>\n",
              "      <td>None</td>\n",
              "      <td>None</td>\n",
              "      <td>None</td>\n",
              "      <td>None</td>\n",
              "      <td>None</td>\n",
              "      <td>None</td>\n",
              "      <td>None</td>\n",
              "      <td>None</td>\n",
              "      <td>&lt;NA&gt;</td>\n",
              "      <td>&lt;NA&gt;</td>\n",
              "      <td>&lt;NA&gt;</td>\n",
              "      <td>NaN</td>\n",
              "      <td>NaN</td>\n",
              "    </tr>\n",
              "    <tr>\n",
              "      <th>1</th>\n",
              "      <td>Mobile_2P_Custom Intent/Affinity</td>\n",
              "      <td>Miami-Ft. Lauderdale, Florida</td>\n",
              "      <td>Google Chrome</td>\n",
              "      <td>Android 4.4</td>\n",
              "      <td>300x250</td>\n",
              "      <td>Smart Phone</td>\n",
              "      <td>BQ (All Models)</td>\n",
              "      <td>Unknown</td>\n",
              "      <td>1</td>\n",
              "      <td>0</td>\n",
              "      <td>0</td>\n",
              "      <td>0.000974</td>\n",
              "      <td>0.000313</td>\n",
              "    </tr>\n",
              "    <tr>\n",
              "      <th>2</th>\n",
              "      <td>Mobile_2P_In Market_Business Services or ISPs</td>\n",
              "      <td>Miami-Ft. Lauderdale, Florida</td>\n",
              "      <td>Google Chrome</td>\n",
              "      <td>Android 4.4</td>\n",
              "      <td>300x250</td>\n",
              "      <td>Smart Phone</td>\n",
              "      <td>BQ (All Models)</td>\n",
              "      <td>Unknown</td>\n",
              "      <td>1</td>\n",
              "      <td>0</td>\n",
              "      <td>0</td>\n",
              "      <td>0.000583</td>\n",
              "      <td>0.000187</td>\n",
              "    </tr>\n",
              "    <tr>\n",
              "      <th>3</th>\n",
              "      <td>Mobile_2P_Business Contextual</td>\n",
              "      <td>Miami-Ft. Lauderdale, Florida</td>\n",
              "      <td>Yandex</td>\n",
              "      <td>Android 8.1</td>\n",
              "      <td>320x50</td>\n",
              "      <td>Smart Phone</td>\n",
              "      <td>BQ (All Models)</td>\n",
              "      <td>Unknown</td>\n",
              "      <td>1</td>\n",
              "      <td>0</td>\n",
              "      <td>0</td>\n",
              "      <td>0.000662</td>\n",
              "      <td>0.000213</td>\n",
              "    </tr>\n",
              "    <tr>\n",
              "      <th>4</th>\n",
              "      <td>Mobile_2P_Custom Intent/Affinity</td>\n",
              "      <td>Chicago, Illinois</td>\n",
              "      <td>Google Chrome</td>\n",
              "      <td>Android 8.1</td>\n",
              "      <td>320x50</td>\n",
              "      <td>Smart Phone</td>\n",
              "      <td>BQ (All Models)</td>\n",
              "      <td>Unknown</td>\n",
              "      <td>1</td>\n",
              "      <td>0</td>\n",
              "      <td>0</td>\n",
              "      <td>0.001402</td>\n",
              "      <td>0.000450</td>\n",
              "    </tr>\n",
              "  </tbody>\n",
              "</table>\n",
              "</div>\n",
              "    <div class=\"colab-df-buttons\">\n",
              "\n",
              "  <div class=\"colab-df-container\">\n",
              "    <button class=\"colab-df-convert\" onclick=\"convertToInteractive('df-bace2889-6095-4835-9f87-1b2d2c942c49')\"\n",
              "            title=\"Convert this dataframe to an interactive table.\"\n",
              "            style=\"display:none;\">\n",
              "\n",
              "  <svg xmlns=\"http://www.w3.org/2000/svg\" height=\"24px\" viewBox=\"0 -960 960 960\">\n",
              "    <path d=\"M120-120v-720h720v720H120Zm60-500h600v-160H180v160Zm220 220h160v-160H400v160Zm0 220h160v-160H400v160ZM180-400h160v-160H180v160Zm440 0h160v-160H620v160ZM180-180h160v-160H180v160Zm440 0h160v-160H620v160Z\"/>\n",
              "  </svg>\n",
              "    </button>\n",
              "\n",
              "  <style>\n",
              "    .colab-df-container {\n",
              "      display:flex;\n",
              "      gap: 12px;\n",
              "    }\n",
              "\n",
              "    .colab-df-convert {\n",
              "      background-color: #E8F0FE;\n",
              "      border: none;\n",
              "      border-radius: 50%;\n",
              "      cursor: pointer;\n",
              "      display: none;\n",
              "      fill: #1967D2;\n",
              "      height: 32px;\n",
              "      padding: 0 0 0 0;\n",
              "      width: 32px;\n",
              "    }\n",
              "\n",
              "    .colab-df-convert:hover {\n",
              "      background-color: #E2EBFA;\n",
              "      box-shadow: 0px 1px 2px rgba(60, 64, 67, 0.3), 0px 1px 3px 1px rgba(60, 64, 67, 0.15);\n",
              "      fill: #174EA6;\n",
              "    }\n",
              "\n",
              "    .colab-df-buttons div {\n",
              "      margin-bottom: 4px;\n",
              "    }\n",
              "\n",
              "    [theme=dark] .colab-df-convert {\n",
              "      background-color: #3B4455;\n",
              "      fill: #D2E3FC;\n",
              "    }\n",
              "\n",
              "    [theme=dark] .colab-df-convert:hover {\n",
              "      background-color: #434B5C;\n",
              "      box-shadow: 0px 1px 3px 1px rgba(0, 0, 0, 0.15);\n",
              "      filter: drop-shadow(0px 1px 2px rgba(0, 0, 0, 0.3));\n",
              "      fill: #FFFFFF;\n",
              "    }\n",
              "  </style>\n",
              "\n",
              "    <script>\n",
              "      const buttonEl =\n",
              "        document.querySelector('#df-bace2889-6095-4835-9f87-1b2d2c942c49 button.colab-df-convert');\n",
              "      buttonEl.style.display =\n",
              "        google.colab.kernel.accessAllowed ? 'block' : 'none';\n",
              "\n",
              "      async function convertToInteractive(key) {\n",
              "        const element = document.querySelector('#df-bace2889-6095-4835-9f87-1b2d2c942c49');\n",
              "        const dataTable =\n",
              "          await google.colab.kernel.invokeFunction('convertToInteractive',\n",
              "                                                    [key], {});\n",
              "        if (!dataTable) return;\n",
              "\n",
              "        const docLinkHtml = 'Like what you see? Visit the ' +\n",
              "          '<a target=\"_blank\" href=https://colab.research.google.com/notebooks/data_table.ipynb>data table notebook</a>'\n",
              "          + ' to learn more about interactive tables.';\n",
              "        element.innerHTML = '';\n",
              "        dataTable['output_type'] = 'display_data';\n",
              "        await google.colab.output.renderOutput(dataTable, element);\n",
              "        const docLink = document.createElement('div');\n",
              "        docLink.innerHTML = docLinkHtml;\n",
              "        element.appendChild(docLink);\n",
              "      }\n",
              "    </script>\n",
              "  </div>\n",
              "\n",
              "\n",
              "<div id=\"df-8ce9bb21-9776-4ddd-81c4-44a2ec9968dc\">\n",
              "  <button class=\"colab-df-quickchart\" onclick=\"quickchart('df-8ce9bb21-9776-4ddd-81c4-44a2ec9968dc')\"\n",
              "            title=\"Suggest charts\"\n",
              "            style=\"display:none;\">\n",
              "\n",
              "<svg xmlns=\"http://www.w3.org/2000/svg\" height=\"24px\"viewBox=\"0 0 24 24\"\n",
              "     width=\"24px\">\n",
              "    <g>\n",
              "        <path d=\"M19 3H5c-1.1 0-2 .9-2 2v14c0 1.1.9 2 2 2h14c1.1 0 2-.9 2-2V5c0-1.1-.9-2-2-2zM9 17H7v-7h2v7zm4 0h-2V7h2v10zm4 0h-2v-4h2v4z\"/>\n",
              "    </g>\n",
              "</svg>\n",
              "  </button>\n",
              "\n",
              "<style>\n",
              "  .colab-df-quickchart {\n",
              "      --bg-color: #E8F0FE;\n",
              "      --fill-color: #1967D2;\n",
              "      --hover-bg-color: #E2EBFA;\n",
              "      --hover-fill-color: #174EA6;\n",
              "      --disabled-fill-color: #AAA;\n",
              "      --disabled-bg-color: #DDD;\n",
              "  }\n",
              "\n",
              "  [theme=dark] .colab-df-quickchart {\n",
              "      --bg-color: #3B4455;\n",
              "      --fill-color: #D2E3FC;\n",
              "      --hover-bg-color: #434B5C;\n",
              "      --hover-fill-color: #FFFFFF;\n",
              "      --disabled-bg-color: #3B4455;\n",
              "      --disabled-fill-color: #666;\n",
              "  }\n",
              "\n",
              "  .colab-df-quickchart {\n",
              "    background-color: var(--bg-color);\n",
              "    border: none;\n",
              "    border-radius: 50%;\n",
              "    cursor: pointer;\n",
              "    display: none;\n",
              "    fill: var(--fill-color);\n",
              "    height: 32px;\n",
              "    padding: 0;\n",
              "    width: 32px;\n",
              "  }\n",
              "\n",
              "  .colab-df-quickchart:hover {\n",
              "    background-color: var(--hover-bg-color);\n",
              "    box-shadow: 0 1px 2px rgba(60, 64, 67, 0.3), 0 1px 3px 1px rgba(60, 64, 67, 0.15);\n",
              "    fill: var(--button-hover-fill-color);\n",
              "  }\n",
              "\n",
              "  .colab-df-quickchart-complete:disabled,\n",
              "  .colab-df-quickchart-complete:disabled:hover {\n",
              "    background-color: var(--disabled-bg-color);\n",
              "    fill: var(--disabled-fill-color);\n",
              "    box-shadow: none;\n",
              "  }\n",
              "\n",
              "  .colab-df-spinner {\n",
              "    border: 2px solid var(--fill-color);\n",
              "    border-color: transparent;\n",
              "    border-bottom-color: var(--fill-color);\n",
              "    animation:\n",
              "      spin 1s steps(1) infinite;\n",
              "  }\n",
              "\n",
              "  @keyframes spin {\n",
              "    0% {\n",
              "      border-color: transparent;\n",
              "      border-bottom-color: var(--fill-color);\n",
              "      border-left-color: var(--fill-color);\n",
              "    }\n",
              "    20% {\n",
              "      border-color: transparent;\n",
              "      border-left-color: var(--fill-color);\n",
              "      border-top-color: var(--fill-color);\n",
              "    }\n",
              "    30% {\n",
              "      border-color: transparent;\n",
              "      border-left-color: var(--fill-color);\n",
              "      border-top-color: var(--fill-color);\n",
              "      border-right-color: var(--fill-color);\n",
              "    }\n",
              "    40% {\n",
              "      border-color: transparent;\n",
              "      border-right-color: var(--fill-color);\n",
              "      border-top-color: var(--fill-color);\n",
              "    }\n",
              "    60% {\n",
              "      border-color: transparent;\n",
              "      border-right-color: var(--fill-color);\n",
              "    }\n",
              "    80% {\n",
              "      border-color: transparent;\n",
              "      border-right-color: var(--fill-color);\n",
              "      border-bottom-color: var(--fill-color);\n",
              "    }\n",
              "    90% {\n",
              "      border-color: transparent;\n",
              "      border-bottom-color: var(--fill-color);\n",
              "    }\n",
              "  }\n",
              "</style>\n",
              "\n",
              "  <script>\n",
              "    async function quickchart(key) {\n",
              "      const quickchartButtonEl =\n",
              "        document.querySelector('#' + key + ' button');\n",
              "      quickchartButtonEl.disabled = true;  // To prevent multiple clicks.\n",
              "      quickchartButtonEl.classList.add('colab-df-spinner');\n",
              "      try {\n",
              "        const charts = await google.colab.kernel.invokeFunction(\n",
              "            'suggestCharts', [key], {});\n",
              "      } catch (error) {\n",
              "        console.error('Error during call to suggestCharts:', error);\n",
              "      }\n",
              "      quickchartButtonEl.classList.remove('colab-df-spinner');\n",
              "      quickchartButtonEl.classList.add('colab-df-quickchart-complete');\n",
              "    }\n",
              "    (() => {\n",
              "      let quickchartButtonEl =\n",
              "        document.querySelector('#df-8ce9bb21-9776-4ddd-81c4-44a2ec9968dc button');\n",
              "      quickchartButtonEl.style.display =\n",
              "        google.colab.kernel.accessAllowed ? 'block' : 'none';\n",
              "    })();\n",
              "  </script>\n",
              "</div>\n",
              "    </div>\n",
              "  </div>\n"
            ]
          },
          "metadata": {},
          "execution_count": 8
        }
      ]
    },
    {
      "cell_type": "markdown",
      "source": [
        "Removing Nulls on 0th Row"
      ],
      "metadata": {
        "id": "_15qGJF7C2ly"
      }
    },
    {
      "cell_type": "code",
      "source": [
        "device_location_clean = device_location_clean.drop(0).reset_index(drop=True)"
      ],
      "metadata": {
        "id": "x6hbjHRwC2mD"
      },
      "execution_count": null,
      "outputs": []
    },
    {
      "cell_type": "markdown",
      "source": [
        "Checking for NULL values"
      ],
      "metadata": {
        "id": "E6UOMnwSh6GQ"
      }
    },
    {
      "cell_type": "code",
      "source": [
        "device_location_clean.isna().sum()"
      ],
      "metadata": {
        "colab": {
          "base_uri": "https://localhost:8080/"
        },
        "id": "zmulJZNW0-xO",
        "outputId": "41844b8c-7441-45da-fc6b-1a27b824c3e5"
      },
      "execution_count": null,
      "outputs": [
        {
          "output_type": "execute_result",
          "data": {
            "text/plain": [
              "Strategy             0\n",
              "DMA_Name             0\n",
              "Browser              0\n",
              "Operating_System     0\n",
              "Creative_Size        0\n",
              "Device_Type          0\n",
              "Device_Make          0\n",
              "Device_Model         0\n",
              "Impressions          0\n",
              "Clicks               0\n",
              "Total_Conversions    0\n",
              "Gross_Cost           0\n",
              "Net_Cost             0\n",
              "dtype: int64"
            ]
          },
          "metadata": {},
          "execution_count": 10
        }
      ]
    },
    {
      "cell_type": "markdown",
      "source": [
        "Dataframe Info"
      ],
      "metadata": {
        "id": "esSCFI_8n_2O"
      }
    },
    {
      "cell_type": "code",
      "source": [
        "device_location_clean.info()"
      ],
      "metadata": {
        "colab": {
          "base_uri": "https://localhost:8080/"
        },
        "id": "-upmVKFVoBnn",
        "outputId": "0802f01c-1036-458c-dcef-df52f737b67a"
      },
      "execution_count": null,
      "outputs": [
        {
          "output_type": "stream",
          "name": "stdout",
          "text": [
            "<class 'pandas.core.frame.DataFrame'>\n",
            "RangeIndex: 464433 entries, 0 to 464432\n",
            "Data columns (total 13 columns):\n",
            " #   Column             Non-Null Count   Dtype  \n",
            "---  ------             --------------   -----  \n",
            " 0   Strategy           464433 non-null  object \n",
            " 1   DMA_Name           464433 non-null  object \n",
            " 2   Browser            464433 non-null  object \n",
            " 3   Operating_System   464433 non-null  object \n",
            " 4   Creative_Size      464433 non-null  object \n",
            " 5   Device_Type        464433 non-null  object \n",
            " 6   Device_Make        464433 non-null  object \n",
            " 7   Device_Model       464433 non-null  object \n",
            " 8   Impressions        464433 non-null  Int64  \n",
            " 9   Clicks             464433 non-null  Int64  \n",
            " 10  Total_Conversions  464433 non-null  Int64  \n",
            " 11  Gross_Cost         464433 non-null  float64\n",
            " 12  Net_Cost           464433 non-null  float64\n",
            "dtypes: Int64(3), float64(2), object(8)\n",
            "memory usage: 47.4+ MB\n"
          ]
        }
      ]
    },
    {
      "cell_type": "markdown",
      "source": [
        "### Unique Values"
      ],
      "metadata": {
        "id": "CPaODPkkmvsC"
      }
    },
    {
      "cell_type": "markdown",
      "source": [
        "Looking at unique values in Strategy category. It seems every audience is a 2nd party mobile custom audience, except for RON, which means 'Run of Network', which we could categorize as a custom audience. These labels would benefit from some better formatting such as removing the 'Mobile 2P' and the underscores."
      ],
      "metadata": {
        "id": "pyC3AVZIi66y"
      }
    },
    {
      "cell_type": "code",
      "source": [
        "device_location_clean.Strategy.unique()"
      ],
      "metadata": {
        "colab": {
          "base_uri": "https://localhost:8080/"
        },
        "id": "IpOd6W7Oi48n",
        "outputId": "fe05cff1-eb18-4899-876f-1bbed0e82665"
      },
      "execution_count": null,
      "outputs": [
        {
          "output_type": "execute_result",
          "data": {
            "text/plain": [
              "array(['Mobile_2P_Custom Intent/Affinity',\n",
              "       'Mobile_2P_In Market_Business Services or ISPs',\n",
              "       'Mobile_2P_Business Contextual', 'Mobile_RON',\n",
              "       'Mobile_2P_Pixel Converters_Optimized Targeting',\n",
              "       'Mobile_2P_Affinity Categories'], dtype=object)"
            ]
          },
          "metadata": {},
          "execution_count": 12
        }
      ]
    },
    {
      "cell_type": "markdown",
      "source": [
        "Looking at unique values in Device Model. Note: One of the common values is 'Unknown' which requires some more exploration to determine what to do that data."
      ],
      "metadata": {
        "id": "L9BJSe3TjSbR"
      }
    },
    {
      "cell_type": "code",
      "source": [
        "device_location_clean.Device_Model.unique()"
      ],
      "metadata": {
        "colab": {
          "base_uri": "https://localhost:8080/"
        },
        "id": "N5iEYXQHj7xS",
        "outputId": "5fa99644-de90-4d65-ab45-9c97cd941ca5"
      },
      "execution_count": null,
      "outputs": [
        {
          "output_type": "execute_result",
          "data": {
            "text/plain": [
              "array(['Unknown', 'bq AQUARIS X', 'LG V60 ThinQ 5G (LM-V600)', ...,\n",
              "       'General Mobile GM 5 PLUS D', 'General Mobile GM8 GO',\n",
              "       'General Mobile GM 8 D'], dtype=object)"
            ]
          },
          "metadata": {},
          "execution_count": 13
        }
      ]
    },
    {
      "cell_type": "markdown",
      "source": [
        "Unique values in device type."
      ],
      "metadata": {
        "id": "7_aLmakIkazI"
      }
    },
    {
      "cell_type": "code",
      "source": [
        "device_location_clean.Device_Type.unique()"
      ],
      "metadata": {
        "colab": {
          "base_uri": "https://localhost:8080/"
        },
        "id": "42NoKT16kUcR",
        "outputId": "25433c23-a356-4a17-c685-affc3a49c635"
      },
      "execution_count": null,
      "outputs": [
        {
          "output_type": "execute_result",
          "data": {
            "text/plain": [
              "array(['Smart Phone', 'Tablet'], dtype=object)"
            ]
          },
          "metadata": {},
          "execution_count": 14
        }
      ]
    },
    {
      "cell_type": "markdown",
      "source": [
        "Unique values in Browser"
      ],
      "metadata": {
        "id": "iV8gnNW8lWHj"
      }
    },
    {
      "cell_type": "code",
      "source": [
        "device_location_clean.iloc[:, 2].unique()"
      ],
      "metadata": {
        "colab": {
          "base_uri": "https://localhost:8080/"
        },
        "id": "qK5NVKZ5knTU",
        "outputId": "65f8eabf-1284-4859-af65-6dbf7d20601b"
      },
      "execution_count": null,
      "outputs": [
        {
          "output_type": "execute_result",
          "data": {
            "text/plain": [
              "array(['Google Chrome', 'Yandex', 'Microsoft Edge', 'Android Browser'],\n",
              "      dtype=object)"
            ]
          },
          "metadata": {},
          "execution_count": 15
        }
      ]
    },
    {
      "cell_type": "markdown",
      "source": [
        "Unique values in OS"
      ],
      "metadata": {
        "id": "_z71SrcjlwsJ"
      }
    },
    {
      "cell_type": "code",
      "source": [
        "device_location_clean.iloc[:, 3].unique()"
      ],
      "metadata": {
        "colab": {
          "base_uri": "https://localhost:8080/"
        },
        "id": "clxCq3ExlrAA",
        "outputId": "e2bd5209-7845-4935-ca6e-c486fa016735"
      },
      "execution_count": null,
      "outputs": [
        {
          "output_type": "execute_result",
          "data": {
            "text/plain": [
              "array(['Android 4.4', 'Android 8.1', 'Android 10.0', 'Android 11.0',\n",
              "       'Android 4.2', 'Android 5.0', 'Android 9.0', 'WindowsPhone 10.0',\n",
              "       'Android', 'Android 5.1', 'Android 6.0', 'Android 7.0',\n",
              "       'Android 7.1', 'Android 8.0', 'Android 12.0', 'Android 13.0',\n",
              "       'Android 4.3', 'iOS', 'iOS 7.0', 'iOS 9.0', 'iOS 9.2', 'iOS 10.0',\n",
              "       'iOS 10.1', 'iOS 10.2', 'iOS 10.3', 'iOS 11.0', 'iOS 11.1',\n",
              "       'iOS 11.2', 'iOS 11.3', 'iOS 11.4', 'iOS 12.0', 'iOS 12.1',\n",
              "       'iOS 12.2', 'iOS 12.3', 'iOS 12.4', 'iOS 12.5', 'iOS 13.0',\n",
              "       'iOS 13.1', 'iOS 13.2', 'iOS 13.3', 'iOS 13.4', 'iOS 13.5',\n",
              "       'iOS 13.6', 'iOS 13.7', 'iOS 14.0', 'iOS 14.1', 'iOS 14.2',\n",
              "       'iOS 14.3', 'iOS 14.4', 'iOS 14.5', 'iOS 14.6', 'iOS 14.7',\n",
              "       'iOS 14.8', 'iOS 15.0', 'iOS 15.1', 'iOS 15.2', 'iOS 15.3',\n",
              "       'iOS 15.4', 'iOS 15.5', 'iOS 15.6', 'iOS 15.7', 'iOS 16.0',\n",
              "       'iOS 16.1', 'iOS 16.2', 'iOS 16.3', 'iOS 16.4', 'iOS 16.5',\n",
              "       'Android 4.0', 'Android 4.1', 'Android 2.3', 'Windows Other'],\n",
              "      dtype=object)"
            ]
          },
          "metadata": {},
          "execution_count": 16
        }
      ]
    },
    {
      "cell_type": "markdown",
      "source": [
        "### Exploring Unknown Values"
      ],
      "metadata": {
        "id": "8DNuscZdnPWk"
      }
    },
    {
      "cell_type": "markdown",
      "source": [
        "Filtering for unknown devices"
      ],
      "metadata": {
        "id": "hHd2REF_nu_j"
      }
    },
    {
      "cell_type": "code",
      "source": [
        "unknown_devices_filter = device_location_clean.loc[:, 'Device_Model'] == \"Unknown\""
      ],
      "metadata": {
        "id": "2JlxoPt2nXMc"
      },
      "execution_count": null,
      "outputs": []
    },
    {
      "cell_type": "code",
      "source": [
        "unknown_devices = device_location_clean.loc[unknown_devices_filter, :]"
      ],
      "metadata": {
        "id": "eQJM6mo-nuW4"
      },
      "execution_count": null,
      "outputs": []
    },
    {
      "cell_type": "markdown",
      "source": [
        "Over 67k unknown entries!"
      ],
      "metadata": {
        "id": "5X3cmTCfQv2F"
      }
    },
    {
      "cell_type": "code",
      "source": [
        "unknown_devices.shape"
      ],
      "metadata": {
        "colab": {
          "base_uri": "https://localhost:8080/"
        },
        "id": "iH2gfecAQmKC",
        "outputId": "45b96074-3248-4c50-ecb1-f39f339de192"
      },
      "execution_count": null,
      "outputs": [
        {
          "output_type": "execute_result",
          "data": {
            "text/plain": [
              "(67488, 13)"
            ]
          },
          "metadata": {},
          "execution_count": 19
        }
      ]
    },
    {
      "cell_type": "markdown",
      "source": [
        "There are certain Device Makes that do not have unknown values."
      ],
      "metadata": {
        "id": "l5Mks1HcprMm"
      }
    },
    {
      "cell_type": "code",
      "source": [
        "list(unknown_devices.Device_Make.unique()) == list(device_location_clean.Device_Make.unique())"
      ],
      "metadata": {
        "colab": {
          "base_uri": "https://localhost:8080/"
        },
        "id": "dY2-EMTaolLF",
        "outputId": "0769a4b3-d5c0-4587-92c2-7f4dbc3fc0c1"
      },
      "execution_count": null,
      "outputs": [
        {
          "output_type": "execute_result",
          "data": {
            "text/plain": [
              "False"
            ]
          },
          "metadata": {},
          "execution_count": 20
        }
      ]
    },
    {
      "cell_type": "code",
      "source": [
        "unknown_devices.Device_Make.unique()"
      ],
      "metadata": {
        "colab": {
          "base_uri": "https://localhost:8080/"
        },
        "id": "Y76S8ewVnk8u",
        "outputId": "9b1ce383-b944-49ae-c377-1e38849d5eef"
      },
      "execution_count": null,
      "outputs": [
        {
          "output_type": "execute_result",
          "data": {
            "text/plain": [
              "array(['BQ (All Models)', 'HP (All Models)', 'LG (All Models)',\n",
              "       'Blu (All Models)', 'HTC (All Models)', 'IMO (All Models)',\n",
              "       'NEC (All Models)', 'NGM (All Models)', 'RCA (All Models)',\n",
              "       'TCL (All Models)', 'THL (All Models)', 'ZTE (All Models)',\n",
              "       'Acer (All Models)', 'Asus (All Models)', 'Dell (All Models)',\n",
              "       'Eton (All Models)', 'LAVA (All Models)', 'OPPO (All Models)',\n",
              "       'Palm (All Models)', 'Sony (All Models)', 'Vivo (All Models)',\n",
              "       'Wiko (All Models)', 'Advan (All Models)', 'Azumi (All Models)',\n",
              "       'Chuwi (All Models)', 'Cubot (All Models)', 'Haier (All Models)',\n",
              "       'Intel (All Models)', 'Intex (All Models)', 'Lanix (All Models)',\n",
              "       'Meizu (All Models)', 'Nokia (All Models)', 'Sharp (All Models)',\n",
              "       'Sonim (All Models)', 'Tecno (All Models)', 'Vizio (All Models)',\n",
              "       'iBall (All Models)', 'Amazon (All Models)', 'Archos (All Models)',\n",
              "       'Doogee (All Models)', 'Explay (All Models)',\n",
              "       'Gionee (All Models)', 'Google (All Models)',\n",
              "       'HUAWEI (All Models)', 'Kalley (All Models)',\n",
              "       'Koobee (All Models)', 'LENOVO (All Models)',\n",
              "       'Le Pan (All Models)', 'Nvidia (All Models)',\n",
              "       'Sprint (All Models)', 'Unimax (All Models)',\n",
              "       'Walton (All Models)', 'Xiaomi (All Models)',\n",
              "       'ALCATEL (All Models)', 'Android (All Models)',\n",
              "       'Coolpad (All Models)', 'Cricket (All Models)',\n",
              "       'Evertek (All Models)', 'Fujitsu (All Models)',\n",
              "       'Generic (All Models)', 'Hisense (All Models)',\n",
              "       'Hyundai (All Models)', 'Karbonn (All Models)',\n",
              "       'Kyocera (All Models)', 'MyPhone (All Models)',\n",
              "       'QMobile (All Models)', 'Samsung (All Models)',\n",
              "       'T-smart (All Models)', 'Teclast (All Models)',\n",
              "       'Telstra (All Models)', 'Toshiba (All Models)',\n",
              "       'Verizon (All Models)', 'Insignia (All Models)',\n",
              "       'MediaTek (All Models)', 'Micromax (All Models)',\n",
              "       'Motorola (All Models)', 'Nextbook (All Models)',\n",
              "       'Polaroid (All Models)', 'Positivo (All Models)',\n",
              "       'Symphony (All Models)', 'T-Mobile (All Models)',\n",
              "       'i-mobile (All Models)', 'AllWinner (All Models)',\n",
              "       'Microsoft (All Models)', 'Panasonic (All Models)',\n",
              "       'BlackBerry (All Models)', 'Multilaser (All Models)',\n",
              "       'Supersonic (All Models)', 'Visual Land (All Models)',\n",
              "       'Cherry Mobile (All Models)', 'General Mobile (All Models)',\n",
              "       'Barnes and Noble (All Models)'], dtype=object)"
            ]
          },
          "metadata": {},
          "execution_count": 21
        }
      ]
    },
    {
      "cell_type": "markdown",
      "source": [
        "Only 8 makes have no unknown models in their rows."
      ],
      "metadata": {
        "id": "aJjl8wCKo5ok"
      }
    },
    {
      "cell_type": "code",
      "source": [
        "unknown_makes = list(unknown_devices.Device_Make.unique())\n",
        "all_makes = list(device_location_clean.Device_Make.unique())\n",
        "not_in_unknown = []\n",
        "\n",
        "# find the Device Makes that do not have any unknown models\n",
        "for i in range(len(all_makes)):\n",
        "    if (all_makes[i] not in unknown_makes):\n",
        "        not_in_unknown.append(all_makes[i])\n",
        "\n",
        "not_in_unknown"
      ],
      "metadata": {
        "colab": {
          "base_uri": "https://localhost:8080/"
        },
        "id": "-jM7oecoqqvH",
        "outputId": "ddefa0bf-7bdd-4ad6-ebc9-f1d4ac3d2854"
      },
      "execution_count": null,
      "outputs": [
        {
          "output_type": "execute_result",
          "data": {
            "text/plain": [
              "['HDC (All Models)',\n",
              " 'Apple (All Models)',\n",
              " 'Itoos (All Models)',\n",
              " 'DoCoMo (All Models)',\n",
              " 'Yifang (All Models)',\n",
              " 'Pioneer (All Models)',\n",
              " 'Vodafone (All Models)',\n",
              " 'SonyEricsson (All Models)']"
            ]
          },
          "metadata": {},
          "execution_count": 22
        }
      ]
    },
    {
      "cell_type": "markdown",
      "source": [
        "Since the Device Make column has a significant amount of unknown values (67,488), all of which can not be filled in with existing data, it should be dropped entirely since any analysis of the Device Makes would be skewed and not representative of the true audience."
      ],
      "metadata": {
        "id": "4UF8uL7QpKrw"
      }
    },
    {
      "cell_type": "code",
      "source": [
        "device_location_clean = device_location_clean.drop('Device_Model', axis=1)\n",
        "device_location_clean.head()"
      ],
      "metadata": {
        "colab": {
          "base_uri": "https://localhost:8080/",
          "height": 365
        },
        "id": "CMMYVlMZS5K7",
        "outputId": "7f483bd4-c9b5-4d74-d129-a7f0982d1037"
      },
      "execution_count": null,
      "outputs": [
        {
          "output_type": "execute_result",
          "data": {
            "text/plain": [
              "                                        Strategy  \\\n",
              "0               Mobile_2P_Custom Intent/Affinity   \n",
              "1  Mobile_2P_In Market_Business Services or ISPs   \n",
              "2                  Mobile_2P_Business Contextual   \n",
              "3               Mobile_2P_Custom Intent/Affinity   \n",
              "4               Mobile_2P_Custom Intent/Affinity   \n",
              "\n",
              "                        DMA_Name        Browser Operating_System  \\\n",
              "0  Miami-Ft. Lauderdale, Florida  Google Chrome      Android 4.4   \n",
              "1  Miami-Ft. Lauderdale, Florida  Google Chrome      Android 4.4   \n",
              "2  Miami-Ft. Lauderdale, Florida         Yandex      Android 8.1   \n",
              "3              Chicago, Illinois  Google Chrome      Android 8.1   \n",
              "4              Detroit, Michigan  Google Chrome      Android 8.1   \n",
              "\n",
              "  Creative_Size  Device_Type      Device_Make  Impressions  Clicks  \\\n",
              "0       300x250  Smart Phone  BQ (All Models)            1       0   \n",
              "1       300x250  Smart Phone  BQ (All Models)            1       0   \n",
              "2        320x50  Smart Phone  BQ (All Models)            1       0   \n",
              "3        320x50  Smart Phone  BQ (All Models)            1       0   \n",
              "4        300x50  Smart Phone  BQ (All Models)            1       0   \n",
              "\n",
              "   Total_Conversions  Gross_Cost  Net_Cost  \n",
              "0                  0    0.000974  0.000313  \n",
              "1                  0    0.000583  0.000187  \n",
              "2                  0    0.000662  0.000213  \n",
              "3                  0    0.001402  0.000450  \n",
              "4                  0    0.000703  0.000226  "
            ],
            "text/html": [
              "\n",
              "  <div id=\"df-7ddfdaf2-f37c-4806-bc07-56c1d86a1fc6\" class=\"colab-df-container\">\n",
              "    <div>\n",
              "<style scoped>\n",
              "    .dataframe tbody tr th:only-of-type {\n",
              "        vertical-align: middle;\n",
              "    }\n",
              "\n",
              "    .dataframe tbody tr th {\n",
              "        vertical-align: top;\n",
              "    }\n",
              "\n",
              "    .dataframe thead th {\n",
              "        text-align: right;\n",
              "    }\n",
              "</style>\n",
              "<table border=\"1\" class=\"dataframe\">\n",
              "  <thead>\n",
              "    <tr style=\"text-align: right;\">\n",
              "      <th></th>\n",
              "      <th>Strategy</th>\n",
              "      <th>DMA_Name</th>\n",
              "      <th>Browser</th>\n",
              "      <th>Operating_System</th>\n",
              "      <th>Creative_Size</th>\n",
              "      <th>Device_Type</th>\n",
              "      <th>Device_Make</th>\n",
              "      <th>Impressions</th>\n",
              "      <th>Clicks</th>\n",
              "      <th>Total_Conversions</th>\n",
              "      <th>Gross_Cost</th>\n",
              "      <th>Net_Cost</th>\n",
              "    </tr>\n",
              "  </thead>\n",
              "  <tbody>\n",
              "    <tr>\n",
              "      <th>0</th>\n",
              "      <td>Mobile_2P_Custom Intent/Affinity</td>\n",
              "      <td>Miami-Ft. Lauderdale, Florida</td>\n",
              "      <td>Google Chrome</td>\n",
              "      <td>Android 4.4</td>\n",
              "      <td>300x250</td>\n",
              "      <td>Smart Phone</td>\n",
              "      <td>BQ (All Models)</td>\n",
              "      <td>1</td>\n",
              "      <td>0</td>\n",
              "      <td>0</td>\n",
              "      <td>0.000974</td>\n",
              "      <td>0.000313</td>\n",
              "    </tr>\n",
              "    <tr>\n",
              "      <th>1</th>\n",
              "      <td>Mobile_2P_In Market_Business Services or ISPs</td>\n",
              "      <td>Miami-Ft. Lauderdale, Florida</td>\n",
              "      <td>Google Chrome</td>\n",
              "      <td>Android 4.4</td>\n",
              "      <td>300x250</td>\n",
              "      <td>Smart Phone</td>\n",
              "      <td>BQ (All Models)</td>\n",
              "      <td>1</td>\n",
              "      <td>0</td>\n",
              "      <td>0</td>\n",
              "      <td>0.000583</td>\n",
              "      <td>0.000187</td>\n",
              "    </tr>\n",
              "    <tr>\n",
              "      <th>2</th>\n",
              "      <td>Mobile_2P_Business Contextual</td>\n",
              "      <td>Miami-Ft. Lauderdale, Florida</td>\n",
              "      <td>Yandex</td>\n",
              "      <td>Android 8.1</td>\n",
              "      <td>320x50</td>\n",
              "      <td>Smart Phone</td>\n",
              "      <td>BQ (All Models)</td>\n",
              "      <td>1</td>\n",
              "      <td>0</td>\n",
              "      <td>0</td>\n",
              "      <td>0.000662</td>\n",
              "      <td>0.000213</td>\n",
              "    </tr>\n",
              "    <tr>\n",
              "      <th>3</th>\n",
              "      <td>Mobile_2P_Custom Intent/Affinity</td>\n",
              "      <td>Chicago, Illinois</td>\n",
              "      <td>Google Chrome</td>\n",
              "      <td>Android 8.1</td>\n",
              "      <td>320x50</td>\n",
              "      <td>Smart Phone</td>\n",
              "      <td>BQ (All Models)</td>\n",
              "      <td>1</td>\n",
              "      <td>0</td>\n",
              "      <td>0</td>\n",
              "      <td>0.001402</td>\n",
              "      <td>0.000450</td>\n",
              "    </tr>\n",
              "    <tr>\n",
              "      <th>4</th>\n",
              "      <td>Mobile_2P_Custom Intent/Affinity</td>\n",
              "      <td>Detroit, Michigan</td>\n",
              "      <td>Google Chrome</td>\n",
              "      <td>Android 8.1</td>\n",
              "      <td>300x50</td>\n",
              "      <td>Smart Phone</td>\n",
              "      <td>BQ (All Models)</td>\n",
              "      <td>1</td>\n",
              "      <td>0</td>\n",
              "      <td>0</td>\n",
              "      <td>0.000703</td>\n",
              "      <td>0.000226</td>\n",
              "    </tr>\n",
              "  </tbody>\n",
              "</table>\n",
              "</div>\n",
              "    <div class=\"colab-df-buttons\">\n",
              "\n",
              "  <div class=\"colab-df-container\">\n",
              "    <button class=\"colab-df-convert\" onclick=\"convertToInteractive('df-7ddfdaf2-f37c-4806-bc07-56c1d86a1fc6')\"\n",
              "            title=\"Convert this dataframe to an interactive table.\"\n",
              "            style=\"display:none;\">\n",
              "\n",
              "  <svg xmlns=\"http://www.w3.org/2000/svg\" height=\"24px\" viewBox=\"0 -960 960 960\">\n",
              "    <path d=\"M120-120v-720h720v720H120Zm60-500h600v-160H180v160Zm220 220h160v-160H400v160Zm0 220h160v-160H400v160ZM180-400h160v-160H180v160Zm440 0h160v-160H620v160ZM180-180h160v-160H180v160Zm440 0h160v-160H620v160Z\"/>\n",
              "  </svg>\n",
              "    </button>\n",
              "\n",
              "  <style>\n",
              "    .colab-df-container {\n",
              "      display:flex;\n",
              "      gap: 12px;\n",
              "    }\n",
              "\n",
              "    .colab-df-convert {\n",
              "      background-color: #E8F0FE;\n",
              "      border: none;\n",
              "      border-radius: 50%;\n",
              "      cursor: pointer;\n",
              "      display: none;\n",
              "      fill: #1967D2;\n",
              "      height: 32px;\n",
              "      padding: 0 0 0 0;\n",
              "      width: 32px;\n",
              "    }\n",
              "\n",
              "    .colab-df-convert:hover {\n",
              "      background-color: #E2EBFA;\n",
              "      box-shadow: 0px 1px 2px rgba(60, 64, 67, 0.3), 0px 1px 3px 1px rgba(60, 64, 67, 0.15);\n",
              "      fill: #174EA6;\n",
              "    }\n",
              "\n",
              "    .colab-df-buttons div {\n",
              "      margin-bottom: 4px;\n",
              "    }\n",
              "\n",
              "    [theme=dark] .colab-df-convert {\n",
              "      background-color: #3B4455;\n",
              "      fill: #D2E3FC;\n",
              "    }\n",
              "\n",
              "    [theme=dark] .colab-df-convert:hover {\n",
              "      background-color: #434B5C;\n",
              "      box-shadow: 0px 1px 3px 1px rgba(0, 0, 0, 0.15);\n",
              "      filter: drop-shadow(0px 1px 2px rgba(0, 0, 0, 0.3));\n",
              "      fill: #FFFFFF;\n",
              "    }\n",
              "  </style>\n",
              "\n",
              "    <script>\n",
              "      const buttonEl =\n",
              "        document.querySelector('#df-7ddfdaf2-f37c-4806-bc07-56c1d86a1fc6 button.colab-df-convert');\n",
              "      buttonEl.style.display =\n",
              "        google.colab.kernel.accessAllowed ? 'block' : 'none';\n",
              "\n",
              "      async function convertToInteractive(key) {\n",
              "        const element = document.querySelector('#df-7ddfdaf2-f37c-4806-bc07-56c1d86a1fc6');\n",
              "        const dataTable =\n",
              "          await google.colab.kernel.invokeFunction('convertToInteractive',\n",
              "                                                    [key], {});\n",
              "        if (!dataTable) return;\n",
              "\n",
              "        const docLinkHtml = 'Like what you see? Visit the ' +\n",
              "          '<a target=\"_blank\" href=https://colab.research.google.com/notebooks/data_table.ipynb>data table notebook</a>'\n",
              "          + ' to learn more about interactive tables.';\n",
              "        element.innerHTML = '';\n",
              "        dataTable['output_type'] = 'display_data';\n",
              "        await google.colab.output.renderOutput(dataTable, element);\n",
              "        const docLink = document.createElement('div');\n",
              "        docLink.innerHTML = docLinkHtml;\n",
              "        element.appendChild(docLink);\n",
              "      }\n",
              "    </script>\n",
              "  </div>\n",
              "\n",
              "\n",
              "<div id=\"df-a2bf82c8-7b3c-4845-8c1c-250cc146b589\">\n",
              "  <button class=\"colab-df-quickchart\" onclick=\"quickchart('df-a2bf82c8-7b3c-4845-8c1c-250cc146b589')\"\n",
              "            title=\"Suggest charts\"\n",
              "            style=\"display:none;\">\n",
              "\n",
              "<svg xmlns=\"http://www.w3.org/2000/svg\" height=\"24px\"viewBox=\"0 0 24 24\"\n",
              "     width=\"24px\">\n",
              "    <g>\n",
              "        <path d=\"M19 3H5c-1.1 0-2 .9-2 2v14c0 1.1.9 2 2 2h14c1.1 0 2-.9 2-2V5c0-1.1-.9-2-2-2zM9 17H7v-7h2v7zm4 0h-2V7h2v10zm4 0h-2v-4h2v4z\"/>\n",
              "    </g>\n",
              "</svg>\n",
              "  </button>\n",
              "\n",
              "<style>\n",
              "  .colab-df-quickchart {\n",
              "      --bg-color: #E8F0FE;\n",
              "      --fill-color: #1967D2;\n",
              "      --hover-bg-color: #E2EBFA;\n",
              "      --hover-fill-color: #174EA6;\n",
              "      --disabled-fill-color: #AAA;\n",
              "      --disabled-bg-color: #DDD;\n",
              "  }\n",
              "\n",
              "  [theme=dark] .colab-df-quickchart {\n",
              "      --bg-color: #3B4455;\n",
              "      --fill-color: #D2E3FC;\n",
              "      --hover-bg-color: #434B5C;\n",
              "      --hover-fill-color: #FFFFFF;\n",
              "      --disabled-bg-color: #3B4455;\n",
              "      --disabled-fill-color: #666;\n",
              "  }\n",
              "\n",
              "  .colab-df-quickchart {\n",
              "    background-color: var(--bg-color);\n",
              "    border: none;\n",
              "    border-radius: 50%;\n",
              "    cursor: pointer;\n",
              "    display: none;\n",
              "    fill: var(--fill-color);\n",
              "    height: 32px;\n",
              "    padding: 0;\n",
              "    width: 32px;\n",
              "  }\n",
              "\n",
              "  .colab-df-quickchart:hover {\n",
              "    background-color: var(--hover-bg-color);\n",
              "    box-shadow: 0 1px 2px rgba(60, 64, 67, 0.3), 0 1px 3px 1px rgba(60, 64, 67, 0.15);\n",
              "    fill: var(--button-hover-fill-color);\n",
              "  }\n",
              "\n",
              "  .colab-df-quickchart-complete:disabled,\n",
              "  .colab-df-quickchart-complete:disabled:hover {\n",
              "    background-color: var(--disabled-bg-color);\n",
              "    fill: var(--disabled-fill-color);\n",
              "    box-shadow: none;\n",
              "  }\n",
              "\n",
              "  .colab-df-spinner {\n",
              "    border: 2px solid var(--fill-color);\n",
              "    border-color: transparent;\n",
              "    border-bottom-color: var(--fill-color);\n",
              "    animation:\n",
              "      spin 1s steps(1) infinite;\n",
              "  }\n",
              "\n",
              "  @keyframes spin {\n",
              "    0% {\n",
              "      border-color: transparent;\n",
              "      border-bottom-color: var(--fill-color);\n",
              "      border-left-color: var(--fill-color);\n",
              "    }\n",
              "    20% {\n",
              "      border-color: transparent;\n",
              "      border-left-color: var(--fill-color);\n",
              "      border-top-color: var(--fill-color);\n",
              "    }\n",
              "    30% {\n",
              "      border-color: transparent;\n",
              "      border-left-color: var(--fill-color);\n",
              "      border-top-color: var(--fill-color);\n",
              "      border-right-color: var(--fill-color);\n",
              "    }\n",
              "    40% {\n",
              "      border-color: transparent;\n",
              "      border-right-color: var(--fill-color);\n",
              "      border-top-color: var(--fill-color);\n",
              "    }\n",
              "    60% {\n",
              "      border-color: transparent;\n",
              "      border-right-color: var(--fill-color);\n",
              "    }\n",
              "    80% {\n",
              "      border-color: transparent;\n",
              "      border-right-color: var(--fill-color);\n",
              "      border-bottom-color: var(--fill-color);\n",
              "    }\n",
              "    90% {\n",
              "      border-color: transparent;\n",
              "      border-bottom-color: var(--fill-color);\n",
              "    }\n",
              "  }\n",
              "</style>\n",
              "\n",
              "  <script>\n",
              "    async function quickchart(key) {\n",
              "      const quickchartButtonEl =\n",
              "        document.querySelector('#' + key + ' button');\n",
              "      quickchartButtonEl.disabled = true;  // To prevent multiple clicks.\n",
              "      quickchartButtonEl.classList.add('colab-df-spinner');\n",
              "      try {\n",
              "        const charts = await google.colab.kernel.invokeFunction(\n",
              "            'suggestCharts', [key], {});\n",
              "      } catch (error) {\n",
              "        console.error('Error during call to suggestCharts:', error);\n",
              "      }\n",
              "      quickchartButtonEl.classList.remove('colab-df-spinner');\n",
              "      quickchartButtonEl.classList.add('colab-df-quickchart-complete');\n",
              "    }\n",
              "    (() => {\n",
              "      let quickchartButtonEl =\n",
              "        document.querySelector('#df-a2bf82c8-7b3c-4845-8c1c-250cc146b589 button');\n",
              "      quickchartButtonEl.style.display =\n",
              "        google.colab.kernel.accessAllowed ? 'block' : 'none';\n",
              "    })();\n",
              "  </script>\n",
              "</div>\n",
              "    </div>\n",
              "  </div>\n"
            ]
          },
          "metadata": {},
          "execution_count": 23
        }
      ]
    },
    {
      "cell_type": "markdown",
      "source": [
        "### Reformatting Strategy Column"
      ],
      "metadata": {
        "id": "JXOZSjGXbDWG"
      }
    },
    {
      "cell_type": "markdown",
      "source": [
        "The \"Mobile\" and \"2P\" labels in the Strategy are redundant since it applies to every entry. Therefore we will update every value under this category with only their specific strategy."
      ],
      "metadata": {
        "id": "8-suA3DbbMGh"
      }
    },
    {
      "cell_type": "code",
      "source": [
        "device_location_clean = device_location_clean.replace(to_replace='Mobile_2P_Custom Intent/Affinity', value='Custom Intent/Affinity')\n",
        "device_location_clean = device_location_clean.replace(to_replace='Mobile_2P_In Market_Business Services or ISPs', value='In Market, Business Services or ISPs')\n",
        "device_location_clean = device_location_clean.replace(to_replace='Mobile_2P_Business Contextual', value='Business Contextual')\n",
        "device_location_clean = device_location_clean.replace(to_replace='Mobile_RON', value='Run of Network')\n",
        "device_location_clean = device_location_clean.replace(to_replace='Mobile_2P_Pixel Converters_Optimized Targeting', value='Pixel Converters, Optimized Targeting')\n",
        "device_location_clean = device_location_clean.replace(to_replace='Mobile_2P_Affinity Categories', value='Affinity Categories')"
      ],
      "metadata": {
        "id": "4DDYDlEWZRcJ"
      },
      "execution_count": null,
      "outputs": []
    },
    {
      "cell_type": "markdown",
      "source": [
        "If there were more than 6 distinct values, I would have considered a creating a more sophisticated method of updating these values. This is fine for now."
      ],
      "metadata": {
        "id": "YHvcSyAAd9K8"
      }
    },
    {
      "cell_type": "code",
      "source": [
        "device_location_clean.head(3)"
      ],
      "metadata": {
        "colab": {
          "base_uri": "https://localhost:8080/",
          "height": 285
        },
        "id": "GNojFp5edylc",
        "outputId": "d3b506ca-5418-4c18-899e-3a1c13673b76"
      },
      "execution_count": null,
      "outputs": [
        {
          "output_type": "execute_result",
          "data": {
            "text/plain": [
              "                               Strategy                       DMA_Name  \\\n",
              "0                Custom Intent/Affinity  Miami-Ft. Lauderdale, Florida   \n",
              "1  In Market, Business Services or ISPs  Miami-Ft. Lauderdale, Florida   \n",
              "2                   Business Contextual  Miami-Ft. Lauderdale, Florida   \n",
              "\n",
              "         Browser Operating_System Creative_Size  Device_Type      Device_Make  \\\n",
              "0  Google Chrome      Android 4.4       300x250  Smart Phone  BQ (All Models)   \n",
              "1  Google Chrome      Android 4.4       300x250  Smart Phone  BQ (All Models)   \n",
              "2         Yandex      Android 8.1        320x50  Smart Phone  BQ (All Models)   \n",
              "\n",
              "   Impressions  Clicks  Total_Conversions  Gross_Cost  Net_Cost  \n",
              "0            1       0                  0    0.000974  0.000313  \n",
              "1            1       0                  0    0.000583  0.000187  \n",
              "2            1       0                  0    0.000662  0.000213  "
            ],
            "text/html": [
              "\n",
              "  <div id=\"df-4b80ed8f-1d7a-4811-afa4-b88615e40a44\" class=\"colab-df-container\">\n",
              "    <div>\n",
              "<style scoped>\n",
              "    .dataframe tbody tr th:only-of-type {\n",
              "        vertical-align: middle;\n",
              "    }\n",
              "\n",
              "    .dataframe tbody tr th {\n",
              "        vertical-align: top;\n",
              "    }\n",
              "\n",
              "    .dataframe thead th {\n",
              "        text-align: right;\n",
              "    }\n",
              "</style>\n",
              "<table border=\"1\" class=\"dataframe\">\n",
              "  <thead>\n",
              "    <tr style=\"text-align: right;\">\n",
              "      <th></th>\n",
              "      <th>Strategy</th>\n",
              "      <th>DMA_Name</th>\n",
              "      <th>Browser</th>\n",
              "      <th>Operating_System</th>\n",
              "      <th>Creative_Size</th>\n",
              "      <th>Device_Type</th>\n",
              "      <th>Device_Make</th>\n",
              "      <th>Impressions</th>\n",
              "      <th>Clicks</th>\n",
              "      <th>Total_Conversions</th>\n",
              "      <th>Gross_Cost</th>\n",
              "      <th>Net_Cost</th>\n",
              "    </tr>\n",
              "  </thead>\n",
              "  <tbody>\n",
              "    <tr>\n",
              "      <th>0</th>\n",
              "      <td>Custom Intent/Affinity</td>\n",
              "      <td>Miami-Ft. Lauderdale, Florida</td>\n",
              "      <td>Google Chrome</td>\n",
              "      <td>Android 4.4</td>\n",
              "      <td>300x250</td>\n",
              "      <td>Smart Phone</td>\n",
              "      <td>BQ (All Models)</td>\n",
              "      <td>1</td>\n",
              "      <td>0</td>\n",
              "      <td>0</td>\n",
              "      <td>0.000974</td>\n",
              "      <td>0.000313</td>\n",
              "    </tr>\n",
              "    <tr>\n",
              "      <th>1</th>\n",
              "      <td>In Market, Business Services or ISPs</td>\n",
              "      <td>Miami-Ft. Lauderdale, Florida</td>\n",
              "      <td>Google Chrome</td>\n",
              "      <td>Android 4.4</td>\n",
              "      <td>300x250</td>\n",
              "      <td>Smart Phone</td>\n",
              "      <td>BQ (All Models)</td>\n",
              "      <td>1</td>\n",
              "      <td>0</td>\n",
              "      <td>0</td>\n",
              "      <td>0.000583</td>\n",
              "      <td>0.000187</td>\n",
              "    </tr>\n",
              "    <tr>\n",
              "      <th>2</th>\n",
              "      <td>Business Contextual</td>\n",
              "      <td>Miami-Ft. Lauderdale, Florida</td>\n",
              "      <td>Yandex</td>\n",
              "      <td>Android 8.1</td>\n",
              "      <td>320x50</td>\n",
              "      <td>Smart Phone</td>\n",
              "      <td>BQ (All Models)</td>\n",
              "      <td>1</td>\n",
              "      <td>0</td>\n",
              "      <td>0</td>\n",
              "      <td>0.000662</td>\n",
              "      <td>0.000213</td>\n",
              "    </tr>\n",
              "  </tbody>\n",
              "</table>\n",
              "</div>\n",
              "    <div class=\"colab-df-buttons\">\n",
              "\n",
              "  <div class=\"colab-df-container\">\n",
              "    <button class=\"colab-df-convert\" onclick=\"convertToInteractive('df-4b80ed8f-1d7a-4811-afa4-b88615e40a44')\"\n",
              "            title=\"Convert this dataframe to an interactive table.\"\n",
              "            style=\"display:none;\">\n",
              "\n",
              "  <svg xmlns=\"http://www.w3.org/2000/svg\" height=\"24px\" viewBox=\"0 -960 960 960\">\n",
              "    <path d=\"M120-120v-720h720v720H120Zm60-500h600v-160H180v160Zm220 220h160v-160H400v160Zm0 220h160v-160H400v160ZM180-400h160v-160H180v160Zm440 0h160v-160H620v160ZM180-180h160v-160H180v160Zm440 0h160v-160H620v160Z\"/>\n",
              "  </svg>\n",
              "    </button>\n",
              "\n",
              "  <style>\n",
              "    .colab-df-container {\n",
              "      display:flex;\n",
              "      gap: 12px;\n",
              "    }\n",
              "\n",
              "    .colab-df-convert {\n",
              "      background-color: #E8F0FE;\n",
              "      border: none;\n",
              "      border-radius: 50%;\n",
              "      cursor: pointer;\n",
              "      display: none;\n",
              "      fill: #1967D2;\n",
              "      height: 32px;\n",
              "      padding: 0 0 0 0;\n",
              "      width: 32px;\n",
              "    }\n",
              "\n",
              "    .colab-df-convert:hover {\n",
              "      background-color: #E2EBFA;\n",
              "      box-shadow: 0px 1px 2px rgba(60, 64, 67, 0.3), 0px 1px 3px 1px rgba(60, 64, 67, 0.15);\n",
              "      fill: #174EA6;\n",
              "    }\n",
              "\n",
              "    .colab-df-buttons div {\n",
              "      margin-bottom: 4px;\n",
              "    }\n",
              "\n",
              "    [theme=dark] .colab-df-convert {\n",
              "      background-color: #3B4455;\n",
              "      fill: #D2E3FC;\n",
              "    }\n",
              "\n",
              "    [theme=dark] .colab-df-convert:hover {\n",
              "      background-color: #434B5C;\n",
              "      box-shadow: 0px 1px 3px 1px rgba(0, 0, 0, 0.15);\n",
              "      filter: drop-shadow(0px 1px 2px rgba(0, 0, 0, 0.3));\n",
              "      fill: #FFFFFF;\n",
              "    }\n",
              "  </style>\n",
              "\n",
              "    <script>\n",
              "      const buttonEl =\n",
              "        document.querySelector('#df-4b80ed8f-1d7a-4811-afa4-b88615e40a44 button.colab-df-convert');\n",
              "      buttonEl.style.display =\n",
              "        google.colab.kernel.accessAllowed ? 'block' : 'none';\n",
              "\n",
              "      async function convertToInteractive(key) {\n",
              "        const element = document.querySelector('#df-4b80ed8f-1d7a-4811-afa4-b88615e40a44');\n",
              "        const dataTable =\n",
              "          await google.colab.kernel.invokeFunction('convertToInteractive',\n",
              "                                                    [key], {});\n",
              "        if (!dataTable) return;\n",
              "\n",
              "        const docLinkHtml = 'Like what you see? Visit the ' +\n",
              "          '<a target=\"_blank\" href=https://colab.research.google.com/notebooks/data_table.ipynb>data table notebook</a>'\n",
              "          + ' to learn more about interactive tables.';\n",
              "        element.innerHTML = '';\n",
              "        dataTable['output_type'] = 'display_data';\n",
              "        await google.colab.output.renderOutput(dataTable, element);\n",
              "        const docLink = document.createElement('div');\n",
              "        docLink.innerHTML = docLinkHtml;\n",
              "        element.appendChild(docLink);\n",
              "      }\n",
              "    </script>\n",
              "  </div>\n",
              "\n",
              "\n",
              "<div id=\"df-ca40128b-24a9-4cf7-b056-83b967cc4e68\">\n",
              "  <button class=\"colab-df-quickchart\" onclick=\"quickchart('df-ca40128b-24a9-4cf7-b056-83b967cc4e68')\"\n",
              "            title=\"Suggest charts\"\n",
              "            style=\"display:none;\">\n",
              "\n",
              "<svg xmlns=\"http://www.w3.org/2000/svg\" height=\"24px\"viewBox=\"0 0 24 24\"\n",
              "     width=\"24px\">\n",
              "    <g>\n",
              "        <path d=\"M19 3H5c-1.1 0-2 .9-2 2v14c0 1.1.9 2 2 2h14c1.1 0 2-.9 2-2V5c0-1.1-.9-2-2-2zM9 17H7v-7h2v7zm4 0h-2V7h2v10zm4 0h-2v-4h2v4z\"/>\n",
              "    </g>\n",
              "</svg>\n",
              "  </button>\n",
              "\n",
              "<style>\n",
              "  .colab-df-quickchart {\n",
              "      --bg-color: #E8F0FE;\n",
              "      --fill-color: #1967D2;\n",
              "      --hover-bg-color: #E2EBFA;\n",
              "      --hover-fill-color: #174EA6;\n",
              "      --disabled-fill-color: #AAA;\n",
              "      --disabled-bg-color: #DDD;\n",
              "  }\n",
              "\n",
              "  [theme=dark] .colab-df-quickchart {\n",
              "      --bg-color: #3B4455;\n",
              "      --fill-color: #D2E3FC;\n",
              "      --hover-bg-color: #434B5C;\n",
              "      --hover-fill-color: #FFFFFF;\n",
              "      --disabled-bg-color: #3B4455;\n",
              "      --disabled-fill-color: #666;\n",
              "  }\n",
              "\n",
              "  .colab-df-quickchart {\n",
              "    background-color: var(--bg-color);\n",
              "    border: none;\n",
              "    border-radius: 50%;\n",
              "    cursor: pointer;\n",
              "    display: none;\n",
              "    fill: var(--fill-color);\n",
              "    height: 32px;\n",
              "    padding: 0;\n",
              "    width: 32px;\n",
              "  }\n",
              "\n",
              "  .colab-df-quickchart:hover {\n",
              "    background-color: var(--hover-bg-color);\n",
              "    box-shadow: 0 1px 2px rgba(60, 64, 67, 0.3), 0 1px 3px 1px rgba(60, 64, 67, 0.15);\n",
              "    fill: var(--button-hover-fill-color);\n",
              "  }\n",
              "\n",
              "  .colab-df-quickchart-complete:disabled,\n",
              "  .colab-df-quickchart-complete:disabled:hover {\n",
              "    background-color: var(--disabled-bg-color);\n",
              "    fill: var(--disabled-fill-color);\n",
              "    box-shadow: none;\n",
              "  }\n",
              "\n",
              "  .colab-df-spinner {\n",
              "    border: 2px solid var(--fill-color);\n",
              "    border-color: transparent;\n",
              "    border-bottom-color: var(--fill-color);\n",
              "    animation:\n",
              "      spin 1s steps(1) infinite;\n",
              "  }\n",
              "\n",
              "  @keyframes spin {\n",
              "    0% {\n",
              "      border-color: transparent;\n",
              "      border-bottom-color: var(--fill-color);\n",
              "      border-left-color: var(--fill-color);\n",
              "    }\n",
              "    20% {\n",
              "      border-color: transparent;\n",
              "      border-left-color: var(--fill-color);\n",
              "      border-top-color: var(--fill-color);\n",
              "    }\n",
              "    30% {\n",
              "      border-color: transparent;\n",
              "      border-left-color: var(--fill-color);\n",
              "      border-top-color: var(--fill-color);\n",
              "      border-right-color: var(--fill-color);\n",
              "    }\n",
              "    40% {\n",
              "      border-color: transparent;\n",
              "      border-right-color: var(--fill-color);\n",
              "      border-top-color: var(--fill-color);\n",
              "    }\n",
              "    60% {\n",
              "      border-color: transparent;\n",
              "      border-right-color: var(--fill-color);\n",
              "    }\n",
              "    80% {\n",
              "      border-color: transparent;\n",
              "      border-right-color: var(--fill-color);\n",
              "      border-bottom-color: var(--fill-color);\n",
              "    }\n",
              "    90% {\n",
              "      border-color: transparent;\n",
              "      border-bottom-color: var(--fill-color);\n",
              "    }\n",
              "  }\n",
              "</style>\n",
              "\n",
              "  <script>\n",
              "    async function quickchart(key) {\n",
              "      const quickchartButtonEl =\n",
              "        document.querySelector('#' + key + ' button');\n",
              "      quickchartButtonEl.disabled = true;  // To prevent multiple clicks.\n",
              "      quickchartButtonEl.classList.add('colab-df-spinner');\n",
              "      try {\n",
              "        const charts = await google.colab.kernel.invokeFunction(\n",
              "            'suggestCharts', [key], {});\n",
              "      } catch (error) {\n",
              "        console.error('Error during call to suggestCharts:', error);\n",
              "      }\n",
              "      quickchartButtonEl.classList.remove('colab-df-spinner');\n",
              "      quickchartButtonEl.classList.add('colab-df-quickchart-complete');\n",
              "    }\n",
              "    (() => {\n",
              "      let quickchartButtonEl =\n",
              "        document.querySelector('#df-ca40128b-24a9-4cf7-b056-83b967cc4e68 button');\n",
              "      quickchartButtonEl.style.display =\n",
              "        google.colab.kernel.accessAllowed ? 'block' : 'none';\n",
              "    })();\n",
              "  </script>\n",
              "</div>\n",
              "    </div>\n",
              "  </div>\n"
            ]
          },
          "metadata": {},
          "execution_count": 34
        }
      ]
    },
    {
      "cell_type": "markdown",
      "source": [
        "### Adding Conversion Value"
      ],
      "metadata": {
        "id": "OqO1frdqejqP"
      }
    },
    {
      "cell_type": "markdown",
      "source": [
        "I can create a new column, \"Conversions_Revenue\" by multiplying each row's total conversions by the conversion value. From our [guidelines](https://docs.google.com/presentation/d/1zieAer3-1WF3rS6wtzrh0eO-KtSYHl0JVq19Q-iwp-Y/edit#slide=id.g24db77693a5_0_457), the conversion value for a custom audience is $69.45."
      ],
      "metadata": {
        "id": "Unh5G-C1eq16"
      }
    },
    {
      "cell_type": "code",
      "source": [
        "# df.loc[:, 'new_column'] = round(df['col1'] / df['col2'])\n",
        "device_location_clean.loc[:, 'Conversions_Revenue'] = device_location_clean.Total_Conversions * 69.45"
      ],
      "metadata": {
        "id": "vKw-U1fFeqZB"
      },
      "execution_count": null,
      "outputs": []
    },
    {
      "cell_type": "markdown",
      "source": [
        "Double-checking to see if it worked shows our top Conversion revenue as $2,222.40 from 32 total conversions."
      ],
      "metadata": {
        "id": "dOFw3A-bkWGg"
      }
    },
    {
      "cell_type": "code",
      "source": [
        "device_location_clean.sort_values('Conversions_Revenue', ascending=False).head(3)"
      ],
      "metadata": {
        "colab": {
          "base_uri": "https://localhost:8080/",
          "height": 320
        },
        "id": "AVbVW14-iy2F",
        "outputId": "1c5bc9cb-1c43-4feb-d731-e49aa5b42cb3"
      },
      "execution_count": null,
      "outputs": [
        {
          "output_type": "execute_result",
          "data": {
            "text/plain": [
              "                                    Strategy  \\\n",
              "57455  Pixel Converters, Optimized Targeting   \n",
              "57434  Pixel Converters, Optimized Targeting   \n",
              "83888  Pixel Converters, Optimized Targeting   \n",
              "\n",
              "                               DMA_Name        Browser Operating_System  \\\n",
              "57455  Grand Rapids-Kalamazoo, Michigan  Google Chrome     Android 10.0   \n",
              "57434                 Chicago, Illinois  Google Chrome     Android 10.0   \n",
              "83888                  Atlanta, Georgia  Google Chrome         iOS 16.5   \n",
              "\n",
              "      Creative_Size  Device_Type         Device_Make  Impressions  Clicks  \\\n",
              "57455        320x50  Smart Phone   Wiko (All Models)        89539      24   \n",
              "57434        320x50  Smart Phone   Wiko (All Models)       558213     246   \n",
              "83888       300x250  Smart Phone  Apple (All Models)       168619      47   \n",
              "\n",
              "       Total_Conversions   Gross_Cost    Net_Cost  Conversions_Revenue  \n",
              "57455                 32   149.118518   47.867044               2222.4  \n",
              "57434                 28  1065.355671  341.979170               1944.6  \n",
              "83888                 25   270.247682   86.749506              1736.25  "
            ],
            "text/html": [
              "\n",
              "  <div id=\"df-fa2df20e-dbc1-4d4e-bb02-7e378e7a4738\" class=\"colab-df-container\">\n",
              "    <div>\n",
              "<style scoped>\n",
              "    .dataframe tbody tr th:only-of-type {\n",
              "        vertical-align: middle;\n",
              "    }\n",
              "\n",
              "    .dataframe tbody tr th {\n",
              "        vertical-align: top;\n",
              "    }\n",
              "\n",
              "    .dataframe thead th {\n",
              "        text-align: right;\n",
              "    }\n",
              "</style>\n",
              "<table border=\"1\" class=\"dataframe\">\n",
              "  <thead>\n",
              "    <tr style=\"text-align: right;\">\n",
              "      <th></th>\n",
              "      <th>Strategy</th>\n",
              "      <th>DMA_Name</th>\n",
              "      <th>Browser</th>\n",
              "      <th>Operating_System</th>\n",
              "      <th>Creative_Size</th>\n",
              "      <th>Device_Type</th>\n",
              "      <th>Device_Make</th>\n",
              "      <th>Impressions</th>\n",
              "      <th>Clicks</th>\n",
              "      <th>Total_Conversions</th>\n",
              "      <th>Gross_Cost</th>\n",
              "      <th>Net_Cost</th>\n",
              "      <th>Conversions_Revenue</th>\n",
              "    </tr>\n",
              "  </thead>\n",
              "  <tbody>\n",
              "    <tr>\n",
              "      <th>57455</th>\n",
              "      <td>Pixel Converters, Optimized Targeting</td>\n",
              "      <td>Grand Rapids-Kalamazoo, Michigan</td>\n",
              "      <td>Google Chrome</td>\n",
              "      <td>Android 10.0</td>\n",
              "      <td>320x50</td>\n",
              "      <td>Smart Phone</td>\n",
              "      <td>Wiko (All Models)</td>\n",
              "      <td>89539</td>\n",
              "      <td>24</td>\n",
              "      <td>32</td>\n",
              "      <td>149.118518</td>\n",
              "      <td>47.867044</td>\n",
              "      <td>2222.4</td>\n",
              "    </tr>\n",
              "    <tr>\n",
              "      <th>57434</th>\n",
              "      <td>Pixel Converters, Optimized Targeting</td>\n",
              "      <td>Chicago, Illinois</td>\n",
              "      <td>Google Chrome</td>\n",
              "      <td>Android 10.0</td>\n",
              "      <td>320x50</td>\n",
              "      <td>Smart Phone</td>\n",
              "      <td>Wiko (All Models)</td>\n",
              "      <td>558213</td>\n",
              "      <td>246</td>\n",
              "      <td>28</td>\n",
              "      <td>1065.355671</td>\n",
              "      <td>341.979170</td>\n",
              "      <td>1944.6</td>\n",
              "    </tr>\n",
              "    <tr>\n",
              "      <th>83888</th>\n",
              "      <td>Pixel Converters, Optimized Targeting</td>\n",
              "      <td>Atlanta, Georgia</td>\n",
              "      <td>Google Chrome</td>\n",
              "      <td>iOS 16.5</td>\n",
              "      <td>300x250</td>\n",
              "      <td>Smart Phone</td>\n",
              "      <td>Apple (All Models)</td>\n",
              "      <td>168619</td>\n",
              "      <td>47</td>\n",
              "      <td>25</td>\n",
              "      <td>270.247682</td>\n",
              "      <td>86.749506</td>\n",
              "      <td>1736.25</td>\n",
              "    </tr>\n",
              "  </tbody>\n",
              "</table>\n",
              "</div>\n",
              "    <div class=\"colab-df-buttons\">\n",
              "\n",
              "  <div class=\"colab-df-container\">\n",
              "    <button class=\"colab-df-convert\" onclick=\"convertToInteractive('df-fa2df20e-dbc1-4d4e-bb02-7e378e7a4738')\"\n",
              "            title=\"Convert this dataframe to an interactive table.\"\n",
              "            style=\"display:none;\">\n",
              "\n",
              "  <svg xmlns=\"http://www.w3.org/2000/svg\" height=\"24px\" viewBox=\"0 -960 960 960\">\n",
              "    <path d=\"M120-120v-720h720v720H120Zm60-500h600v-160H180v160Zm220 220h160v-160H400v160Zm0 220h160v-160H400v160ZM180-400h160v-160H180v160Zm440 0h160v-160H620v160ZM180-180h160v-160H180v160Zm440 0h160v-160H620v160Z\"/>\n",
              "  </svg>\n",
              "    </button>\n",
              "\n",
              "  <style>\n",
              "    .colab-df-container {\n",
              "      display:flex;\n",
              "      gap: 12px;\n",
              "    }\n",
              "\n",
              "    .colab-df-convert {\n",
              "      background-color: #E8F0FE;\n",
              "      border: none;\n",
              "      border-radius: 50%;\n",
              "      cursor: pointer;\n",
              "      display: none;\n",
              "      fill: #1967D2;\n",
              "      height: 32px;\n",
              "      padding: 0 0 0 0;\n",
              "      width: 32px;\n",
              "    }\n",
              "\n",
              "    .colab-df-convert:hover {\n",
              "      background-color: #E2EBFA;\n",
              "      box-shadow: 0px 1px 2px rgba(60, 64, 67, 0.3), 0px 1px 3px 1px rgba(60, 64, 67, 0.15);\n",
              "      fill: #174EA6;\n",
              "    }\n",
              "\n",
              "    .colab-df-buttons div {\n",
              "      margin-bottom: 4px;\n",
              "    }\n",
              "\n",
              "    [theme=dark] .colab-df-convert {\n",
              "      background-color: #3B4455;\n",
              "      fill: #D2E3FC;\n",
              "    }\n",
              "\n",
              "    [theme=dark] .colab-df-convert:hover {\n",
              "      background-color: #434B5C;\n",
              "      box-shadow: 0px 1px 3px 1px rgba(0, 0, 0, 0.15);\n",
              "      filter: drop-shadow(0px 1px 2px rgba(0, 0, 0, 0.3));\n",
              "      fill: #FFFFFF;\n",
              "    }\n",
              "  </style>\n",
              "\n",
              "    <script>\n",
              "      const buttonEl =\n",
              "        document.querySelector('#df-fa2df20e-dbc1-4d4e-bb02-7e378e7a4738 button.colab-df-convert');\n",
              "      buttonEl.style.display =\n",
              "        google.colab.kernel.accessAllowed ? 'block' : 'none';\n",
              "\n",
              "      async function convertToInteractive(key) {\n",
              "        const element = document.querySelector('#df-fa2df20e-dbc1-4d4e-bb02-7e378e7a4738');\n",
              "        const dataTable =\n",
              "          await google.colab.kernel.invokeFunction('convertToInteractive',\n",
              "                                                    [key], {});\n",
              "        if (!dataTable) return;\n",
              "\n",
              "        const docLinkHtml = 'Like what you see? Visit the ' +\n",
              "          '<a target=\"_blank\" href=https://colab.research.google.com/notebooks/data_table.ipynb>data table notebook</a>'\n",
              "          + ' to learn more about interactive tables.';\n",
              "        element.innerHTML = '';\n",
              "        dataTable['output_type'] = 'display_data';\n",
              "        await google.colab.output.renderOutput(dataTable, element);\n",
              "        const docLink = document.createElement('div');\n",
              "        docLink.innerHTML = docLinkHtml;\n",
              "        element.appendChild(docLink);\n",
              "      }\n",
              "    </script>\n",
              "  </div>\n",
              "\n",
              "\n",
              "<div id=\"df-2bca0648-cb92-4d9c-aed5-7838925b44ad\">\n",
              "  <button class=\"colab-df-quickchart\" onclick=\"quickchart('df-2bca0648-cb92-4d9c-aed5-7838925b44ad')\"\n",
              "            title=\"Suggest charts\"\n",
              "            style=\"display:none;\">\n",
              "\n",
              "<svg xmlns=\"http://www.w3.org/2000/svg\" height=\"24px\"viewBox=\"0 0 24 24\"\n",
              "     width=\"24px\">\n",
              "    <g>\n",
              "        <path d=\"M19 3H5c-1.1 0-2 .9-2 2v14c0 1.1.9 2 2 2h14c1.1 0 2-.9 2-2V5c0-1.1-.9-2-2-2zM9 17H7v-7h2v7zm4 0h-2V7h2v10zm4 0h-2v-4h2v4z\"/>\n",
              "    </g>\n",
              "</svg>\n",
              "  </button>\n",
              "\n",
              "<style>\n",
              "  .colab-df-quickchart {\n",
              "      --bg-color: #E8F0FE;\n",
              "      --fill-color: #1967D2;\n",
              "      --hover-bg-color: #E2EBFA;\n",
              "      --hover-fill-color: #174EA6;\n",
              "      --disabled-fill-color: #AAA;\n",
              "      --disabled-bg-color: #DDD;\n",
              "  }\n",
              "\n",
              "  [theme=dark] .colab-df-quickchart {\n",
              "      --bg-color: #3B4455;\n",
              "      --fill-color: #D2E3FC;\n",
              "      --hover-bg-color: #434B5C;\n",
              "      --hover-fill-color: #FFFFFF;\n",
              "      --disabled-bg-color: #3B4455;\n",
              "      --disabled-fill-color: #666;\n",
              "  }\n",
              "\n",
              "  .colab-df-quickchart {\n",
              "    background-color: var(--bg-color);\n",
              "    border: none;\n",
              "    border-radius: 50%;\n",
              "    cursor: pointer;\n",
              "    display: none;\n",
              "    fill: var(--fill-color);\n",
              "    height: 32px;\n",
              "    padding: 0;\n",
              "    width: 32px;\n",
              "  }\n",
              "\n",
              "  .colab-df-quickchart:hover {\n",
              "    background-color: var(--hover-bg-color);\n",
              "    box-shadow: 0 1px 2px rgba(60, 64, 67, 0.3), 0 1px 3px 1px rgba(60, 64, 67, 0.15);\n",
              "    fill: var(--button-hover-fill-color);\n",
              "  }\n",
              "\n",
              "  .colab-df-quickchart-complete:disabled,\n",
              "  .colab-df-quickchart-complete:disabled:hover {\n",
              "    background-color: var(--disabled-bg-color);\n",
              "    fill: var(--disabled-fill-color);\n",
              "    box-shadow: none;\n",
              "  }\n",
              "\n",
              "  .colab-df-spinner {\n",
              "    border: 2px solid var(--fill-color);\n",
              "    border-color: transparent;\n",
              "    border-bottom-color: var(--fill-color);\n",
              "    animation:\n",
              "      spin 1s steps(1) infinite;\n",
              "  }\n",
              "\n",
              "  @keyframes spin {\n",
              "    0% {\n",
              "      border-color: transparent;\n",
              "      border-bottom-color: var(--fill-color);\n",
              "      border-left-color: var(--fill-color);\n",
              "    }\n",
              "    20% {\n",
              "      border-color: transparent;\n",
              "      border-left-color: var(--fill-color);\n",
              "      border-top-color: var(--fill-color);\n",
              "    }\n",
              "    30% {\n",
              "      border-color: transparent;\n",
              "      border-left-color: var(--fill-color);\n",
              "      border-top-color: var(--fill-color);\n",
              "      border-right-color: var(--fill-color);\n",
              "    }\n",
              "    40% {\n",
              "      border-color: transparent;\n",
              "      border-right-color: var(--fill-color);\n",
              "      border-top-color: var(--fill-color);\n",
              "    }\n",
              "    60% {\n",
              "      border-color: transparent;\n",
              "      border-right-color: var(--fill-color);\n",
              "    }\n",
              "    80% {\n",
              "      border-color: transparent;\n",
              "      border-right-color: var(--fill-color);\n",
              "      border-bottom-color: var(--fill-color);\n",
              "    }\n",
              "    90% {\n",
              "      border-color: transparent;\n",
              "      border-bottom-color: var(--fill-color);\n",
              "    }\n",
              "  }\n",
              "</style>\n",
              "\n",
              "  <script>\n",
              "    async function quickchart(key) {\n",
              "      const quickchartButtonEl =\n",
              "        document.querySelector('#' + key + ' button');\n",
              "      quickchartButtonEl.disabled = true;  // To prevent multiple clicks.\n",
              "      quickchartButtonEl.classList.add('colab-df-spinner');\n",
              "      try {\n",
              "        const charts = await google.colab.kernel.invokeFunction(\n",
              "            'suggestCharts', [key], {});\n",
              "      } catch (error) {\n",
              "        console.error('Error during call to suggestCharts:', error);\n",
              "      }\n",
              "      quickchartButtonEl.classList.remove('colab-df-spinner');\n",
              "      quickchartButtonEl.classList.add('colab-df-quickchart-complete');\n",
              "    }\n",
              "    (() => {\n",
              "      let quickchartButtonEl =\n",
              "        document.querySelector('#df-2bca0648-cb92-4d9c-aed5-7838925b44ad button');\n",
              "      quickchartButtonEl.style.display =\n",
              "        google.colab.kernel.accessAllowed ? 'block' : 'none';\n",
              "    })();\n",
              "  </script>\n",
              "</div>\n",
              "    </div>\n",
              "  </div>\n"
            ]
          },
          "metadata": {},
          "execution_count": 41
        }
      ]
    },
    {
      "cell_type": "markdown",
      "source": [
        "### Exporting clean CSV"
      ],
      "metadata": {
        "id": "rZz0qDjOlAft"
      }
    },
    {
      "cell_type": "markdown",
      "source": [
        "Our Device Location dataset is satisfactorily clean for my liking. Time to export it!"
      ],
      "metadata": {
        "id": "_nLpbgsdlGkT"
      }
    },
    {
      "cell_type": "code",
      "source": [
        "device_location_clean.to_csv('device_location_clean.csv')"
      ],
      "metadata": {
        "id": "aox5p6FUlGIZ"
      },
      "execution_count": null,
      "outputs": []
    },
    {
      "cell_type": "markdown",
      "source": [
        "## 2. Inventory Viewability Reporting\n",
        "___"
      ],
      "metadata": {
        "id": "D1TEx67zDNLj"
      }
    },
    {
      "cell_type": "markdown",
      "source": [
        "Initial View"
      ],
      "metadata": {
        "id": "cSs83pTUDNLn"
      }
    },
    {
      "cell_type": "code",
      "source": [
        "inventory_viewability.head()"
      ],
      "metadata": {
        "colab": {
          "base_uri": "https://localhost:8080/",
          "height": 313
        },
        "outputId": "9e629e4b-3719-44cd-b03c-3f22d7b1edda",
        "id": "NnGPnMIuDNLn"
      },
      "execution_count": null,
      "outputs": [
        {
          "output_type": "execute_result",
          "data": {
            "text/plain": [
              "            Brand_Company_Name                      Strategy__        App_URL  \\\n",
              "0  Choose your advertiser name  Desktop_2P_Affinity Categories         al.com   \n",
              "1  Choose your advertiser name  Desktop_2P_Affinity Categories  carscoops.com   \n",
              "2  Choose your advertiser name  Desktop_2P_Affinity Categories  cleveland.com   \n",
              "3  Choose your advertiser name  Desktop_2P_Affinity Categories      doviz.com   \n",
              "4  Choose your advertiser name  Desktop_2P_Affinity Categories  e.walla.co.il   \n",
              "\n",
              "  Exchange  Impressions  Clicks  Total_Conversions  Gross_Cost  Net_Cost  \\\n",
              "0  Taboola         2401       0                  0    3.106056  0.997044   \n",
              "1  Taboola          148       0                  0    0.527778  0.169417   \n",
              "2  Taboola          180       0                  0    0.235679  0.075653   \n",
              "3   Adform           19       0                  0    0.003110  0.000998   \n",
              "4  Taboola           26       0                  0    0.032122  0.010311   \n",
              "\n",
              "   Viewable_Impressions  Measurable_Impressions  \n",
              "0                  1551                    2122  \n",
              "1                    37                     126  \n",
              "2                    97                     151  \n",
              "3                    12                      21  \n",
              "4                     7                      27  "
            ],
            "text/html": [
              "\n",
              "  <div id=\"df-79dbcaf8-66b8-47ac-bed5-d70e03cec8ed\" class=\"colab-df-container\">\n",
              "    <div>\n",
              "<style scoped>\n",
              "    .dataframe tbody tr th:only-of-type {\n",
              "        vertical-align: middle;\n",
              "    }\n",
              "\n",
              "    .dataframe tbody tr th {\n",
              "        vertical-align: top;\n",
              "    }\n",
              "\n",
              "    .dataframe thead th {\n",
              "        text-align: right;\n",
              "    }\n",
              "</style>\n",
              "<table border=\"1\" class=\"dataframe\">\n",
              "  <thead>\n",
              "    <tr style=\"text-align: right;\">\n",
              "      <th></th>\n",
              "      <th>Brand_Company_Name</th>\n",
              "      <th>Strategy__</th>\n",
              "      <th>App_URL</th>\n",
              "      <th>Exchange</th>\n",
              "      <th>Impressions</th>\n",
              "      <th>Clicks</th>\n",
              "      <th>Total_Conversions</th>\n",
              "      <th>Gross_Cost</th>\n",
              "      <th>Net_Cost</th>\n",
              "      <th>Viewable_Impressions</th>\n",
              "      <th>Measurable_Impressions</th>\n",
              "    </tr>\n",
              "  </thead>\n",
              "  <tbody>\n",
              "    <tr>\n",
              "      <th>0</th>\n",
              "      <td>Choose your advertiser name</td>\n",
              "      <td>Desktop_2P_Affinity Categories</td>\n",
              "      <td>al.com</td>\n",
              "      <td>Taboola</td>\n",
              "      <td>2401</td>\n",
              "      <td>0</td>\n",
              "      <td>0</td>\n",
              "      <td>3.106056</td>\n",
              "      <td>0.997044</td>\n",
              "      <td>1551</td>\n",
              "      <td>2122</td>\n",
              "    </tr>\n",
              "    <tr>\n",
              "      <th>1</th>\n",
              "      <td>Choose your advertiser name</td>\n",
              "      <td>Desktop_2P_Affinity Categories</td>\n",
              "      <td>carscoops.com</td>\n",
              "      <td>Taboola</td>\n",
              "      <td>148</td>\n",
              "      <td>0</td>\n",
              "      <td>0</td>\n",
              "      <td>0.527778</td>\n",
              "      <td>0.169417</td>\n",
              "      <td>37</td>\n",
              "      <td>126</td>\n",
              "    </tr>\n",
              "    <tr>\n",
              "      <th>2</th>\n",
              "      <td>Choose your advertiser name</td>\n",
              "      <td>Desktop_2P_Affinity Categories</td>\n",
              "      <td>cleveland.com</td>\n",
              "      <td>Taboola</td>\n",
              "      <td>180</td>\n",
              "      <td>0</td>\n",
              "      <td>0</td>\n",
              "      <td>0.235679</td>\n",
              "      <td>0.075653</td>\n",
              "      <td>97</td>\n",
              "      <td>151</td>\n",
              "    </tr>\n",
              "    <tr>\n",
              "      <th>3</th>\n",
              "      <td>Choose your advertiser name</td>\n",
              "      <td>Desktop_2P_Affinity Categories</td>\n",
              "      <td>doviz.com</td>\n",
              "      <td>Adform</td>\n",
              "      <td>19</td>\n",
              "      <td>0</td>\n",
              "      <td>0</td>\n",
              "      <td>0.003110</td>\n",
              "      <td>0.000998</td>\n",
              "      <td>12</td>\n",
              "      <td>21</td>\n",
              "    </tr>\n",
              "    <tr>\n",
              "      <th>4</th>\n",
              "      <td>Choose your advertiser name</td>\n",
              "      <td>Desktop_2P_Affinity Categories</td>\n",
              "      <td>e.walla.co.il</td>\n",
              "      <td>Taboola</td>\n",
              "      <td>26</td>\n",
              "      <td>0</td>\n",
              "      <td>0</td>\n",
              "      <td>0.032122</td>\n",
              "      <td>0.010311</td>\n",
              "      <td>7</td>\n",
              "      <td>27</td>\n",
              "    </tr>\n",
              "  </tbody>\n",
              "</table>\n",
              "</div>\n",
              "    <div class=\"colab-df-buttons\">\n",
              "\n",
              "  <div class=\"colab-df-container\">\n",
              "    <button class=\"colab-df-convert\" onclick=\"convertToInteractive('df-79dbcaf8-66b8-47ac-bed5-d70e03cec8ed')\"\n",
              "            title=\"Convert this dataframe to an interactive table.\"\n",
              "            style=\"display:none;\">\n",
              "\n",
              "  <svg xmlns=\"http://www.w3.org/2000/svg\" height=\"24px\" viewBox=\"0 -960 960 960\">\n",
              "    <path d=\"M120-120v-720h720v720H120Zm60-500h600v-160H180v160Zm220 220h160v-160H400v160Zm0 220h160v-160H400v160ZM180-400h160v-160H180v160Zm440 0h160v-160H620v160ZM180-180h160v-160H180v160Zm440 0h160v-160H620v160Z\"/>\n",
              "  </svg>\n",
              "    </button>\n",
              "\n",
              "  <style>\n",
              "    .colab-df-container {\n",
              "      display:flex;\n",
              "      gap: 12px;\n",
              "    }\n",
              "\n",
              "    .colab-df-convert {\n",
              "      background-color: #E8F0FE;\n",
              "      border: none;\n",
              "      border-radius: 50%;\n",
              "      cursor: pointer;\n",
              "      display: none;\n",
              "      fill: #1967D2;\n",
              "      height: 32px;\n",
              "      padding: 0 0 0 0;\n",
              "      width: 32px;\n",
              "    }\n",
              "\n",
              "    .colab-df-convert:hover {\n",
              "      background-color: #E2EBFA;\n",
              "      box-shadow: 0px 1px 2px rgba(60, 64, 67, 0.3), 0px 1px 3px 1px rgba(60, 64, 67, 0.15);\n",
              "      fill: #174EA6;\n",
              "    }\n",
              "\n",
              "    .colab-df-buttons div {\n",
              "      margin-bottom: 4px;\n",
              "    }\n",
              "\n",
              "    [theme=dark] .colab-df-convert {\n",
              "      background-color: #3B4455;\n",
              "      fill: #D2E3FC;\n",
              "    }\n",
              "\n",
              "    [theme=dark] .colab-df-convert:hover {\n",
              "      background-color: #434B5C;\n",
              "      box-shadow: 0px 1px 3px 1px rgba(0, 0, 0, 0.15);\n",
              "      filter: drop-shadow(0px 1px 2px rgba(0, 0, 0, 0.3));\n",
              "      fill: #FFFFFF;\n",
              "    }\n",
              "  </style>\n",
              "\n",
              "    <script>\n",
              "      const buttonEl =\n",
              "        document.querySelector('#df-79dbcaf8-66b8-47ac-bed5-d70e03cec8ed button.colab-df-convert');\n",
              "      buttonEl.style.display =\n",
              "        google.colab.kernel.accessAllowed ? 'block' : 'none';\n",
              "\n",
              "      async function convertToInteractive(key) {\n",
              "        const element = document.querySelector('#df-79dbcaf8-66b8-47ac-bed5-d70e03cec8ed');\n",
              "        const dataTable =\n",
              "          await google.colab.kernel.invokeFunction('convertToInteractive',\n",
              "                                                    [key], {});\n",
              "        if (!dataTable) return;\n",
              "\n",
              "        const docLinkHtml = 'Like what you see? Visit the ' +\n",
              "          '<a target=\"_blank\" href=https://colab.research.google.com/notebooks/data_table.ipynb>data table notebook</a>'\n",
              "          + ' to learn more about interactive tables.';\n",
              "        element.innerHTML = '';\n",
              "        dataTable['output_type'] = 'display_data';\n",
              "        await google.colab.output.renderOutput(dataTable, element);\n",
              "        const docLink = document.createElement('div');\n",
              "        docLink.innerHTML = docLinkHtml;\n",
              "        element.appendChild(docLink);\n",
              "      }\n",
              "    </script>\n",
              "  </div>\n",
              "\n",
              "\n",
              "<div id=\"df-6e64345a-6146-45c5-b38d-a8cf2e68a037\">\n",
              "  <button class=\"colab-df-quickchart\" onclick=\"quickchart('df-6e64345a-6146-45c5-b38d-a8cf2e68a037')\"\n",
              "            title=\"Suggest charts\"\n",
              "            style=\"display:none;\">\n",
              "\n",
              "<svg xmlns=\"http://www.w3.org/2000/svg\" height=\"24px\"viewBox=\"0 0 24 24\"\n",
              "     width=\"24px\">\n",
              "    <g>\n",
              "        <path d=\"M19 3H5c-1.1 0-2 .9-2 2v14c0 1.1.9 2 2 2h14c1.1 0 2-.9 2-2V5c0-1.1-.9-2-2-2zM9 17H7v-7h2v7zm4 0h-2V7h2v10zm4 0h-2v-4h2v4z\"/>\n",
              "    </g>\n",
              "</svg>\n",
              "  </button>\n",
              "\n",
              "<style>\n",
              "  .colab-df-quickchart {\n",
              "      --bg-color: #E8F0FE;\n",
              "      --fill-color: #1967D2;\n",
              "      --hover-bg-color: #E2EBFA;\n",
              "      --hover-fill-color: #174EA6;\n",
              "      --disabled-fill-color: #AAA;\n",
              "      --disabled-bg-color: #DDD;\n",
              "  }\n",
              "\n",
              "  [theme=dark] .colab-df-quickchart {\n",
              "      --bg-color: #3B4455;\n",
              "      --fill-color: #D2E3FC;\n",
              "      --hover-bg-color: #434B5C;\n",
              "      --hover-fill-color: #FFFFFF;\n",
              "      --disabled-bg-color: #3B4455;\n",
              "      --disabled-fill-color: #666;\n",
              "  }\n",
              "\n",
              "  .colab-df-quickchart {\n",
              "    background-color: var(--bg-color);\n",
              "    border: none;\n",
              "    border-radius: 50%;\n",
              "    cursor: pointer;\n",
              "    display: none;\n",
              "    fill: var(--fill-color);\n",
              "    height: 32px;\n",
              "    padding: 0;\n",
              "    width: 32px;\n",
              "  }\n",
              "\n",
              "  .colab-df-quickchart:hover {\n",
              "    background-color: var(--hover-bg-color);\n",
              "    box-shadow: 0 1px 2px rgba(60, 64, 67, 0.3), 0 1px 3px 1px rgba(60, 64, 67, 0.15);\n",
              "    fill: var(--button-hover-fill-color);\n",
              "  }\n",
              "\n",
              "  .colab-df-quickchart-complete:disabled,\n",
              "  .colab-df-quickchart-complete:disabled:hover {\n",
              "    background-color: var(--disabled-bg-color);\n",
              "    fill: var(--disabled-fill-color);\n",
              "    box-shadow: none;\n",
              "  }\n",
              "\n",
              "  .colab-df-spinner {\n",
              "    border: 2px solid var(--fill-color);\n",
              "    border-color: transparent;\n",
              "    border-bottom-color: var(--fill-color);\n",
              "    animation:\n",
              "      spin 1s steps(1) infinite;\n",
              "  }\n",
              "\n",
              "  @keyframes spin {\n",
              "    0% {\n",
              "      border-color: transparent;\n",
              "      border-bottom-color: var(--fill-color);\n",
              "      border-left-color: var(--fill-color);\n",
              "    }\n",
              "    20% {\n",
              "      border-color: transparent;\n",
              "      border-left-color: var(--fill-color);\n",
              "      border-top-color: var(--fill-color);\n",
              "    }\n",
              "    30% {\n",
              "      border-color: transparent;\n",
              "      border-left-color: var(--fill-color);\n",
              "      border-top-color: var(--fill-color);\n",
              "      border-right-color: var(--fill-color);\n",
              "    }\n",
              "    40% {\n",
              "      border-color: transparent;\n",
              "      border-right-color: var(--fill-color);\n",
              "      border-top-color: var(--fill-color);\n",
              "    }\n",
              "    60% {\n",
              "      border-color: transparent;\n",
              "      border-right-color: var(--fill-color);\n",
              "    }\n",
              "    80% {\n",
              "      border-color: transparent;\n",
              "      border-right-color: var(--fill-color);\n",
              "      border-bottom-color: var(--fill-color);\n",
              "    }\n",
              "    90% {\n",
              "      border-color: transparent;\n",
              "      border-bottom-color: var(--fill-color);\n",
              "    }\n",
              "  }\n",
              "</style>\n",
              "\n",
              "  <script>\n",
              "    async function quickchart(key) {\n",
              "      const quickchartButtonEl =\n",
              "        document.querySelector('#' + key + ' button');\n",
              "      quickchartButtonEl.disabled = true;  // To prevent multiple clicks.\n",
              "      quickchartButtonEl.classList.add('colab-df-spinner');\n",
              "      try {\n",
              "        const charts = await google.colab.kernel.invokeFunction(\n",
              "            'suggestCharts', [key], {});\n",
              "      } catch (error) {\n",
              "        console.error('Error during call to suggestCharts:', error);\n",
              "      }\n",
              "      quickchartButtonEl.classList.remove('colab-df-spinner');\n",
              "      quickchartButtonEl.classList.add('colab-df-quickchart-complete');\n",
              "    }\n",
              "    (() => {\n",
              "      let quickchartButtonEl =\n",
              "        document.querySelector('#df-6e64345a-6146-45c5-b38d-a8cf2e68a037 button');\n",
              "      quickchartButtonEl.style.display =\n",
              "        google.colab.kernel.accessAllowed ? 'block' : 'none';\n",
              "    })();\n",
              "  </script>\n",
              "</div>\n",
              "    </div>\n",
              "  </div>\n"
            ]
          },
          "metadata": {},
          "execution_count": 25
        }
      ]
    },
    {
      "cell_type": "markdown",
      "source": [
        "Data has over a million rows (1,037,468) across 11 rows!"
      ],
      "metadata": {
        "id": "sgYZhzGgDuB7"
      }
    },
    {
      "cell_type": "code",
      "source": [
        "inventory_viewability.shape"
      ],
      "metadata": {
        "colab": {
          "base_uri": "https://localhost:8080/"
        },
        "id": "c08p178sDmPE",
        "outputId": "540c75cb-1800-4c79-c3a0-d1be9f4b1eca"
      },
      "execution_count": null,
      "outputs": [
        {
          "output_type": "execute_result",
          "data": {
            "text/plain": [
              "(1037468, 11)"
            ]
          },
          "metadata": {},
          "execution_count": 26
        }
      ]
    },
    {
      "cell_type": "markdown",
      "source": [
        "Inventory Viewability dataset has financial information on cost"
      ],
      "metadata": {
        "id": "wyhJUt9-FNNQ"
      }
    },
    {
      "cell_type": "code",
      "source": [
        "inventory_viewability.info()"
      ],
      "metadata": {
        "colab": {
          "base_uri": "https://localhost:8080/"
        },
        "id": "RqkK5NLJEM1R",
        "outputId": "3acb9b03-f170-4712-d9a4-1f130bfc3fe1"
      },
      "execution_count": null,
      "outputs": [
        {
          "output_type": "stream",
          "name": "stdout",
          "text": [
            "<class 'pandas.core.frame.DataFrame'>\n",
            "RangeIndex: 1037468 entries, 0 to 1037467\n",
            "Data columns (total 11 columns):\n",
            " #   Column                  Non-Null Count    Dtype  \n",
            "---  ------                  --------------    -----  \n",
            " 0   Brand_Company_Name      1037466 non-null  object \n",
            " 1   Strategy__              1037466 non-null  object \n",
            " 2   App_URL                 1037466 non-null  object \n",
            " 3   Exchange                1037466 non-null  object \n",
            " 4   Impressions             1037466 non-null  Int64  \n",
            " 5   Clicks                  1037466 non-null  Int64  \n",
            " 6   Total_Conversions       1037466 non-null  Int64  \n",
            " 7   Gross_Cost              1037466 non-null  float64\n",
            " 8   Net_Cost                1037466 non-null  float64\n",
            " 9   Viewable_Impressions    1037466 non-null  Int64  \n",
            " 10  Measurable_Impressions  1037466 non-null  Int64  \n",
            "dtypes: Int64(5), float64(2), object(4)\n",
            "memory usage: 92.0+ MB\n"
          ]
        }
      ]
    },
    {
      "cell_type": "code",
      "source": [],
      "metadata": {
        "id": "LXLnqSy4EW_p"
      },
      "execution_count": null,
      "outputs": []
    }
  ]
}